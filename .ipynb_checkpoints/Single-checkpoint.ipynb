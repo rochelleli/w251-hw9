{
 "cells": [
  {
   "cell_type": "code",
   "execution_count": 1,
   "id": "360fda9f",
   "metadata": {},
   "outputs": [],
   "source": [
    "import os\n",
    "import random\n",
    "import shutil\n",
    "import time\n",
    "import warnings\n",
    "\n",
    "import torch\n",
    "import torch.nn as nn\n",
    "import torch.backends.cudnn as cudnn\n",
    "import torch.optim\n",
    "\n",
    "import torch.utils.data\n",
    "import torchvision\n",
    "import torchvision.transforms as transforms\n",
    "import torchvision.datasets as datasets\n",
    "import torchvision.models as models"
   ]
  },
  {
   "cell_type": "code",
   "execution_count": 2,
   "id": "7ed2b7c7",
   "metadata": {},
   "outputs": [],
   "source": [
    "from torch.cuda.amp import GradScaler\n",
    "from torch.cuda.amp import autocast"
   ]
  },
  {
   "cell_type": "code",
   "execution_count": 3,
   "id": "dc7987d0",
   "metadata": {},
   "outputs": [],
   "source": [
    "from torch.utils.tensorboard import SummaryWriter\n",
    "writer = SummaryWriter()"
   ]
  },
  {
   "cell_type": "code",
   "execution_count": 4,
   "id": "6ef8e6ba",
   "metadata": {},
   "outputs": [
    {
     "name": "stdout",
     "output_type": "stream",
     "text": [
      "Collecting wandb\n",
      "  Downloading wandb-0.12.6-py2.py3-none-any.whl (1.7 MB)\n",
      "\u001b[K     |████████████████████████████████| 1.7 MB 6.6 MB/s eta 0:00:01\n",
      "\u001b[?25hRequirement already satisfied: Click!=8.0.0,>=7.0 in /opt/conda/lib/python3.8/site-packages (from wandb) (7.1.2)\n",
      "Collecting shortuuid>=0.5.0\n",
      "  Downloading shortuuid-1.0.1-py3-none-any.whl (7.5 kB)\n",
      "Collecting yaspin>=1.0.0\n",
      "  Downloading yaspin-2.1.0-py3-none-any.whl (18 kB)\n",
      "Collecting sentry-sdk>=1.0.0\n",
      "  Downloading sentry_sdk-1.4.3-py2.py3-none-any.whl (139 kB)\n",
      "\u001b[K     |████████████████████████████████| 139 kB 108.3 MB/s eta 0:00:01\n",
      "\u001b[?25hRequirement already satisfied: protobuf>=3.12.0 in /opt/conda/lib/python3.8/site-packages (from wandb) (3.17.3)\n",
      "Requirement already satisfied: PyYAML in /opt/conda/lib/python3.8/site-packages (from wandb) (5.4.1)\n",
      "Collecting pathtools\n",
      "  Downloading pathtools-0.1.2.tar.gz (11 kB)\n",
      "Collecting GitPython>=1.0.0\n",
      "  Downloading GitPython-3.1.24-py3-none-any.whl (180 kB)\n",
      "\u001b[K     |████████████████████████████████| 180 kB 93.0 MB/s eta 0:00:01\n",
      "\u001b[?25hRequirement already satisfied: python-dateutil>=2.6.1 in /opt/conda/lib/python3.8/site-packages (from wandb) (2.8.2)\n",
      "Requirement already satisfied: psutil>=5.0.0 in /opt/conda/lib/python3.8/site-packages (from wandb) (5.8.0)\n",
      "Requirement already satisfied: six>=1.13.0 in /opt/conda/lib/python3.8/site-packages (from wandb) (1.16.0)\n",
      "Collecting promise<3,>=2.0\n",
      "  Downloading promise-2.3.tar.gz (19 kB)\n",
      "Collecting docker-pycreds>=0.4.0\n",
      "  Downloading docker_pycreds-0.4.0-py2.py3-none-any.whl (9.0 kB)\n",
      "Collecting configparser>=3.8.1\n",
      "  Downloading configparser-5.0.2-py3-none-any.whl (19 kB)\n",
      "Requirement already satisfied: requests<3,>=2.0.0 in /opt/conda/lib/python3.8/site-packages (from wandb) (2.26.0)\n",
      "Collecting subprocess32>=3.5.3\n",
      "  Downloading subprocess32-3.5.4.tar.gz (97 kB)\n",
      "\u001b[K     |████████████████████████████████| 97 kB 13.8 MB/s eta 0:00:01\n",
      "\u001b[?25hCollecting gitdb<5,>=4.0.1\n",
      "  Downloading gitdb-4.0.9-py3-none-any.whl (63 kB)\n",
      "\u001b[K     |████████████████████████████████| 63 kB 3.6 MB/s  eta 0:00:01\n",
      "\u001b[?25hRequirement already satisfied: typing-extensions>=3.7.4.3 in /opt/conda/lib/python3.8/site-packages (from GitPython>=1.0.0->wandb) (3.10.0.0)\n",
      "Collecting smmap<6,>=3.0.1\n",
      "  Downloading smmap-5.0.0-py3-none-any.whl (24 kB)\n",
      "Requirement already satisfied: urllib3<1.27,>=1.21.1 in /opt/conda/lib/python3.8/site-packages (from requests<3,>=2.0.0->wandb) (1.26.6)\n",
      "Requirement already satisfied: charset-normalizer~=2.0.0 in /opt/conda/lib/python3.8/site-packages (from requests<3,>=2.0.0->wandb) (2.0.0)\n",
      "Requirement already satisfied: certifi>=2017.4.17 in /opt/conda/lib/python3.8/site-packages (from requests<3,>=2.0.0->wandb) (2021.5.30)\n",
      "Requirement already satisfied: idna<4,>=2.5 in /opt/conda/lib/python3.8/site-packages (from requests<3,>=2.0.0->wandb) (3.1)\n",
      "Collecting termcolor<2.0.0,>=1.1.0\n",
      "  Downloading termcolor-1.1.0.tar.gz (3.9 kB)\n",
      "Building wheels for collected packages: promise, subprocess32, termcolor, pathtools\n",
      "  Building wheel for promise (setup.py) ... \u001b[?25ldone\n",
      "\u001b[?25h  Created wheel for promise: filename=promise-2.3-py3-none-any.whl size=21502 sha256=d1e96ee754b60142006ae6154cbb03c44a6c9cadbf09017204c9db40d9f9013b\n",
      "  Stored in directory: /root/.cache/pip/wheels/54/aa/01/724885182f93150035a2a91bce34a12877e8067a97baaf5dc8\n",
      "  Building wheel for subprocess32 (setup.py) ... \u001b[?25ldone\n",
      "\u001b[?25h  Created wheel for subprocess32: filename=subprocess32-3.5.4-py3-none-any.whl size=6502 sha256=fb42cb5354f07eef2b8aa31ce727cf7a2d8013842b8bb92b6efa16bc5de809f5\n",
      "  Stored in directory: /root/.cache/pip/wheels/9f/69/d1/50b39b308a87998eaf5c1d9095e5a5bd2ad98501e2b7936d36\n",
      "  Building wheel for termcolor (setup.py) ... \u001b[?25ldone\n",
      "\u001b[?25h  Created wheel for termcolor: filename=termcolor-1.1.0-py3-none-any.whl size=4847 sha256=bfc0d7aa5b74c50e177c51113c43646030d2c1f18012183222795f686fb11f87\n",
      "  Stored in directory: /root/.cache/pip/wheels/a0/16/9c/5473df82468f958445479c59e784896fa24f4a5fc024b0f501\n",
      "  Building wheel for pathtools (setup.py) ... \u001b[?25ldone\n",
      "\u001b[?25h  Created wheel for pathtools: filename=pathtools-0.1.2-py3-none-any.whl size=8807 sha256=94b1cb52dd55d0928a9b7577304cf0afa3eb8642e6308e382f3f3f5efab6e669\n",
      "  Stored in directory: /root/.cache/pip/wheels/4c/8e/7e/72fbc243e1aeecae64a96875432e70d4e92f3d2d18123be004\n",
      "Successfully built promise subprocess32 termcolor pathtools\n",
      "Installing collected packages: smmap, termcolor, gitdb, yaspin, subprocess32, shortuuid, sentry-sdk, promise, pathtools, GitPython, docker-pycreds, configparser, wandb\n",
      "Successfully installed GitPython-3.1.24 configparser-5.0.2 docker-pycreds-0.4.0 gitdb-4.0.9 pathtools-0.1.2 promise-2.3 sentry-sdk-1.4.3 shortuuid-1.0.1 smmap-5.0.0 subprocess32-3.5.4 termcolor-1.1.0 wandb-0.12.6 yaspin-2.1.0\n",
      "\u001b[33mWARNING: Running pip as the 'root' user can result in broken permissions and conflicting behaviour with the system package manager. It is recommended to use a virtual environment instead: https://pip.pypa.io/warnings/venv\u001b[0m\n"
     ]
    }
   ],
   "source": [
    "!pip install wandb"
   ]
  },
  {
   "cell_type": "code",
   "execution_count": 6,
   "id": "7b58f3f3",
   "metadata": {},
   "outputs": [
    {
     "name": "stderr",
     "output_type": "stream",
     "text": [
      "\u001b[34m\u001b[1mwandb\u001b[0m: You can find your API key in your browser here: https://wandb.ai/authorize\n"
     ]
    },
    {
     "name": "stdout",
     "output_type": "stream",
     "text": [
      "wandb: Paste an API key from your profile and hit enter: ········\n"
     ]
    },
    {
     "name": "stderr",
     "output_type": "stream",
     "text": [
      "\u001b[34m\u001b[1mwandb\u001b[0m: Appending key for api.wandb.ai to your netrc file: /root/.netrc\n"
     ]
    },
    {
     "data": {
      "text/plain": [
       "True"
      ]
     },
     "execution_count": 6,
     "metadata": {},
     "output_type": "execute_result"
    }
   ],
   "source": [
    "import wandb\n",
    "wandb.login()"
   ]
  },
  {
   "cell_type": "code",
   "execution_count": 7,
   "id": "b86dd624",
   "metadata": {
    "scrolled": true
   },
   "outputs": [
    {
     "name": "stderr",
     "output_type": "stream",
     "text": [
      "\u001b[34m\u001b[1mwandb\u001b[0m: Currently logged in as: \u001b[33mrochelleli\u001b[0m (use `wandb login --relogin` to force relogin)\n"
     ]
    },
    {
     "data": {
      "text/html": [
       "\n",
       "                    Syncing run <strong><a href=\"https://wandb.ai/rochelleli/w251-hw9/runs/1pgsa3v1\" target=\"_blank\">costumed-specter-1</a></strong> to <a href=\"https://wandb.ai/rochelleli/w251-hw9\" target=\"_blank\">Weights & Biases</a> (<a href=\"https://docs.wandb.com/integrations/jupyter.html\" target=\"_blank\">docs</a>).<br/>\n",
       "\n",
       "                "
      ],
      "text/plain": [
       "<IPython.core.display.HTML object>"
      ]
     },
     "metadata": {},
     "output_type": "display_data"
    },
    {
     "data": {
      "text/html": [
       "<button onClick=\"this.nextSibling.style.display='block';this.style.display='none';\">Display W&B run</button><iframe src=\"https://wandb.ai/rochelleli/w251-hw9/runs/1pgsa3v1?jupyter=true\" style=\"border:none;width:100%;height:420px;display:none;\"></iframe>"
      ],
      "text/plain": [
       "<wandb.sdk.wandb_run.Run at 0x7fa09851f8b0>"
      ]
     },
     "execution_count": 7,
     "metadata": {},
     "output_type": "execute_result"
    }
   ],
   "source": [
    "wandb.init(project=\"w251-hw9\", entity=\"rochelleli\")"
   ]
  },
  {
   "cell_type": "code",
   "execution_count": 8,
   "id": "06882033",
   "metadata": {},
   "outputs": [],
   "source": [
    "SEED=1\n",
    "\n",
    "random.seed(SEED)\n",
    "torch.manual_seed(SEED)\n",
    "cudnn.deterministic = True"
   ]
  },
  {
   "cell_type": "code",
   "execution_count": 9,
   "id": "32882d1e",
   "metadata": {},
   "outputs": [
    {
     "data": {
      "text/plain": [
       "1"
      ]
     },
     "execution_count": 9,
     "metadata": {},
     "output_type": "execute_result"
    }
   ],
   "source": [
    "torch.cuda.device_count()"
   ]
  },
  {
   "cell_type": "code",
   "execution_count": 10,
   "id": "23b7fab4",
   "metadata": {},
   "outputs": [],
   "source": [
    "START_EPOCH = 0"
   ]
  },
  {
   "cell_type": "code",
   "execution_count": 14,
   "id": "e5c91c7c",
   "metadata": {},
   "outputs": [],
   "source": [
    "ARCH = 'resnet18'\n",
    "EPOCHS = 2\n",
    "LR = 0.1\n",
    "MOMENTUM = 0.9\n",
    "WEIGHT_DECAY = 1e-4\n",
    "PRINT_FREQ = 10\n",
    "TRAIN_BATCH=500\n",
    "VAL_BATCH=500\n",
    "WORKERS=2\n",
    "TRAINDIR=\"/home/ubuntu/data/train\"\n",
    "VALDIR=\"/home/ubuntu/data/val\""
   ]
  },
  {
   "cell_type": "code",
   "execution_count": 15,
   "id": "12a8032b",
   "metadata": {},
   "outputs": [],
   "source": [
    "if not torch.cuda.is_available():\n",
    "    print('GPU not detected.. did you pass through your GPU?')"
   ]
  },
  {
   "cell_type": "code",
   "execution_count": 16,
   "id": "f49df31e",
   "metadata": {},
   "outputs": [
    {
     "data": {
      "text/html": [
       "Finishing last run (ID:1pgsa3v1) before initializing another..."
      ],
      "text/plain": [
       "<IPython.core.display.HTML object>"
      ]
     },
     "metadata": {},
     "output_type": "display_data"
    },
    {
     "data": {
      "text/html": [
       "<br/>Waiting for W&B process to finish, PID 449... <strong style=\"color:green\">(success).</strong>"
      ],
      "text/plain": [
       "<IPython.core.display.HTML object>"
      ]
     },
     "metadata": {},
     "output_type": "display_data"
    },
    {
     "data": {
      "text/html": [
       "<style>\n",
       "    table.wandb td:nth-child(1) { padding: 0 10px; text-align: right }\n",
       "    .wandb-row { display: flex; flex-direction: row; flex-wrap: wrap; width: 100% }\n",
       "    .wandb-col { display: flex; flex-direction: column; flex-basis: 100%; flex: 1; padding: 10px; }\n",
       "    </style>\n",
       "<div class=\"wandb-row\"><div class=\"wandb-col\">\n",
       "</div><div class=\"wandb-col\">\n",
       "</div></div>\n",
       "Synced 5 W&B file(s), 0 media file(s), 0 artifact file(s) and 0 other file(s)\n",
       "<br/>Synced <strong style=\"color:#cdcd00\">costumed-specter-1</strong>: <a href=\"https://wandb.ai/rochelleli/w251-hw9/runs/1pgsa3v1\" target=\"_blank\">https://wandb.ai/rochelleli/w251-hw9/runs/1pgsa3v1</a><br/>\n",
       "Find logs at: <code>./wandb/run-20211031_065745-1pgsa3v1/logs</code><br/>\n"
      ],
      "text/plain": [
       "<IPython.core.display.HTML object>"
      ]
     },
     "metadata": {},
     "output_type": "display_data"
    },
    {
     "data": {
      "text/html": [
       "Successfully finished last run (ID:1pgsa3v1). Initializing new run:<br/>"
      ],
      "text/plain": [
       "<IPython.core.display.HTML object>"
      ]
     },
     "metadata": {},
     "output_type": "display_data"
    },
    {
     "data": {
      "text/html": [
       "\n",
       "                    Syncing run <strong><a href=\"https://wandb.ai/rochelleli/w251-hw9/runs/2qn8ah21\" target=\"_blank\">eerie-poltergeist-4</a></strong> to <a href=\"https://wandb.ai/rochelleli/w251-hw9\" target=\"_blank\">Weights & Biases</a> (<a href=\"https://docs.wandb.com/integrations/jupyter.html\" target=\"_blank\">docs</a>).<br/>\n",
       "\n",
       "                "
      ],
      "text/plain": [
       "<IPython.core.display.HTML object>"
      ]
     },
     "metadata": {},
     "output_type": "display_data"
    },
    {
     "data": {
      "text/html": [
       "<button onClick=\"this.nextSibling.style.display='block';this.style.display='none';\">Display W&B run</button><iframe src=\"https://wandb.ai/rochelleli/w251-hw9/runs/2qn8ah21?jupyter=true\" style=\"border:none;width:100%;height:420px;display:none;\"></iframe>"
      ],
      "text/plain": [
       "<wandb.sdk.wandb_run.Run at 0x7fa099a61c40>"
      ]
     },
     "execution_count": 16,
     "metadata": {},
     "output_type": "execute_result"
    }
   ],
   "source": [
    "wandb.init(config={\"epochs\": EPOCHS, \"batch_size\": TRAIN_BATCH, \"momentum\": MOMENTUM, \"WEIGHT_DECAY\": WEIGHT_DECAY, \"arch\": ARCH})"
   ]
  },
  {
   "cell_type": "code",
   "execution_count": 24,
   "id": "be1daca2",
   "metadata": {},
   "outputs": [],
   "source": [
    "GPU = 0"
   ]
  },
  {
   "cell_type": "code",
   "execution_count": 25,
   "id": "2e81eebb",
   "metadata": {},
   "outputs": [],
   "source": [
    "torch.cuda.set_device(GPU)"
   ]
  },
  {
   "cell_type": "code",
   "execution_count": 26,
   "id": "60147e33",
   "metadata": {},
   "outputs": [],
   "source": [
    "global_step = 1"
   ]
  },
  {
   "cell_type": "code",
   "execution_count": 17,
   "id": "c46580a2",
   "metadata": {},
   "outputs": [],
   "source": [
    "def train(train_loader, model, criterion, optimizer, epoch):\n",
    "    global global_step    \n",
    "    batch_time = AverageMeter('Time', ':6.3f')\n",
    "    data_time = AverageMeter('Data', ':6.3f')\n",
    "    losses = AverageMeter('Loss', ':.4e')\n",
    "    top1 = AverageMeter('Acc@1', ':6.2f')\n",
    "    top5 = AverageMeter('Acc@5', ':6.2f')\n",
    "    progress = ProgressMeter(\n",
    "        len(train_loader),\n",
    "        [batch_time, data_time, losses, top1, top5],\n",
    "        prefix=\"Epoch: [{}]\".format(epoch))\n",
    "\n",
    "    # Grad Scaler\n",
    "    scaler = GradScaler()\n",
    "    # switch to train mode\n",
    "    model.train()\n",
    "\n",
    "    end = time.time()\n",
    "    for i, (images, target) in enumerate(train_loader):\n",
    "        # measure data loading time\n",
    "        data_time.update(time.time() - end)\n",
    "        optimizer.zero_grad()\n",
    "\n",
    "        if GPU is not None:\n",
    "            images = images.cuda(GPU, non_blocking=True)\n",
    "        if torch.cuda.is_available():\n",
    "            target = target.cuda(GPU, non_blocking=True)\n",
    "\n",
    "        # compute output\n",
    "        with autocast():\n",
    "          output = model(images)\n",
    "          loss = criterion(output, target)\n",
    "\n",
    "        # measure accuracy and record loss\n",
    "        acc1, acc5 = accuracy(output, target, topk=(1, 5))\n",
    "        losses.update(loss.item(), images.size(0))\n",
    "        top1.update(acc1[0], images.size(0))\n",
    "        top5.update(acc5[0], images.size(0))\n",
    "\n",
    "        # compute gradient and do SGD step\n",
    "        # optimizer.zero_grad()\n",
    "        # loss.backward()\n",
    "        # optimizer.step()\n",
    "        \n",
    "        # use the scaler\n",
    "        scaler.scale(loss).backward()\n",
    "        scaler.step(optimizer)\n",
    "        scaler.update()\n",
    "\n",
    "        # measure elapsed time\n",
    "        batch_time.update(time.time() - end)\n",
    "        end = time.time()\n",
    "        \n",
    "        writer.add_scalar(\"Loss/train\", loss, global_step = global_step)\n",
    "        writer.add_scalar(\"acc1/train\", top1.avg, global_step = global_step)\n",
    "        writer.add_scalar(\"acc5/train\", top5.avg, global_step = global_step)\n",
    "        \n",
    "        wandb.log({\"Loss/train\": loss, 'acc1/train': top1.avg, 'acc5/train': top5.avg})\n",
    "        \n",
    "        global_step = global_step + 1\n",
    "\n",
    "        if i % PRINT_FREQ == 0:\n",
    "            progress.display(i)"
   ]
  },
  {
   "cell_type": "code",
   "execution_count": 18,
   "id": "f5f720d0",
   "metadata": {},
   "outputs": [],
   "source": [
    "def validate(val_loader, model, criterion):\n",
    "    global global_step    \n",
    "    batch_time = AverageMeter('Time', ':6.3f')\n",
    "    losses = AverageMeter('Loss', ':.4e')\n",
    "    top1 = AverageMeter('Acc@1', ':6.2f')\n",
    "    top5 = AverageMeter('Acc@5', ':6.2f')\n",
    "    progress = ProgressMeter(\n",
    "        len(val_loader),\n",
    "        [batch_time, losses, top1, top5],\n",
    "        prefix='Test: ')\n",
    "\n",
    "    # switch to evaluate mode\n",
    "    model.eval()\n",
    "\n",
    "    with torch.no_grad():\n",
    "        end = time.time()\n",
    "        for i, (images, target) in enumerate(val_loader):\n",
    "            if GPU is not None:\n",
    "                images = images.cuda(GPU, non_blocking=True)\n",
    "            if torch.cuda.is_available():\n",
    "                target = target.cuda(GPU, non_blocking=True)\n",
    "\n",
    "            # compute output\n",
    "            output = model(images)\n",
    "            loss = criterion(output, target)\n",
    "\n",
    "            # measure accuracy and record loss\n",
    "            acc1, acc5 = accuracy(output, target, topk=(1, 5))\n",
    "            losses.update(loss.item(), images.size(0))\n",
    "            top1.update(acc1[0], images.size(0))\n",
    "            top5.update(acc5[0], images.size(0))\n",
    "\n",
    "            # measure elapsed time\n",
    "            batch_time.update(time.time() - end)\n",
    "            end = time.time()\n",
    "\n",
    "            if i % PRINT_FREQ == 0:\n",
    "                progress.display(i)\n",
    "\n",
    "        # TODO: this should also be done with the ProgressMeter\n",
    "        print(' * Acc@1 {top1.avg:.3f} Acc@5 {top5.avg:.3f}'\n",
    "              .format(top1=top1, top5=top5))\n",
    "    writer.add_scalar(\"Loss/val\", losses.avg, global_step = global_step)\n",
    "    writer.add_scalar(\"acc1/val\", top1.avg, global_step = global_step)\n",
    "    writer.add_scalar(\"acc5/val\", top5.avg, global_step = global_step)    \n",
    "    \n",
    "    wandb.log({\"Loss/val\": losses.avg, 'acc1/val': top1.avg, 'acc5/val': top5.avg})\n",
    "    \n",
    "    global_step = global_step + 1\n",
    "\n",
    "    return top1.avg"
   ]
  },
  {
   "cell_type": "code",
   "execution_count": 19,
   "id": "a04601f8",
   "metadata": {},
   "outputs": [],
   "source": [
    "def save_checkpoint(state, is_best, filename='checkpoint.pth.tar'):\n",
    "    torch.save(state, filename)\n",
    "    if is_best:\n",
    "        shutil.copyfile(filename, 'model_best.pth.tar')"
   ]
  },
  {
   "cell_type": "code",
   "execution_count": 20,
   "id": "35124873",
   "metadata": {},
   "outputs": [],
   "source": [
    "class AverageMeter(object):\n",
    "    \"\"\"Computes and stores the average and current value\"\"\"\n",
    "    def __init__(self, name, fmt=':f'):\n",
    "        self.name = name\n",
    "        self.fmt = fmt\n",
    "        self.reset()\n",
    "\n",
    "    def reset(self):\n",
    "        self.val = 0\n",
    "        self.avg = 0\n",
    "        self.sum = 0\n",
    "        self.count = 0\n",
    "\n",
    "    def update(self, val, n=1):\n",
    "        self.val = val\n",
    "        self.sum += val * n\n",
    "        self.count += n\n",
    "        self.avg = self.sum / self.count\n",
    "\n",
    "    def __str__(self):\n",
    "        fmtstr = '{name} {val' + self.fmt + '} ({avg' + self.fmt + '})'\n",
    "        return fmtstr.format(**self.__dict__)"
   ]
  },
  {
   "cell_type": "code",
   "execution_count": 21,
   "id": "f62610b4",
   "metadata": {},
   "outputs": [],
   "source": [
    "class ProgressMeter(object):\n",
    "    def __init__(self, num_batches, meters, prefix=\"\"):\n",
    "        self.batch_fmtstr = self._get_batch_fmtstr(num_batches)\n",
    "        self.meters = meters\n",
    "        self.prefix = prefix\n",
    "\n",
    "    def display(self, batch):\n",
    "        entries = [self.prefix + self.batch_fmtstr.format(batch)]\n",
    "        entries += [str(meter) for meter in self.meters]\n",
    "        print('\\t'.join(entries))\n",
    "\n",
    "    def _get_batch_fmtstr(self, num_batches):\n",
    "        num_digits = len(str(num_batches // 1))\n",
    "        fmt = '{:' + str(num_digits) + 'd}'\n",
    "        return '[' + fmt + '/' + fmt.format(num_batches) + ']'"
   ]
  },
  {
   "cell_type": "code",
   "execution_count": 22,
   "id": "7bcb84bc",
   "metadata": {},
   "outputs": [],
   "source": [
    "def adjust_learning_rate(optimizer, epoch):\n",
    "    \"\"\"Sets the learning rate to the initial LR decayed by 10 every 30 epochs\"\"\"\n",
    "    lr = LR * (0.1 ** (epoch // 30))\n",
    "    for param_group in optimizer.param_groups:\n",
    "        param_group['lr'] = lr"
   ]
  },
  {
   "cell_type": "code",
   "execution_count": 23,
   "id": "61bf6a74",
   "metadata": {},
   "outputs": [],
   "source": [
    "def accuracy(output, target, topk=(1,)):\n",
    "    \"\"\"Computes the accuracy over the k top predictions for the specified values of k\"\"\"\n",
    "    with torch.no_grad():\n",
    "        maxk = max(topk)\n",
    "        batch_size = target.size(0)\n",
    "\n",
    "        _, pred = output.topk(maxk, 1, True, True)\n",
    "        pred = pred.t()\n",
    "        correct = pred.eq(target.view(1, -1).expand_as(pred))\n",
    "\n",
    "        res = []\n",
    "        for k in topk:\n",
    "            correct_k = correct[:k].reshape(-1).float().sum(0, keepdim=True)\n",
    "            res.append(correct_k.mul_(100.0 / batch_size))\n",
    "        return res"
   ]
  },
  {
   "cell_type": "code",
   "execution_count": 27,
   "id": "fea347a8",
   "metadata": {},
   "outputs": [],
   "source": [
    "cudnn.benchmark = True"
   ]
  },
  {
   "cell_type": "code",
   "execution_count": 28,
   "id": "7c76cc6a",
   "metadata": {},
   "outputs": [],
   "source": [
    "imagenet_mean_RGB = [0.47889522, 0.47227842, 0.43047404]\n",
    "imagenet_std_RGB = [0.229, 0.224, 0.225]"
   ]
  },
  {
   "cell_type": "code",
   "execution_count": 29,
   "id": "935f91c0",
   "metadata": {},
   "outputs": [],
   "source": [
    "normalize = transforms.Normalize(mean=imagenet_mean_RGB, std=imagenet_std_RGB)"
   ]
  },
  {
   "cell_type": "code",
   "execution_count": 30,
   "id": "3e93a9e3",
   "metadata": {},
   "outputs": [],
   "source": [
    "IMG_SIZE = 224\n",
    "NUM_CLASSES = 1000"
   ]
  },
  {
   "cell_type": "code",
   "execution_count": 31,
   "id": "6c17eefe",
   "metadata": {},
   "outputs": [],
   "source": [
    "model = models.__dict__[ARCH]()"
   ]
  },
  {
   "cell_type": "code",
   "execution_count": 32,
   "id": "a77ff9f0",
   "metadata": {},
   "outputs": [],
   "source": [
    "inf = model.fc.in_features"
   ]
  },
  {
   "cell_type": "code",
   "execution_count": 33,
   "id": "2b58553b",
   "metadata": {},
   "outputs": [],
   "source": [
    "model.fc = nn.Linear(inf, NUM_CLASSES)"
   ]
  },
  {
   "cell_type": "code",
   "execution_count": 34,
   "id": "384d648d",
   "metadata": {},
   "outputs": [
    {
     "data": {
      "text/plain": [
       "ResNet(\n",
       "  (conv1): Conv2d(3, 64, kernel_size=(7, 7), stride=(2, 2), padding=(3, 3), bias=False)\n",
       "  (bn1): BatchNorm2d(64, eps=1e-05, momentum=0.1, affine=True, track_running_stats=True)\n",
       "  (relu): ReLU(inplace=True)\n",
       "  (maxpool): MaxPool2d(kernel_size=3, stride=2, padding=1, dilation=1, ceil_mode=False)\n",
       "  (layer1): Sequential(\n",
       "    (0): BasicBlock(\n",
       "      (conv1): Conv2d(64, 64, kernel_size=(3, 3), stride=(1, 1), padding=(1, 1), bias=False)\n",
       "      (bn1): BatchNorm2d(64, eps=1e-05, momentum=0.1, affine=True, track_running_stats=True)\n",
       "      (relu): ReLU(inplace=True)\n",
       "      (conv2): Conv2d(64, 64, kernel_size=(3, 3), stride=(1, 1), padding=(1, 1), bias=False)\n",
       "      (bn2): BatchNorm2d(64, eps=1e-05, momentum=0.1, affine=True, track_running_stats=True)\n",
       "    )\n",
       "    (1): BasicBlock(\n",
       "      (conv1): Conv2d(64, 64, kernel_size=(3, 3), stride=(1, 1), padding=(1, 1), bias=False)\n",
       "      (bn1): BatchNorm2d(64, eps=1e-05, momentum=0.1, affine=True, track_running_stats=True)\n",
       "      (relu): ReLU(inplace=True)\n",
       "      (conv2): Conv2d(64, 64, kernel_size=(3, 3), stride=(1, 1), padding=(1, 1), bias=False)\n",
       "      (bn2): BatchNorm2d(64, eps=1e-05, momentum=0.1, affine=True, track_running_stats=True)\n",
       "    )\n",
       "  )\n",
       "  (layer2): Sequential(\n",
       "    (0): BasicBlock(\n",
       "      (conv1): Conv2d(64, 128, kernel_size=(3, 3), stride=(2, 2), padding=(1, 1), bias=False)\n",
       "      (bn1): BatchNorm2d(128, eps=1e-05, momentum=0.1, affine=True, track_running_stats=True)\n",
       "      (relu): ReLU(inplace=True)\n",
       "      (conv2): Conv2d(128, 128, kernel_size=(3, 3), stride=(1, 1), padding=(1, 1), bias=False)\n",
       "      (bn2): BatchNorm2d(128, eps=1e-05, momentum=0.1, affine=True, track_running_stats=True)\n",
       "      (downsample): Sequential(\n",
       "        (0): Conv2d(64, 128, kernel_size=(1, 1), stride=(2, 2), bias=False)\n",
       "        (1): BatchNorm2d(128, eps=1e-05, momentum=0.1, affine=True, track_running_stats=True)\n",
       "      )\n",
       "    )\n",
       "    (1): BasicBlock(\n",
       "      (conv1): Conv2d(128, 128, kernel_size=(3, 3), stride=(1, 1), padding=(1, 1), bias=False)\n",
       "      (bn1): BatchNorm2d(128, eps=1e-05, momentum=0.1, affine=True, track_running_stats=True)\n",
       "      (relu): ReLU(inplace=True)\n",
       "      (conv2): Conv2d(128, 128, kernel_size=(3, 3), stride=(1, 1), padding=(1, 1), bias=False)\n",
       "      (bn2): BatchNorm2d(128, eps=1e-05, momentum=0.1, affine=True, track_running_stats=True)\n",
       "    )\n",
       "  )\n",
       "  (layer3): Sequential(\n",
       "    (0): BasicBlock(\n",
       "      (conv1): Conv2d(128, 256, kernel_size=(3, 3), stride=(2, 2), padding=(1, 1), bias=False)\n",
       "      (bn1): BatchNorm2d(256, eps=1e-05, momentum=0.1, affine=True, track_running_stats=True)\n",
       "      (relu): ReLU(inplace=True)\n",
       "      (conv2): Conv2d(256, 256, kernel_size=(3, 3), stride=(1, 1), padding=(1, 1), bias=False)\n",
       "      (bn2): BatchNorm2d(256, eps=1e-05, momentum=0.1, affine=True, track_running_stats=True)\n",
       "      (downsample): Sequential(\n",
       "        (0): Conv2d(128, 256, kernel_size=(1, 1), stride=(2, 2), bias=False)\n",
       "        (1): BatchNorm2d(256, eps=1e-05, momentum=0.1, affine=True, track_running_stats=True)\n",
       "      )\n",
       "    )\n",
       "    (1): BasicBlock(\n",
       "      (conv1): Conv2d(256, 256, kernel_size=(3, 3), stride=(1, 1), padding=(1, 1), bias=False)\n",
       "      (bn1): BatchNorm2d(256, eps=1e-05, momentum=0.1, affine=True, track_running_stats=True)\n",
       "      (relu): ReLU(inplace=True)\n",
       "      (conv2): Conv2d(256, 256, kernel_size=(3, 3), stride=(1, 1), padding=(1, 1), bias=False)\n",
       "      (bn2): BatchNorm2d(256, eps=1e-05, momentum=0.1, affine=True, track_running_stats=True)\n",
       "    )\n",
       "  )\n",
       "  (layer4): Sequential(\n",
       "    (0): BasicBlock(\n",
       "      (conv1): Conv2d(256, 512, kernel_size=(3, 3), stride=(2, 2), padding=(1, 1), bias=False)\n",
       "      (bn1): BatchNorm2d(512, eps=1e-05, momentum=0.1, affine=True, track_running_stats=True)\n",
       "      (relu): ReLU(inplace=True)\n",
       "      (conv2): Conv2d(512, 512, kernel_size=(3, 3), stride=(1, 1), padding=(1, 1), bias=False)\n",
       "      (bn2): BatchNorm2d(512, eps=1e-05, momentum=0.1, affine=True, track_running_stats=True)\n",
       "      (downsample): Sequential(\n",
       "        (0): Conv2d(256, 512, kernel_size=(1, 1), stride=(2, 2), bias=False)\n",
       "        (1): BatchNorm2d(512, eps=1e-05, momentum=0.1, affine=True, track_running_stats=True)\n",
       "      )\n",
       "    )\n",
       "    (1): BasicBlock(\n",
       "      (conv1): Conv2d(512, 512, kernel_size=(3, 3), stride=(1, 1), padding=(1, 1), bias=False)\n",
       "      (bn1): BatchNorm2d(512, eps=1e-05, momentum=0.1, affine=True, track_running_stats=True)\n",
       "      (relu): ReLU(inplace=True)\n",
       "      (conv2): Conv2d(512, 512, kernel_size=(3, 3), stride=(1, 1), padding=(1, 1), bias=False)\n",
       "      (bn2): BatchNorm2d(512, eps=1e-05, momentum=0.1, affine=True, track_running_stats=True)\n",
       "    )\n",
       "  )\n",
       "  (avgpool): AdaptiveAvgPool2d(output_size=(1, 1))\n",
       "  (fc): Linear(in_features=512, out_features=1000, bias=True)\n",
       ")"
      ]
     },
     "execution_count": 34,
     "metadata": {},
     "output_type": "execute_result"
    }
   ],
   "source": [
    "model.cuda(GPU)"
   ]
  },
  {
   "cell_type": "code",
   "execution_count": 35,
   "id": "a1923b1f",
   "metadata": {},
   "outputs": [],
   "source": [
    "criterion = nn.CrossEntropyLoss().cuda(GPU)"
   ]
  },
  {
   "cell_type": "code",
   "execution_count": 36,
   "id": "1ffa37ea",
   "metadata": {},
   "outputs": [],
   "source": [
    "optimizer = torch.optim.SGD(model.parameters(), LR,\n",
    "                                momentum=MOMENTUM,\n",
    "                                weight_decay=WEIGHT_DECAY)"
   ]
  },
  {
   "cell_type": "code",
   "execution_count": 37,
   "id": "36be11bb",
   "metadata": {},
   "outputs": [],
   "source": [
    "scheduler = torch.optim.lr_scheduler.CosineAnnealingLR(optimizer, T_max=EPOCHS)"
   ]
  },
  {
   "cell_type": "code",
   "execution_count": 38,
   "id": "1c1327d4",
   "metadata": {},
   "outputs": [],
   "source": [
    "transform_train = transforms.Compose([\n",
    "    transforms.Resize((256,256)),\n",
    "    transforms.RandomCrop(IMG_SIZE, padding=4),\n",
    "    transforms.RandomHorizontalFlip(),\n",
    "    transforms.ToTensor(),\n",
    "    transforms.Normalize(imagenet_mean_RGB, imagenet_std_RGB),\n",
    "])"
   ]
  },
  {
   "cell_type": "code",
   "execution_count": 40,
   "id": "139baa7a",
   "metadata": {},
   "outputs": [],
   "source": [
    "train_dataset = datasets.ImageFolder(\n",
    "    TRAINDIR, transform=transform_train)"
   ]
  },
  {
   "cell_type": "code",
   "execution_count": 41,
   "id": "c1877800",
   "metadata": {},
   "outputs": [],
   "source": [
    "transform_val = transforms.Compose([\n",
    "    transforms.Resize((256,256)),\n",
    "    transforms.RandomCrop(IMG_SIZE, padding=4),\n",
    "    transforms.ToTensor(),\n",
    "    transforms.Normalize(imagenet_mean_RGB, imagenet_std_RGB),\n",
    "])"
   ]
  },
  {
   "cell_type": "code",
   "execution_count": 42,
   "id": "98132322",
   "metadata": {},
   "outputs": [],
   "source": [
    "val_dataset = datasets.ImageFolder(\n",
    "    VALDIR, transform=transform_val)"
   ]
  },
  {
   "cell_type": "code",
   "execution_count": 43,
   "id": "6f7eace1",
   "metadata": {},
   "outputs": [],
   "source": [
    "train_loader = torch.utils.data.DataLoader(\n",
    "        train_dataset, batch_size=TRAIN_BATCH, shuffle=True,\n",
    "        num_workers=WORKERS, pin_memory=True, sampler=None)"
   ]
  },
  {
   "cell_type": "code",
   "execution_count": 44,
   "id": "11823879",
   "metadata": {},
   "outputs": [],
   "source": [
    "val_loader = torch.utils.data.DataLoader(\n",
    "        val_dataset, batch_size=VAL_BATCH, shuffle=False,\n",
    "        num_workers=WORKERS, pin_memory=True, sampler=None)"
   ]
  },
  {
   "cell_type": "code",
   "execution_count": 45,
   "id": "5b8ee3bf",
   "metadata": {},
   "outputs": [],
   "source": [
    "best_acc1 = 0"
   ]
  },
  {
   "cell_type": "code",
   "execution_count": 46,
   "id": "4ea48482",
   "metadata": {},
   "outputs": [
    {
     "name": "stdout",
     "output_type": "stream",
     "text": [
      "Epoch: [0][   0/2563]\tTime 15.712 (15.712)\tData  4.016 ( 4.016)\tLoss 7.0163e+00 (7.0163e+00)\tAcc@1   0.20 (  0.20)\tAcc@5   0.60 (  0.60)\n",
      "Epoch: [0][  10/2563]\tTime  0.738 ( 2.468)\tData  0.095 ( 0.803)\tLoss 7.0141e+00 (6.9886e+00)\tAcc@1   0.40 (  0.09)\tAcc@5   1.40 (  0.69)\n",
      "Epoch: [0][  20/2563]\tTime  0.816 ( 2.069)\tData  0.170 ( 0.884)\tLoss 7.0331e+00 (7.0013e+00)\tAcc@1   0.20 (  0.18)\tAcc@5   0.60 (  0.78)\n",
      "Epoch: [0][  30/2563]\tTime  1.625 ( 1.966)\tData  0.979 ( 0.955)\tLoss 6.8999e+00 (6.9824e+00)\tAcc@1   0.00 (  0.24)\tAcc@5   1.60 (  0.97)\n",
      "Epoch: [0][  40/2563]\tTime  1.480 ( 1.876)\tData  0.830 ( 0.953)\tLoss 6.8295e+00 (6.9551e+00)\tAcc@1   0.20 (  0.28)\tAcc@5   1.40 (  1.13)\n",
      "Epoch: [0][  50/2563]\tTime  1.775 ( 1.849)\tData  1.128 ( 0.979)\tLoss 6.7658e+00 (6.9228e+00)\tAcc@1   0.00 (  0.31)\tAcc@5   1.20 (  1.29)\n",
      "Epoch: [0][  60/2563]\tTime  1.806 ( 1.806)\tData  1.156 ( 0.972)\tLoss 6.6769e+00 (6.8872e+00)\tAcc@1   0.40 (  0.38)\tAcc@5   3.40 (  1.56)\n",
      "Epoch: [0][  70/2563]\tTime  1.765 ( 1.783)\tData  1.114 ( 0.975)\tLoss 6.6679e+00 (6.8563e+00)\tAcc@1   0.20 (  0.39)\tAcc@5   2.80 (  1.68)\n",
      "Epoch: [0][  80/2563]\tTime  1.839 ( 1.762)\tData  1.185 ( 0.973)\tLoss 6.5323e+00 (6.8242e+00)\tAcc@1   1.40 (  0.41)\tAcc@5   3.40 (  1.83)\n",
      "Epoch: [0][  90/2563]\tTime  1.879 ( 1.751)\tData  1.224 ( 0.977)\tLoss 6.5566e+00 (6.7969e+00)\tAcc@1   1.00 (  0.44)\tAcc@5   2.80 (  1.96)\n",
      "Epoch: [0][ 100/2563]\tTime  2.071 ( 1.739)\tData  1.412 ( 0.977)\tLoss 6.5304e+00 (6.7686e+00)\tAcc@1   0.20 (  0.46)\tAcc@5   2.40 (  2.08)\n",
      "Epoch: [0][ 110/2563]\tTime  2.194 ( 1.738)\tData  1.534 ( 0.984)\tLoss 6.4966e+00 (6.7412e+00)\tAcc@1   1.00 (  0.52)\tAcc@5   3.40 (  2.28)\n",
      "Epoch: [0][ 120/2563]\tTime  2.661 ( 1.729)\tData  1.963 ( 0.982)\tLoss 6.4257e+00 (6.7136e+00)\tAcc@1   1.00 (  0.56)\tAcc@5   4.20 (  2.43)\n",
      "Epoch: [0][ 130/2563]\tTime  2.458 ( 1.722)\tData  1.785 ( 0.981)\tLoss 6.3550e+00 (6.6890e+00)\tAcc@1   1.60 (  0.62)\tAcc@5   4.40 (  2.59)\n",
      "Epoch: [0][ 140/2563]\tTime  2.268 ( 1.711)\tData  1.604 ( 0.976)\tLoss 6.2774e+00 (6.6635e+00)\tAcc@1   0.80 (  0.68)\tAcc@5   5.40 (  2.77)\n",
      "Epoch: [0][ 150/2563]\tTime  2.183 ( 1.706)\tData  1.524 ( 0.975)\tLoss 6.3094e+00 (6.6417e+00)\tAcc@1   0.40 (  0.72)\tAcc@5   2.60 (  2.91)\n",
      "Epoch: [0][ 160/2563]\tTime  2.186 ( 1.704)\tData  1.524 ( 0.977)\tLoss 6.3103e+00 (6.6182e+00)\tAcc@1   1.60 (  0.76)\tAcc@5   5.00 (  3.06)\n",
      "Epoch: [0][ 170/2563]\tTime  2.116 ( 1.697)\tData  1.452 ( 0.973)\tLoss 6.1483e+00 (6.5953e+00)\tAcc@1   2.40 (  0.81)\tAcc@5   4.80 (  3.20)\n",
      "Epoch: [0][ 180/2563]\tTime  2.564 ( 1.692)\tData  1.871 ( 0.972)\tLoss 6.0714e+00 (6.5710e+00)\tAcc@1   2.60 (  0.86)\tAcc@5   6.00 (  3.35)\n",
      "Epoch: [0][ 190/2563]\tTime  2.348 ( 1.693)\tData  1.681 ( 0.976)\tLoss 6.0891e+00 (6.5489e+00)\tAcc@1   2.00 (  0.93)\tAcc@5   8.80 (  3.52)\n",
      "Epoch: [0][ 200/2563]\tTime  1.685 ( 1.688)\tData  1.020 ( 0.973)\tLoss 6.0037e+00 (6.5260e+00)\tAcc@1   2.00 (  1.00)\tAcc@5   6.60 (  3.69)\n",
      "Epoch: [0][ 210/2563]\tTime  2.203 ( 1.691)\tData  1.538 ( 0.979)\tLoss 6.0623e+00 (6.5038e+00)\tAcc@1   1.80 (  1.06)\tAcc@5   5.60 (  3.87)\n",
      "Epoch: [0][ 220/2563]\tTime  2.557 ( 1.689)\tData  1.844 ( 0.978)\tLoss 6.1123e+00 (6.4836e+00)\tAcc@1   2.80 (  1.12)\tAcc@5   7.60 (  4.03)\n",
      "Epoch: [0][ 230/2563]\tTime  3.219 ( 1.689)\tData  2.511 ( 0.980)\tLoss 6.0717e+00 (6.4632e+00)\tAcc@1   2.00 (  1.19)\tAcc@5   8.00 (  4.22)\n",
      "Epoch: [0][ 240/2563]\tTime  1.383 ( 1.685)\tData  0.716 ( 0.978)\tLoss 6.0003e+00 (6.4416e+00)\tAcc@1   3.40 (  1.26)\tAcc@5   7.20 (  4.40)\n",
      "Epoch: [0][ 250/2563]\tTime  1.647 ( 1.686)\tData  0.983 ( 0.980)\tLoss 5.8504e+00 (6.4208e+00)\tAcc@1   1.80 (  1.32)\tAcc@5   9.40 (  4.56)\n",
      "Epoch: [0][ 260/2563]\tTime  1.466 ( 1.684)\tData  0.803 ( 0.980)\tLoss 6.0090e+00 (6.4020e+00)\tAcc@1   2.40 (  1.37)\tAcc@5   8.80 (  4.71)\n",
      "Epoch: [0][ 270/2563]\tTime  1.392 ( 1.682)\tData  0.726 ( 0.980)\tLoss 5.8805e+00 (6.3829e+00)\tAcc@1   3.00 (  1.41)\tAcc@5   9.40 (  4.86)\n",
      "Epoch: [0][ 280/2563]\tTime  1.867 ( 1.679)\tData  1.199 ( 0.978)\tLoss 5.7891e+00 (6.3651e+00)\tAcc@1   3.20 (  1.46)\tAcc@5  10.20 (  5.02)\n",
      "Epoch: [0][ 290/2563]\tTime  1.588 ( 1.677)\tData  0.922 ( 0.977)\tLoss 5.7527e+00 (6.3461e+00)\tAcc@1   2.40 (  1.50)\tAcc@5   8.40 (  5.18)\n",
      "Epoch: [0][ 300/2563]\tTime  1.797 ( 1.679)\tData  1.131 ( 0.980)\tLoss 5.7673e+00 (6.3285e+00)\tAcc@1   2.40 (  1.53)\tAcc@5  10.20 (  5.33)\n",
      "Epoch: [0][ 310/2563]\tTime  1.783 ( 1.676)\tData  1.119 ( 0.978)\tLoss 5.7675e+00 (6.3109e+00)\tAcc@1   3.40 (  1.58)\tAcc@5   9.80 (  5.49)\n",
      "Epoch: [0][ 320/2563]\tTime  1.655 ( 1.676)\tData  0.987 ( 0.979)\tLoss 5.7228e+00 (6.2932e+00)\tAcc@1   3.00 (  1.64)\tAcc@5  12.40 (  5.67)\n",
      "Epoch: [0][ 330/2563]\tTime  1.986 ( 1.674)\tData  1.318 ( 0.978)\tLoss 5.6598e+00 (6.2752e+00)\tAcc@1   2.80 (  1.69)\tAcc@5  10.80 (  5.84)\n",
      "Epoch: [0][ 340/2563]\tTime  2.105 ( 1.675)\tData  1.440 ( 0.979)\tLoss 5.6638e+00 (6.2581e+00)\tAcc@1   3.00 (  1.75)\tAcc@5  10.80 (  6.02)\n",
      "Epoch: [0][ 350/2563]\tTime  2.329 ( 1.672)\tData  1.661 ( 0.977)\tLoss 5.6772e+00 (6.2418e+00)\tAcc@1   4.80 (  1.81)\tAcc@5  12.80 (  6.18)\n",
      "Epoch: [0][ 360/2563]\tTime  2.129 ( 1.672)\tData  1.465 ( 0.978)\tLoss 5.6808e+00 (6.2250e+00)\tAcc@1   3.20 (  1.87)\tAcc@5  12.60 (  6.37)\n",
      "Epoch: [0][ 370/2563]\tTime  2.424 ( 1.671)\tData  1.758 ( 0.977)\tLoss 5.7126e+00 (6.2088e+00)\tAcc@1   2.60 (  1.92)\tAcc@5  11.20 (  6.55)\n",
      "Epoch: [0][ 380/2563]\tTime  2.427 ( 1.669)\tData  1.758 ( 0.976)\tLoss 5.6815e+00 (6.1928e+00)\tAcc@1   6.00 (  1.99)\tAcc@5  14.00 (  6.73)\n",
      "Epoch: [0][ 390/2563]\tTime  1.993 ( 1.669)\tData  1.326 ( 0.977)\tLoss 5.6478e+00 (6.1777e+00)\tAcc@1   3.40 (  2.03)\tAcc@5  10.60 (  6.88)\n",
      "Epoch: [0][ 400/2563]\tTime  3.335 ( 1.671)\tData  2.601 ( 0.979)\tLoss 5.4771e+00 (6.1620e+00)\tAcc@1   4.80 (  2.09)\tAcc@5  14.40 (  7.05)\n",
      "Epoch: [0][ 410/2563]\tTime  2.513 ( 1.669)\tData  1.800 ( 0.978)\tLoss 5.4550e+00 (6.1467e+00)\tAcc@1   5.00 (  2.13)\tAcc@5  14.40 (  7.21)\n",
      "Epoch: [0][ 420/2563]\tTime  2.316 ( 1.666)\tData  1.651 ( 0.975)\tLoss 5.5511e+00 (6.1310e+00)\tAcc@1   5.00 (  2.20)\tAcc@5  14.00 (  7.39)\n",
      "Epoch: [0][ 430/2563]\tTime  1.814 ( 1.666)\tData  1.150 ( 0.976)\tLoss 5.3799e+00 (6.1151e+00)\tAcc@1   5.20 (  2.27)\tAcc@5  16.00 (  7.58)\n",
      "Epoch: [0][ 440/2563]\tTime  2.239 ( 1.665)\tData  1.574 ( 0.975)\tLoss 5.4187e+00 (6.1005e+00)\tAcc@1   5.80 (  2.34)\tAcc@5  16.20 (  7.76)\n",
      "Epoch: [0][ 450/2563]\tTime  1.887 ( 1.666)\tData  1.222 ( 0.976)\tLoss 5.4137e+00 (6.0851e+00)\tAcc@1   5.20 (  2.40)\tAcc@5  17.00 (  7.95)\n",
      "Epoch: [0][ 460/2563]\tTime  1.968 ( 1.665)\tData  1.301 ( 0.976)\tLoss 5.4173e+00 (6.0706e+00)\tAcc@1   6.20 (  2.46)\tAcc@5  17.00 (  8.12)\n",
      "Epoch: [0][ 470/2563]\tTime  1.966 ( 1.665)\tData  1.301 ( 0.976)\tLoss 5.2361e+00 (6.0565e+00)\tAcc@1   5.80 (  2.52)\tAcc@5  19.60 (  8.29)\n",
      "Epoch: [0][ 480/2563]\tTime  1.613 ( 1.665)\tData  0.948 ( 0.977)\tLoss 5.2176e+00 (6.0416e+00)\tAcc@1   6.00 (  2.59)\tAcc@5  18.80 (  8.46)\n",
      "Epoch: [0][ 490/2563]\tTime  1.245 ( 1.662)\tData  0.578 ( 0.975)\tLoss 5.3641e+00 (6.0272e+00)\tAcc@1   5.60 (  2.67)\tAcc@5  16.80 (  8.65)\n",
      "Epoch: [0][ 500/2563]\tTime  1.739 ( 1.664)\tData  1.073 ( 0.976)\tLoss 5.3415e+00 (6.0128e+00)\tAcc@1   7.20 (  2.73)\tAcc@5  19.40 (  8.83)\n",
      "Epoch: [0][ 510/2563]\tTime  1.557 ( 1.663)\tData  0.890 ( 0.976)\tLoss 5.3418e+00 (5.9981e+00)\tAcc@1   5.80 (  2.80)\tAcc@5  16.80 (  9.02)\n",
      "Epoch: [0][ 520/2563]\tTime  1.449 ( 1.663)\tData  0.784 ( 0.977)\tLoss 5.1992e+00 (5.9850e+00)\tAcc@1   4.80 (  2.85)\tAcc@5  18.60 (  9.17)\n",
      "Epoch: [0][ 530/2563]\tTime  1.272 ( 1.661)\tData  0.601 ( 0.975)\tLoss 5.1796e+00 (5.9712e+00)\tAcc@1   7.20 (  2.92)\tAcc@5  21.20 (  9.36)\n",
      "Epoch: [0][ 540/2563]\tTime  2.010 ( 1.662)\tData  1.343 ( 0.976)\tLoss 5.2578e+00 (5.9585e+00)\tAcc@1   6.40 (  2.98)\tAcc@5  19.60 (  9.52)\n",
      "Epoch: [0][ 550/2563]\tTime  1.639 ( 1.661)\tData  0.972 ( 0.975)\tLoss 5.2618e+00 (5.9460e+00)\tAcc@1   5.60 (  3.03)\tAcc@5  20.40 (  9.68)\n",
      "Epoch: [0][ 560/2563]\tTime  1.831 ( 1.660)\tData  1.164 ( 0.975)\tLoss 5.2582e+00 (5.9337e+00)\tAcc@1   6.80 (  3.09)\tAcc@5  20.60 (  9.85)\n",
      "Epoch: [0][ 570/2563]\tTime  2.113 ( 1.661)\tData  1.447 ( 0.977)\tLoss 5.1976e+00 (5.9206e+00)\tAcc@1   7.40 (  3.16)\tAcc@5  20.20 ( 10.02)\n",
      "Epoch: [0][ 580/2563]\tTime  2.378 ( 1.661)\tData  1.714 ( 0.976)\tLoss 5.2602e+00 (5.9078e+00)\tAcc@1   6.80 (  3.21)\tAcc@5  19.20 ( 10.18)\n",
      "Epoch: [0][ 590/2563]\tTime  2.471 ( 1.661)\tData  1.806 ( 0.977)\tLoss 5.1259e+00 (5.8952e+00)\tAcc@1   8.20 (  3.27)\tAcc@5  22.00 ( 10.35)\n"
     ]
    },
    {
     "name": "stdout",
     "output_type": "stream",
     "text": [
      "Epoch: [0][ 600/2563]\tTime  2.455 ( 1.660)\tData  1.740 ( 0.976)\tLoss 5.1782e+00 (5.8829e+00)\tAcc@1   8.40 (  3.33)\tAcc@5  21.40 ( 10.51)\n",
      "Epoch: [0][ 610/2563]\tTime  2.418 ( 1.659)\tData  1.751 ( 0.975)\tLoss 5.2022e+00 (5.8709e+00)\tAcc@1   6.80 (  3.39)\tAcc@5  17.60 ( 10.66)\n",
      "Epoch: [0][ 620/2563]\tTime  2.212 ( 1.662)\tData  1.548 ( 0.978)\tLoss 5.2333e+00 (5.8593e+00)\tAcc@1   7.20 (  3.45)\tAcc@5  18.20 ( 10.81)\n",
      "Epoch: [0][ 630/2563]\tTime  1.932 ( 1.661)\tData  1.269 ( 0.978)\tLoss 5.2023e+00 (5.8479e+00)\tAcc@1   7.80 (  3.52)\tAcc@5  19.40 ( 10.96)\n",
      "Epoch: [0][ 640/2563]\tTime  1.783 ( 1.662)\tData  1.118 ( 0.979)\tLoss 5.1473e+00 (5.8362e+00)\tAcc@1   7.20 (  3.57)\tAcc@5  23.40 ( 11.12)\n",
      "Epoch: [0][ 650/2563]\tTime  1.231 ( 1.660)\tData  0.565 ( 0.977)\tLoss 5.0663e+00 (5.8247e+00)\tAcc@1   8.20 (  3.63)\tAcc@5  20.20 ( 11.27)\n",
      "Epoch: [0][ 660/2563]\tTime  1.692 ( 1.661)\tData  1.029 ( 0.978)\tLoss 5.0788e+00 (5.8140e+00)\tAcc@1   7.60 (  3.69)\tAcc@5  22.00 ( 11.42)\n",
      "Epoch: [0][ 670/2563]\tTime  0.756 ( 1.660)\tData  0.093 ( 0.978)\tLoss 5.0994e+00 (5.8024e+00)\tAcc@1   8.80 (  3.75)\tAcc@5  20.60 ( 11.57)\n",
      "Epoch: [0][ 680/2563]\tTime  0.822 ( 1.659)\tData  0.154 ( 0.977)\tLoss 5.0015e+00 (5.7910e+00)\tAcc@1   7.00 (  3.82)\tAcc@5  24.20 ( 11.73)\n",
      "Epoch: [0][ 690/2563]\tTime  1.249 ( 1.660)\tData  0.584 ( 0.978)\tLoss 5.0175e+00 (5.7797e+00)\tAcc@1   7.60 (  3.88)\tAcc@5  23.40 ( 11.90)\n",
      "Epoch: [0][ 700/2563]\tTime  1.291 ( 1.660)\tData  0.621 ( 0.977)\tLoss 5.0960e+00 (5.7690e+00)\tAcc@1   8.20 (  3.95)\tAcc@5  21.00 ( 12.04)\n",
      "Epoch: [0][ 710/2563]\tTime  1.171 ( 1.661)\tData  0.504 ( 0.979)\tLoss 5.0522e+00 (5.7580e+00)\tAcc@1   8.00 (  4.02)\tAcc@5  20.40 ( 12.19)\n",
      "Epoch: [0][ 720/2563]\tTime  1.562 ( 1.660)\tData  0.895 ( 0.978)\tLoss 4.9474e+00 (5.7473e+00)\tAcc@1   8.80 (  4.08)\tAcc@5  25.00 ( 12.34)\n",
      "Epoch: [0][ 730/2563]\tTime  1.977 ( 1.660)\tData  1.311 ( 0.979)\tLoss 5.0513e+00 (5.7367e+00)\tAcc@1   8.00 (  4.14)\tAcc@5  23.00 ( 12.50)\n",
      "Epoch: [0][ 740/2563]\tTime  1.792 ( 1.660)\tData  1.125 ( 0.979)\tLoss 5.0149e+00 (5.7262e+00)\tAcc@1  11.40 (  4.20)\tAcc@5  24.80 ( 12.65)\n",
      "Epoch: [0][ 750/2563]\tTime  2.008 ( 1.660)\tData  1.339 ( 0.979)\tLoss 4.8676e+00 (5.7149e+00)\tAcc@1  11.20 (  4.28)\tAcc@5  26.20 ( 12.81)\n",
      "Epoch: [0][ 760/2563]\tTime  1.775 ( 1.661)\tData  1.107 ( 0.979)\tLoss 5.0174e+00 (5.7046e+00)\tAcc@1  10.40 (  4.34)\tAcc@5  25.00 ( 12.96)\n",
      "Epoch: [0][ 770/2563]\tTime  1.937 ( 1.660)\tData  1.269 ( 0.979)\tLoss 4.9143e+00 (5.6939e+00)\tAcc@1  11.40 (  4.41)\tAcc@5  26.20 ( 13.11)\n",
      "Epoch: [0][ 780/2563]\tTime  2.441 ( 1.660)\tData  1.774 ( 0.980)\tLoss 5.0148e+00 (5.6837e+00)\tAcc@1   8.20 (  4.48)\tAcc@5  23.80 ( 13.26)\n",
      "Epoch: [0][ 790/2563]\tTime  2.338 ( 1.659)\tData  1.676 ( 0.979)\tLoss 4.8827e+00 (5.6731e+00)\tAcc@1   9.60 (  4.55)\tAcc@5  27.20 ( 13.42)\n",
      "Epoch: [0][ 800/2563]\tTime  2.297 ( 1.659)\tData  1.629 ( 0.979)\tLoss 4.7108e+00 (5.6631e+00)\tAcc@1  11.20 (  4.60)\tAcc@5  26.80 ( 13.56)\n",
      "Epoch: [0][ 810/2563]\tTime  2.125 ( 1.659)\tData  1.461 ( 0.979)\tLoss 4.9814e+00 (5.6532e+00)\tAcc@1   8.60 (  4.67)\tAcc@5  23.00 ( 13.71)\n",
      "Epoch: [0][ 820/2563]\tTime  1.775 ( 1.658)\tData  1.108 ( 0.978)\tLoss 4.9274e+00 (5.6437e+00)\tAcc@1   9.60 (  4.74)\tAcc@5  25.40 ( 13.85)\n",
      "Epoch: [0][ 830/2563]\tTime  2.344 ( 1.659)\tData  1.691 ( 0.979)\tLoss 4.7979e+00 (5.6335e+00)\tAcc@1   9.20 (  4.81)\tAcc@5  26.20 ( 14.00)\n",
      "Epoch: [0][ 840/2563]\tTime  1.750 ( 1.658)\tData  1.106 ( 0.978)\tLoss 4.8107e+00 (5.6235e+00)\tAcc@1   7.60 (  4.87)\tAcc@5  24.20 ( 14.14)\n",
      "Epoch: [0][ 850/2563]\tTime  1.489 ( 1.657)\tData  0.849 ( 0.978)\tLoss 4.6643e+00 (5.6134e+00)\tAcc@1  10.20 (  4.94)\tAcc@5  25.60 ( 14.29)\n",
      "Epoch: [0][ 860/2563]\tTime  1.532 ( 1.658)\tData  0.896 ( 0.979)\tLoss 4.6555e+00 (5.6038e+00)\tAcc@1  12.60 (  5.00)\tAcc@5  28.60 ( 14.43)\n",
      "Epoch: [0][ 870/2563]\tTime  2.392 ( 1.658)\tData  1.755 ( 0.979)\tLoss 4.8971e+00 (5.5944e+00)\tAcc@1  12.40 (  5.06)\tAcc@5  25.80 ( 14.57)\n",
      "Epoch: [0][ 880/2563]\tTime  2.329 ( 1.658)\tData  1.693 ( 0.980)\tLoss 4.7383e+00 (5.5846e+00)\tAcc@1  11.80 (  5.13)\tAcc@5  28.20 ( 14.72)\n",
      "Epoch: [0][ 890/2563]\tTime  1.769 ( 1.657)\tData  1.133 ( 0.979)\tLoss 4.8191e+00 (5.5745e+00)\tAcc@1  11.00 (  5.21)\tAcc@5  25.80 ( 14.87)\n",
      "Epoch: [0][ 900/2563]\tTime  1.612 ( 1.656)\tData  0.975 ( 0.979)\tLoss 4.5753e+00 (5.5646e+00)\tAcc@1  13.40 (  5.28)\tAcc@5  31.40 ( 15.03)\n",
      "Epoch: [0][ 910/2563]\tTime  1.927 ( 1.656)\tData  1.289 ( 0.980)\tLoss 4.7023e+00 (5.5551e+00)\tAcc@1   9.60 (  5.34)\tAcc@5  27.80 ( 15.17)\n",
      "Epoch: [0][ 920/2563]\tTime  1.642 ( 1.656)\tData  1.009 ( 0.979)\tLoss 4.5928e+00 (5.5459e+00)\tAcc@1  14.60 (  5.41)\tAcc@5  31.60 ( 15.32)\n",
      "Epoch: [0][ 930/2563]\tTime  1.250 ( 1.656)\tData  0.611 ( 0.981)\tLoss 4.5639e+00 (5.5367e+00)\tAcc@1   9.40 (  5.47)\tAcc@5  26.20 ( 15.46)\n",
      "Epoch: [0][ 940/2563]\tTime  1.513 ( 1.655)\tData  0.876 ( 0.980)\tLoss 4.6244e+00 (5.5273e+00)\tAcc@1  12.80 (  5.55)\tAcc@5  32.60 ( 15.60)\n",
      "Epoch: [0][ 950/2563]\tTime  1.662 ( 1.655)\tData  1.026 ( 0.980)\tLoss 4.7114e+00 (5.5182e+00)\tAcc@1  10.40 (  5.61)\tAcc@5  26.40 ( 15.74)\n",
      "Epoch: [0][ 960/2563]\tTime  1.923 ( 1.655)\tData  1.287 ( 0.980)\tLoss 4.5753e+00 (5.5092e+00)\tAcc@1  13.20 (  5.68)\tAcc@5  30.20 ( 15.88)\n",
      "Epoch: [0][ 970/2563]\tTime  1.653 ( 1.654)\tData  1.015 ( 0.980)\tLoss 4.6537e+00 (5.5001e+00)\tAcc@1  12.00 (  5.75)\tAcc@5  26.60 ( 16.02)\n",
      "Epoch: [0][ 980/2563]\tTime  2.188 ( 1.655)\tData  1.549 ( 0.981)\tLoss 4.6582e+00 (5.4912e+00)\tAcc@1  11.80 (  5.81)\tAcc@5  31.20 ( 16.16)\n",
      "Epoch: [0][ 990/2563]\tTime  2.274 ( 1.654)\tData  1.634 ( 0.981)\tLoss 4.7361e+00 (5.4825e+00)\tAcc@1   9.80 (  5.87)\tAcc@5  27.40 ( 16.29)\n",
      "Epoch: [0][1000/2563]\tTime  2.385 ( 1.654)\tData  1.744 ( 0.980)\tLoss 4.5814e+00 (5.4735e+00)\tAcc@1  12.40 (  5.94)\tAcc@5  31.00 ( 16.44)\n",
      "Epoch: [0][1010/2563]\tTime  2.141 ( 1.654)\tData  1.496 ( 0.980)\tLoss 4.5763e+00 (5.4647e+00)\tAcc@1  10.60 (  6.00)\tAcc@5  33.00 ( 16.58)\n",
      "Epoch: [0][1020/2563]\tTime  1.865 ( 1.654)\tData  1.220 ( 0.981)\tLoss 4.6481e+00 (5.4562e+00)\tAcc@1  13.60 (  6.07)\tAcc@5  30.20 ( 16.72)\n",
      "Epoch: [0][1030/2563]\tTime  1.941 ( 1.653)\tData  1.293 ( 0.981)\tLoss 4.4861e+00 (5.4478e+00)\tAcc@1  12.00 (  6.13)\tAcc@5  30.00 ( 16.84)\n",
      "Epoch: [0][1040/2563]\tTime  1.542 ( 1.653)\tData  0.894 ( 0.981)\tLoss 4.6175e+00 (5.4393e+00)\tAcc@1  12.00 (  6.20)\tAcc@5  29.40 ( 16.97)\n",
      "Epoch: [0][1050/2563]\tTime  1.435 ( 1.653)\tData  0.787 ( 0.980)\tLoss 4.5546e+00 (5.4309e+00)\tAcc@1  10.20 (  6.25)\tAcc@5  31.80 ( 17.11)\n",
      "Epoch: [0][1060/2563]\tTime  1.149 ( 1.653)\tData  0.497 ( 0.981)\tLoss 4.4541e+00 (5.4218e+00)\tAcc@1  14.80 (  6.33)\tAcc@5  33.20 ( 17.25)\n",
      "Epoch: [0][1070/2563]\tTime  0.996 ( 1.652)\tData  0.346 ( 0.980)\tLoss 4.4926e+00 (5.4132e+00)\tAcc@1  13.00 (  6.39)\tAcc@5  33.20 ( 17.39)\n",
      "Epoch: [0][1080/2563]\tTime  0.753 ( 1.651)\tData  0.101 ( 0.980)\tLoss 4.4187e+00 (5.4048e+00)\tAcc@1  15.00 (  6.45)\tAcc@5  33.00 ( 17.52)\n",
      "Epoch: [0][1090/2563]\tTime  0.930 ( 1.652)\tData  0.274 ( 0.980)\tLoss 4.6871e+00 (5.3965e+00)\tAcc@1  11.80 (  6.52)\tAcc@5  30.80 ( 17.66)\n",
      "Epoch: [0][1100/2563]\tTime  0.755 ( 1.652)\tData  0.097 ( 0.980)\tLoss 4.4457e+00 (5.3884e+00)\tAcc@1  16.20 (  6.60)\tAcc@5  33.20 ( 17.80)\n",
      "Epoch: [0][1110/2563]\tTime  1.073 ( 1.651)\tData  0.413 ( 0.980)\tLoss 4.4673e+00 (5.3795e+00)\tAcc@1  14.40 (  6.66)\tAcc@5  32.20 ( 17.94)\n",
      "Epoch: [0][1120/2563]\tTime  0.795 ( 1.651)\tData  0.139 ( 0.979)\tLoss 4.4549e+00 (5.3714e+00)\tAcc@1  13.40 (  6.73)\tAcc@5  33.60 ( 18.08)\n",
      "Epoch: [0][1130/2563]\tTime  1.198 ( 1.651)\tData  0.541 ( 0.980)\tLoss 4.4523e+00 (5.3630e+00)\tAcc@1  14.60 (  6.80)\tAcc@5  31.60 ( 18.21)\n",
      "Epoch: [0][1140/2563]\tTime  1.132 ( 1.651)\tData  0.474 ( 0.979)\tLoss 4.3032e+00 (5.3548e+00)\tAcc@1  16.60 (  6.87)\tAcc@5  36.40 ( 18.34)\n",
      "Epoch: [0][1150/2563]\tTime  1.734 ( 1.652)\tData  1.075 ( 0.980)\tLoss 4.4417e+00 (5.3470e+00)\tAcc@1  13.20 (  6.93)\tAcc@5  31.00 ( 18.47)\n",
      "Epoch: [0][1160/2563]\tTime  1.512 ( 1.651)\tData  0.852 ( 0.980)\tLoss 4.4288e+00 (5.3387e+00)\tAcc@1  14.80 (  7.00)\tAcc@5  32.80 ( 18.61)\n",
      "Epoch: [0][1170/2563]\tTime  1.301 ( 1.651)\tData  0.646 ( 0.980)\tLoss 4.4443e+00 (5.3307e+00)\tAcc@1  15.40 (  7.06)\tAcc@5  35.20 ( 18.75)\n",
      "Epoch: [0][1180/2563]\tTime  1.753 ( 1.651)\tData  1.095 ( 0.980)\tLoss 4.2035e+00 (5.3227e+00)\tAcc@1  18.60 (  7.12)\tAcc@5  39.40 ( 18.88)\n",
      "Epoch: [0][1190/2563]\tTime  1.179 ( 1.651)\tData  0.521 ( 0.980)\tLoss 4.2165e+00 (5.3146e+00)\tAcc@1  15.00 (  7.19)\tAcc@5  39.00 ( 19.01)\n"
     ]
    },
    {
     "name": "stdout",
     "output_type": "stream",
     "text": [
      "Epoch: [0][1200/2563]\tTime  1.374 ( 1.651)\tData  0.731 ( 0.981)\tLoss 4.3920e+00 (5.3064e+00)\tAcc@1  17.00 (  7.26)\tAcc@5  32.60 ( 19.15)\n",
      "Epoch: [0][1210/2563]\tTime  1.829 ( 1.651)\tData  1.190 ( 0.981)\tLoss 4.2160e+00 (5.2983e+00)\tAcc@1  17.60 (  7.33)\tAcc@5  37.00 ( 19.28)\n",
      "Epoch: [0][1220/2563]\tTime  1.606 ( 1.651)\tData  0.966 ( 0.980)\tLoss 4.3465e+00 (5.2904e+00)\tAcc@1  14.20 (  7.39)\tAcc@5  35.00 ( 19.41)\n",
      "Epoch: [0][1230/2563]\tTime  1.479 ( 1.651)\tData  0.841 ( 0.981)\tLoss 4.3133e+00 (5.2824e+00)\tAcc@1  13.20 (  7.46)\tAcc@5  34.20 ( 19.54)\n",
      "Epoch: [0][1240/2563]\tTime  2.099 ( 1.651)\tData  1.464 ( 0.981)\tLoss 4.3256e+00 (5.2744e+00)\tAcc@1  14.40 (  7.52)\tAcc@5  32.60 ( 19.67)\n",
      "Epoch: [0][1250/2563]\tTime  1.479 ( 1.650)\tData  0.845 ( 0.981)\tLoss 4.3818e+00 (5.2669e+00)\tAcc@1  15.60 (  7.59)\tAcc@5  35.00 ( 19.80)\n",
      "Epoch: [0][1260/2563]\tTime  1.198 ( 1.650)\tData  0.563 ( 0.981)\tLoss 4.4859e+00 (5.2591e+00)\tAcc@1  14.60 (  7.65)\tAcc@5  32.20 ( 19.93)\n",
      "Epoch: [0][1270/2563]\tTime  1.493 ( 1.649)\tData  0.859 ( 0.981)\tLoss 4.1834e+00 (5.2517e+00)\tAcc@1  15.00 (  7.71)\tAcc@5  37.60 ( 20.05)\n",
      "Epoch: [0][1280/2563]\tTime  1.739 ( 1.649)\tData  1.103 ( 0.981)\tLoss 4.2486e+00 (5.2441e+00)\tAcc@1  17.00 (  7.78)\tAcc@5  38.00 ( 20.18)\n",
      "Epoch: [0][1290/2563]\tTime  2.431 ( 1.649)\tData  1.795 ( 0.981)\tLoss 4.3873e+00 (5.2367e+00)\tAcc@1  13.40 (  7.84)\tAcc@5  34.20 ( 20.30)\n",
      "Epoch: [0][1300/2563]\tTime  2.372 ( 1.648)\tData  1.715 ( 0.980)\tLoss 4.2243e+00 (5.2290e+00)\tAcc@1  16.80 (  7.91)\tAcc@5  36.40 ( 20.43)\n",
      "Epoch: [0][1310/2563]\tTime  2.124 ( 1.649)\tData  1.488 ( 0.981)\tLoss 4.4700e+00 (5.2214e+00)\tAcc@1  11.80 (  7.97)\tAcc@5  32.60 ( 20.56)\n",
      "Epoch: [0][1320/2563]\tTime  1.734 ( 1.648)\tData  1.095 ( 0.980)\tLoss 4.2420e+00 (5.2141e+00)\tAcc@1  18.00 (  8.04)\tAcc@5  36.80 ( 20.68)\n",
      "Epoch: [0][1330/2563]\tTime  1.776 ( 1.648)\tData  1.135 ( 0.981)\tLoss 4.2025e+00 (5.2066e+00)\tAcc@1  15.00 (  8.10)\tAcc@5  40.20 ( 20.81)\n",
      "Epoch: [0][1340/2563]\tTime  1.796 ( 1.648)\tData  1.157 ( 0.981)\tLoss 4.2131e+00 (5.1995e+00)\tAcc@1  18.60 (  8.16)\tAcc@5  38.00 ( 20.93)\n",
      "Epoch: [0][1350/2563]\tTime  2.098 ( 1.648)\tData  1.460 ( 0.981)\tLoss 4.1080e+00 (5.1922e+00)\tAcc@1  17.80 (  8.23)\tAcc@5  40.40 ( 21.05)\n",
      "Epoch: [0][1360/2563]\tTime  1.815 ( 1.647)\tData  1.175 ( 0.981)\tLoss 4.1759e+00 (5.1848e+00)\tAcc@1  16.60 (  8.29)\tAcc@5  39.00 ( 21.18)\n",
      "Epoch: [0][1370/2563]\tTime  2.076 ( 1.647)\tData  1.434 ( 0.981)\tLoss 4.1148e+00 (5.1773e+00)\tAcc@1  18.20 (  8.36)\tAcc@5  36.40 ( 21.30)\n",
      "Epoch: [0][1380/2563]\tTime  2.576 ( 1.647)\tData  1.888 ( 0.981)\tLoss 4.0611e+00 (5.1698e+00)\tAcc@1  18.00 (  8.43)\tAcc@5  39.80 ( 21.43)\n",
      "Epoch: [0][1390/2563]\tTime  1.830 ( 1.647)\tData  1.184 ( 0.980)\tLoss 4.1723e+00 (5.1625e+00)\tAcc@1  17.20 (  8.49)\tAcc@5  41.60 ( 21.56)\n",
      "Epoch: [0][1400/2563]\tTime  1.613 ( 1.647)\tData  0.965 ( 0.981)\tLoss 4.0025e+00 (5.1550e+00)\tAcc@1  19.20 (  8.56)\tAcc@5  40.80 ( 21.69)\n",
      "Epoch: [0][1410/2563]\tTime  1.298 ( 1.646)\tData  0.652 ( 0.980)\tLoss 4.0490e+00 (5.1481e+00)\tAcc@1  19.60 (  8.62)\tAcc@5  44.20 ( 21.81)\n",
      "Epoch: [0][1420/2563]\tTime  1.238 ( 1.647)\tData  0.588 ( 0.981)\tLoss 4.1697e+00 (5.1409e+00)\tAcc@1  19.40 (  8.68)\tAcc@5  37.00 ( 21.93)\n",
      "Epoch: [0][1430/2563]\tTime  1.321 ( 1.647)\tData  0.672 ( 0.981)\tLoss 4.0603e+00 (5.1334e+00)\tAcc@1  17.20 (  8.75)\tAcc@5  39.60 ( 22.06)\n",
      "Epoch: [0][1440/2563]\tTime  1.501 ( 1.646)\tData  0.851 ( 0.980)\tLoss 3.9960e+00 (5.1262e+00)\tAcc@1  20.00 (  8.82)\tAcc@5  41.40 ( 22.19)\n",
      "Epoch: [0][1450/2563]\tTime  1.423 ( 1.647)\tData  0.769 ( 0.981)\tLoss 4.1672e+00 (5.1192e+00)\tAcc@1  17.80 (  8.89)\tAcc@5  39.40 ( 22.31)\n",
      "Epoch: [0][1460/2563]\tTime  0.751 ( 1.647)\tData  0.097 ( 0.981)\tLoss 3.9982e+00 (5.1120e+00)\tAcc@1  19.20 (  8.95)\tAcc@5  42.80 ( 22.44)\n",
      "Epoch: [0][1470/2563]\tTime  0.755 ( 1.647)\tData  0.100 ( 0.981)\tLoss 3.9263e+00 (5.1050e+00)\tAcc@1  20.20 (  9.01)\tAcc@5  43.40 ( 22.56)\n",
      "Epoch: [0][1480/2563]\tTime  0.657 ( 1.647)\tData  0.002 ( 0.981)\tLoss 3.9839e+00 (5.0985e+00)\tAcc@1  18.00 (  9.07)\tAcc@5  42.80 ( 22.67)\n",
      "Epoch: [0][1490/2563]\tTime  0.656 ( 1.647)\tData  0.002 ( 0.981)\tLoss 4.1926e+00 (5.0918e+00)\tAcc@1  18.60 (  9.14)\tAcc@5  37.80 ( 22.79)\n",
      "Epoch: [0][1500/2563]\tTime  0.662 ( 1.647)\tData  0.002 ( 0.981)\tLoss 4.0177e+00 (5.0850e+00)\tAcc@1  18.60 (  9.19)\tAcc@5  42.00 ( 22.91)\n",
      "Epoch: [0][1510/2563]\tTime  0.660 ( 1.647)\tData  0.003 ( 0.981)\tLoss 4.1322e+00 (5.0784e+00)\tAcc@1  17.80 (  9.26)\tAcc@5  39.60 ( 23.03)\n",
      "Epoch: [0][1520/2563]\tTime  0.660 ( 1.647)\tData  0.002 ( 0.980)\tLoss 4.1766e+00 (5.0716e+00)\tAcc@1  17.00 (  9.32)\tAcc@5  40.60 ( 23.15)\n",
      "Epoch: [0][1530/2563]\tTime  0.660 ( 1.647)\tData  0.002 ( 0.980)\tLoss 3.8637e+00 (5.0644e+00)\tAcc@1  22.60 (  9.39)\tAcc@5  44.60 ( 23.27)\n",
      "Epoch: [0][1540/2563]\tTime  0.667 ( 1.646)\tData  0.002 ( 0.980)\tLoss 3.9573e+00 (5.0573e+00)\tAcc@1  20.00 (  9.46)\tAcc@5  43.80 ( 23.39)\n",
      "Epoch: [0][1550/2563]\tTime  1.192 ( 1.647)\tData  0.529 ( 0.980)\tLoss 4.0068e+00 (5.0502e+00)\tAcc@1  19.80 (  9.53)\tAcc@5  40.60 ( 23.52)\n",
      "Epoch: [0][1560/2563]\tTime  1.388 ( 1.646)\tData  0.731 ( 0.980)\tLoss 3.7967e+00 (5.0432e+00)\tAcc@1  20.80 (  9.60)\tAcc@5  44.20 ( 23.64)\n",
      "Epoch: [0][1570/2563]\tTime  1.477 ( 1.646)\tData  0.833 ( 0.980)\tLoss 4.0522e+00 (5.0373e+00)\tAcc@1  19.00 (  9.65)\tAcc@5  41.20 ( 23.74)\n",
      "Epoch: [0][1580/2563]\tTime  1.643 ( 1.646)\tData  1.005 ( 0.980)\tLoss 4.1465e+00 (5.0306e+00)\tAcc@1  16.60 (  9.72)\tAcc@5  39.20 ( 23.86)\n",
      "Epoch: [0][1590/2563]\tTime  1.401 ( 1.646)\tData  0.766 ( 0.980)\tLoss 4.0296e+00 (5.0239e+00)\tAcc@1  19.00 (  9.78)\tAcc@5  43.60 ( 23.98)\n",
      "Epoch: [0][1600/2563]\tTime  1.796 ( 1.647)\tData  1.159 ( 0.981)\tLoss 4.0175e+00 (5.0175e+00)\tAcc@1  18.80 (  9.84)\tAcc@5  41.40 ( 24.09)\n",
      "Epoch: [0][1610/2563]\tTime  1.332 ( 1.646)\tData  0.697 ( 0.981)\tLoss 3.9992e+00 (5.0112e+00)\tAcc@1  17.80 (  9.90)\tAcc@5  43.00 ( 24.20)\n",
      "Epoch: [0][1620/2563]\tTime  1.613 ( 1.647)\tData  0.979 ( 0.981)\tLoss 3.8597e+00 (5.0048e+00)\tAcc@1  19.00 (  9.97)\tAcc@5  44.00 ( 24.31)\n",
      "Epoch: [0][1630/2563]\tTime  1.992 ( 1.646)\tData  1.356 ( 0.981)\tLoss 3.8636e+00 (4.9981e+00)\tAcc@1  18.80 ( 10.03)\tAcc@5  46.40 ( 24.43)\n",
      "Epoch: [0][1640/2563]\tTime  2.504 ( 1.646)\tData  1.825 ( 0.981)\tLoss 3.9545e+00 (4.9921e+00)\tAcc@1  22.80 ( 10.09)\tAcc@5  41.00 ( 24.54)\n",
      "Epoch: [0][1650/2563]\tTime  2.553 ( 1.646)\tData  1.886 ( 0.981)\tLoss 4.0675e+00 (4.9861e+00)\tAcc@1  19.60 ( 10.15)\tAcc@5  41.20 ( 24.65)\n",
      "Epoch: [0][1660/2563]\tTime  2.648 ( 1.646)\tData  1.962 ( 0.981)\tLoss 4.0999e+00 (4.9795e+00)\tAcc@1  18.20 ( 10.21)\tAcc@5  41.80 ( 24.76)\n",
      "Epoch: [0][1670/2563]\tTime  2.342 ( 1.645)\tData  1.706 ( 0.981)\tLoss 3.9395e+00 (4.9733e+00)\tAcc@1  18.80 ( 10.28)\tAcc@5  43.00 ( 24.87)\n",
      "Epoch: [0][1680/2563]\tTime  2.652 ( 1.646)\tData  1.968 ( 0.981)\tLoss 3.7528e+00 (4.9669e+00)\tAcc@1  24.00 ( 10.35)\tAcc@5  47.20 ( 24.99)\n",
      "Epoch: [0][1690/2563]\tTime  2.612 ( 1.646)\tData  1.926 ( 0.981)\tLoss 4.0542e+00 (4.9603e+00)\tAcc@1  20.40 ( 10.41)\tAcc@5  41.00 ( 25.10)\n",
      "Epoch: [0][1700/2563]\tTime  3.358 ( 1.646)\tData  2.639 ( 0.981)\tLoss 3.8043e+00 (4.9538e+00)\tAcc@1  21.80 ( 10.48)\tAcc@5  44.20 ( 25.22)\n",
      "Epoch: [0][1710/2563]\tTime  2.540 ( 1.646)\tData  1.853 ( 0.981)\tLoss 3.8880e+00 (4.9476e+00)\tAcc@1  22.20 ( 10.54)\tAcc@5  44.60 ( 25.33)\n",
      "Epoch: [0][1720/2563]\tTime  2.518 ( 1.646)\tData  1.858 ( 0.981)\tLoss 3.8443e+00 (4.9412e+00)\tAcc@1  21.20 ( 10.61)\tAcc@5  45.20 ( 25.44)\n",
      "Epoch: [0][1730/2563]\tTime  2.542 ( 1.646)\tData  1.866 ( 0.982)\tLoss 3.7051e+00 (4.9346e+00)\tAcc@1  22.60 ( 10.67)\tAcc@5  49.20 ( 25.56)\n",
      "Epoch: [0][1740/2563]\tTime  2.679 ( 1.646)\tData  1.989 ( 0.981)\tLoss 4.1604e+00 (4.9284e+00)\tAcc@1  19.80 ( 10.73)\tAcc@5  41.00 ( 25.67)\n",
      "Epoch: [0][1750/2563]\tTime  2.570 ( 1.646)\tData  1.877 ( 0.981)\tLoss 3.8410e+00 (4.9222e+00)\tAcc@1  20.40 ( 10.79)\tAcc@5  43.00 ( 25.78)\n",
      "Epoch: [0][1760/2563]\tTime  2.486 ( 1.646)\tData  1.811 ( 0.981)\tLoss 3.6163e+00 (4.9160e+00)\tAcc@1  23.80 ( 10.85)\tAcc@5  50.00 ( 25.89)\n",
      "Epoch: [0][1770/2563]\tTime  2.784 ( 1.647)\tData  2.093 ( 0.982)\tLoss 3.6469e+00 (4.9099e+00)\tAcc@1  27.00 ( 10.92)\tAcc@5  48.20 ( 26.00)\n",
      "Epoch: [0][1780/2563]\tTime  2.722 ( 1.646)\tData  2.018 ( 0.982)\tLoss 3.6066e+00 (4.9038e+00)\tAcc@1  26.40 ( 10.98)\tAcc@5  50.00 ( 26.11)\n",
      "Epoch: [0][1790/2563]\tTime  2.531 ( 1.646)\tData  1.832 ( 0.981)\tLoss 3.8522e+00 (4.8976e+00)\tAcc@1  24.00 ( 11.05)\tAcc@5  45.60 ( 26.22)\n"
     ]
    },
    {
     "name": "stdout",
     "output_type": "stream",
     "text": [
      "Epoch: [0][1800/2563]\tTime  2.422 ( 1.646)\tData  1.773 ( 0.981)\tLoss 3.9128e+00 (4.8915e+00)\tAcc@1  18.40 ( 11.11)\tAcc@5  43.80 ( 26.33)\n",
      "Epoch: [0][1810/2563]\tTime  2.624 ( 1.646)\tData  1.921 ( 0.981)\tLoss 3.8695e+00 (4.8851e+00)\tAcc@1  20.80 ( 11.17)\tAcc@5  43.20 ( 26.45)\n",
      "Epoch: [0][1820/2563]\tTime  2.436 ( 1.646)\tData  1.783 ( 0.981)\tLoss 3.8543e+00 (4.8789e+00)\tAcc@1  21.20 ( 11.24)\tAcc@5  45.20 ( 26.56)\n",
      "Epoch: [0][1830/2563]\tTime  2.572 ( 1.646)\tData  1.857 ( 0.981)\tLoss 3.8314e+00 (4.8729e+00)\tAcc@1  20.80 ( 11.31)\tAcc@5  45.60 ( 26.67)\n",
      "Epoch: [0][1840/2563]\tTime  2.697 ( 1.646)\tData  1.982 ( 0.981)\tLoss 3.8130e+00 (4.8671e+00)\tAcc@1  24.00 ( 11.36)\tAcc@5  46.40 ( 26.77)\n",
      "Epoch: [0][1850/2563]\tTime  2.474 ( 1.645)\tData  1.822 ( 0.980)\tLoss 3.8999e+00 (4.8613e+00)\tAcc@1  20.20 ( 11.42)\tAcc@5  44.60 ( 26.88)\n",
      "Epoch: [0][1860/2563]\tTime  2.605 ( 1.645)\tData  1.899 ( 0.980)\tLoss 3.6072e+00 (4.8551e+00)\tAcc@1  22.40 ( 11.49)\tAcc@5  49.80 ( 26.99)\n",
      "Epoch: [0][1870/2563]\tTime  2.374 ( 1.645)\tData  1.712 ( 0.980)\tLoss 3.6016e+00 (4.8490e+00)\tAcc@1  27.80 ( 11.55)\tAcc@5  49.00 ( 27.10)\n",
      "Epoch: [0][1880/2563]\tTime  2.554 ( 1.645)\tData  1.842 ( 0.980)\tLoss 3.6917e+00 (4.8430e+00)\tAcc@1  23.00 ( 11.61)\tAcc@5  46.20 ( 27.21)\n",
      "Epoch: [0][1890/2563]\tTime  2.399 ( 1.645)\tData  1.740 ( 0.979)\tLoss 3.6933e+00 (4.8371e+00)\tAcc@1  21.20 ( 11.67)\tAcc@5  46.20 ( 27.31)\n",
      "Epoch: [0][1900/2563]\tTime  2.554 ( 1.644)\tData  1.845 ( 0.979)\tLoss 3.5803e+00 (4.8311e+00)\tAcc@1  25.60 ( 11.73)\tAcc@5  50.60 ( 27.42)\n",
      "Epoch: [0][1910/2563]\tTime  2.884 ( 1.645)\tData  2.157 ( 0.979)\tLoss 3.7199e+00 (4.8250e+00)\tAcc@1  25.40 ( 11.80)\tAcc@5  48.20 ( 27.53)\n",
      "Epoch: [0][1920/2563]\tTime  2.642 ( 1.644)\tData  1.925 ( 0.979)\tLoss 3.6995e+00 (4.8195e+00)\tAcc@1  23.80 ( 11.85)\tAcc@5  47.60 ( 27.62)\n",
      "Epoch: [0][1930/2563]\tTime  2.736 ( 1.644)\tData  2.026 ( 0.979)\tLoss 3.5391e+00 (4.8136e+00)\tAcc@1  29.00 ( 11.91)\tAcc@5  52.20 ( 27.73)\n",
      "Epoch: [0][1940/2563]\tTime  2.577 ( 1.644)\tData  1.857 ( 0.978)\tLoss 3.6781e+00 (4.8077e+00)\tAcc@1  23.40 ( 11.98)\tAcc@5  46.40 ( 27.83)\n",
      "Epoch: [0][1950/2563]\tTime  2.782 ( 1.644)\tData  2.071 ( 0.978)\tLoss 3.7359e+00 (4.8019e+00)\tAcc@1  22.20 ( 12.04)\tAcc@5  47.20 ( 27.94)\n",
      "Epoch: [0][1960/2563]\tTime  2.478 ( 1.644)\tData  1.799 ( 0.978)\tLoss 3.6846e+00 (4.7963e+00)\tAcc@1  22.20 ( 12.09)\tAcc@5  46.60 ( 28.04)\n",
      "Epoch: [0][1970/2563]\tTime  2.573 ( 1.644)\tData  1.868 ( 0.978)\tLoss 3.8171e+00 (4.7909e+00)\tAcc@1  23.40 ( 12.15)\tAcc@5  47.40 ( 28.13)\n",
      "Epoch: [0][1980/2563]\tTime  2.859 ( 1.645)\tData  2.144 ( 0.979)\tLoss 3.7431e+00 (4.7854e+00)\tAcc@1  22.80 ( 12.20)\tAcc@5  47.60 ( 28.23)\n",
      "Epoch: [0][1990/2563]\tTime  2.476 ( 1.644)\tData  1.796 ( 0.978)\tLoss 3.6308e+00 (4.7796e+00)\tAcc@1  21.60 ( 12.27)\tAcc@5  49.20 ( 28.34)\n",
      "Epoch: [0][2000/2563]\tTime  2.721 ( 1.644)\tData  1.987 ( 0.978)\tLoss 3.6888e+00 (4.7740e+00)\tAcc@1  23.40 ( 12.33)\tAcc@5  47.60 ( 28.44)\n",
      "Epoch: [0][2010/2563]\tTime  2.525 ( 1.645)\tData  1.824 ( 0.978)\tLoss 3.7095e+00 (4.7682e+00)\tAcc@1  21.80 ( 12.38)\tAcc@5  47.80 ( 28.54)\n",
      "Epoch: [0][2020/2563]\tTime  2.456 ( 1.644)\tData  1.789 ( 0.978)\tLoss 3.5944e+00 (4.7622e+00)\tAcc@1  26.20 ( 12.45)\tAcc@5  50.20 ( 28.64)\n",
      "Epoch: [0][2030/2563]\tTime  2.391 ( 1.645)\tData  1.728 ( 0.978)\tLoss 3.6925e+00 (4.7568e+00)\tAcc@1  22.40 ( 12.51)\tAcc@5  46.60 ( 28.74)\n",
      "Epoch: [0][2040/2563]\tTime  2.726 ( 1.645)\tData  2.006 ( 0.978)\tLoss 3.6648e+00 (4.7513e+00)\tAcc@1  24.00 ( 12.57)\tAcc@5  46.00 ( 28.84)\n",
      "Epoch: [0][2050/2563]\tTime  2.760 ( 1.644)\tData  2.055 ( 0.978)\tLoss 3.5461e+00 (4.7458e+00)\tAcc@1  25.60 ( 12.63)\tAcc@5  51.00 ( 28.94)\n",
      "Epoch: [0][2060/2563]\tTime  2.679 ( 1.645)\tData  1.946 ( 0.978)\tLoss 3.6648e+00 (4.7402e+00)\tAcc@1  23.80 ( 12.68)\tAcc@5  49.60 ( 29.03)\n",
      "Epoch: [0][2070/2563]\tTime  2.558 ( 1.645)\tData  1.843 ( 0.978)\tLoss 3.3907e+00 (4.7346e+00)\tAcc@1  26.20 ( 12.74)\tAcc@5  55.00 ( 29.14)\n",
      "Epoch: [0][2080/2563]\tTime  2.465 ( 1.645)\tData  1.805 ( 0.978)\tLoss 3.6459e+00 (4.7289e+00)\tAcc@1  27.00 ( 12.81)\tAcc@5  48.20 ( 29.24)\n",
      "Epoch: [0][2090/2563]\tTime  2.369 ( 1.645)\tData  1.704 ( 0.978)\tLoss 3.4615e+00 (4.7232e+00)\tAcc@1  29.80 ( 12.87)\tAcc@5  55.60 ( 29.34)\n",
      "Epoch: [0][2100/2563]\tTime  2.630 ( 1.645)\tData  1.917 ( 0.978)\tLoss 3.7516e+00 (4.7178e+00)\tAcc@1  22.60 ( 12.93)\tAcc@5  45.20 ( 29.44)\n",
      "Epoch: [0][2110/2563]\tTime  2.563 ( 1.645)\tData  1.860 ( 0.977)\tLoss 3.3891e+00 (4.7123e+00)\tAcc@1  29.00 ( 12.99)\tAcc@5  52.60 ( 29.54)\n",
      "Epoch: [0][2120/2563]\tTime  2.640 ( 1.645)\tData  1.906 ( 0.977)\tLoss 3.7213e+00 (4.7070e+00)\tAcc@1  21.80 ( 13.05)\tAcc@5  48.20 ( 29.64)\n",
      "Epoch: [0][2130/2563]\tTime  2.357 ( 1.644)\tData  1.695 ( 0.977)\tLoss 3.6740e+00 (4.7016e+00)\tAcc@1  23.80 ( 13.11)\tAcc@5  46.40 ( 29.73)\n",
      "Epoch: [0][2140/2563]\tTime  2.737 ( 1.644)\tData  2.031 ( 0.977)\tLoss 3.4626e+00 (4.6963e+00)\tAcc@1  28.40 ( 13.17)\tAcc@5  52.20 ( 29.83)\n",
      "Epoch: [0][2150/2563]\tTime  2.547 ( 1.644)\tData  1.834 ( 0.976)\tLoss 3.4911e+00 (4.6913e+00)\tAcc@1  27.60 ( 13.23)\tAcc@5  50.80 ( 29.92)\n",
      "Epoch: [0][2160/2563]\tTime  2.630 ( 1.644)\tData  1.899 ( 0.976)\tLoss 3.7201e+00 (4.6860e+00)\tAcc@1  24.00 ( 13.29)\tAcc@5  48.00 ( 30.01)\n",
      "Epoch: [0][2170/2563]\tTime  3.237 ( 1.644)\tData  2.526 ( 0.976)\tLoss 3.4880e+00 (4.6808e+00)\tAcc@1  28.60 ( 13.35)\tAcc@5  52.60 ( 30.11)\n",
      "Epoch: [0][2180/2563]\tTime  2.645 ( 1.644)\tData  1.940 ( 0.976)\tLoss 3.5610e+00 (4.6755e+00)\tAcc@1  26.40 ( 13.41)\tAcc@5  50.00 ( 30.21)\n",
      "Epoch: [0][2190/2563]\tTime  3.171 ( 1.644)\tData  2.457 ( 0.976)\tLoss 3.4522e+00 (4.6702e+00)\tAcc@1  29.40 ( 13.47)\tAcc@5  53.40 ( 30.31)\n",
      "Epoch: [0][2200/2563]\tTime  2.461 ( 1.644)\tData  1.791 ( 0.976)\tLoss 3.5716e+00 (4.6652e+00)\tAcc@1  27.40 ( 13.53)\tAcc@5  50.40 ( 30.40)\n",
      "Epoch: [0][2210/2563]\tTime  2.585 ( 1.644)\tData  1.866 ( 0.976)\tLoss 3.5965e+00 (4.6599e+00)\tAcc@1  27.20 ( 13.58)\tAcc@5  50.20 ( 30.50)\n",
      "Epoch: [0][2220/2563]\tTime  2.498 ( 1.644)\tData  1.783 ( 0.976)\tLoss 3.5203e+00 (4.6545e+00)\tAcc@1  28.00 ( 13.64)\tAcc@5  50.80 ( 30.60)\n",
      "Epoch: [0][2230/2563]\tTime  2.471 ( 1.644)\tData  1.793 ( 0.975)\tLoss 3.7108e+00 (4.6495e+00)\tAcc@1  22.60 ( 13.70)\tAcc@5  47.00 ( 30.69)\n",
      "Epoch: [0][2240/2563]\tTime  2.677 ( 1.643)\tData  1.973 ( 0.975)\tLoss 3.4724e+00 (4.6443e+00)\tAcc@1  28.20 ( 13.76)\tAcc@5  52.80 ( 30.79)\n",
      "Epoch: [0][2250/2563]\tTime  2.575 ( 1.644)\tData  1.882 ( 0.975)\tLoss 3.4736e+00 (4.6392e+00)\tAcc@1  25.00 ( 13.82)\tAcc@5  52.80 ( 30.88)\n",
      "Epoch: [0][2260/2563]\tTime  2.793 ( 1.644)\tData  2.081 ( 0.975)\tLoss 3.3521e+00 (4.6340e+00)\tAcc@1  28.40 ( 13.88)\tAcc@5  51.20 ( 30.97)\n",
      "Epoch: [0][2270/2563]\tTime  2.364 ( 1.644)\tData  1.700 ( 0.975)\tLoss 3.4548e+00 (4.6289e+00)\tAcc@1  24.60 ( 13.93)\tAcc@5  51.60 ( 31.07)\n",
      "Epoch: [0][2280/2563]\tTime  2.587 ( 1.643)\tData  1.867 ( 0.975)\tLoss 3.5622e+00 (4.6239e+00)\tAcc@1  26.00 ( 13.98)\tAcc@5  49.40 ( 31.15)\n",
      "Epoch: [0][2290/2563]\tTime  2.637 ( 1.644)\tData  1.929 ( 0.975)\tLoss 3.4644e+00 (4.6190e+00)\tAcc@1  26.60 ( 14.04)\tAcc@5  51.00 ( 31.25)\n",
      "Epoch: [0][2300/2563]\tTime  2.450 ( 1.643)\tData  1.742 ( 0.975)\tLoss 3.3746e+00 (4.6138e+00)\tAcc@1  30.60 ( 14.10)\tAcc@5  54.00 ( 31.34)\n",
      "Epoch: [0][2310/2563]\tTime  2.408 ( 1.643)\tData  1.746 ( 0.975)\tLoss 3.3218e+00 (4.6084e+00)\tAcc@1  30.80 ( 14.17)\tAcc@5  54.80 ( 31.44)\n",
      "Epoch: [0][2320/2563]\tTime  2.468 ( 1.643)\tData  1.752 ( 0.974)\tLoss 3.5190e+00 (4.6033e+00)\tAcc@1  25.80 ( 14.22)\tAcc@5  51.40 ( 31.53)\n",
      "Epoch: [0][2330/2563]\tTime  3.423 ( 1.643)\tData  2.708 ( 0.974)\tLoss 3.3815e+00 (4.5984e+00)\tAcc@1  27.00 ( 14.27)\tAcc@5  53.40 ( 31.62)\n",
      "Epoch: [0][2340/2563]\tTime  2.743 ( 1.643)\tData  2.038 ( 0.974)\tLoss 3.3728e+00 (4.5934e+00)\tAcc@1  28.40 ( 14.33)\tAcc@5  55.80 ( 31.71)\n",
      "Epoch: [0][2350/2563]\tTime  2.689 ( 1.643)\tData  1.981 ( 0.974)\tLoss 3.4277e+00 (4.5887e+00)\tAcc@1  25.60 ( 14.39)\tAcc@5  51.40 ( 31.80)\n",
      "Epoch: [0][2360/2563]\tTime  2.548 ( 1.643)\tData  1.841 ( 0.974)\tLoss 3.3551e+00 (4.5837e+00)\tAcc@1  28.00 ( 14.44)\tAcc@5  55.40 ( 31.89)\n",
      "Epoch: [0][2370/2563]\tTime  2.773 ( 1.643)\tData  2.068 ( 0.974)\tLoss 3.5415e+00 (4.5789e+00)\tAcc@1  28.80 ( 14.50)\tAcc@5  51.40 ( 31.98)\n",
      "Epoch: [0][2380/2563]\tTime  2.482 ( 1.643)\tData  1.806 ( 0.974)\tLoss 3.4782e+00 (4.5739e+00)\tAcc@1  28.40 ( 14.56)\tAcc@5  53.20 ( 32.07)\n",
      "Epoch: [0][2390/2563]\tTime  2.339 ( 1.643)\tData  1.676 ( 0.974)\tLoss 3.4960e+00 (4.5690e+00)\tAcc@1  26.60 ( 14.61)\tAcc@5  52.00 ( 32.16)\n"
     ]
    },
    {
     "name": "stdout",
     "output_type": "stream",
     "text": [
      "Epoch: [0][2400/2563]\tTime  2.688 ( 1.643)\tData  1.952 ( 0.974)\tLoss 3.5244e+00 (4.5639e+00)\tAcc@1  23.20 ( 14.67)\tAcc@5  51.80 ( 32.25)\n",
      "Epoch: [0][2410/2563]\tTime  2.658 ( 1.643)\tData  1.927 ( 0.974)\tLoss 3.2986e+00 (4.5590e+00)\tAcc@1  29.00 ( 14.72)\tAcc@5  54.60 ( 32.34)\n",
      "Epoch: [0][2420/2563]\tTime  2.645 ( 1.643)\tData  1.916 ( 0.974)\tLoss 3.3658e+00 (4.5540e+00)\tAcc@1  28.20 ( 14.78)\tAcc@5  54.80 ( 32.43)\n",
      "Epoch: [0][2430/2563]\tTime  2.593 ( 1.643)\tData  1.874 ( 0.974)\tLoss 3.3194e+00 (4.5493e+00)\tAcc@1  30.00 ( 14.83)\tAcc@5  54.80 ( 32.51)\n",
      "Epoch: [0][2440/2563]\tTime  2.836 ( 1.643)\tData  2.107 ( 0.974)\tLoss 3.3547e+00 (4.5446e+00)\tAcc@1  30.40 ( 14.89)\tAcc@5  57.00 ( 32.60)\n",
      "Epoch: [0][2450/2563]\tTime  2.456 ( 1.644)\tData  1.785 ( 0.974)\tLoss 3.2607e+00 (4.5401e+00)\tAcc@1  29.80 ( 14.94)\tAcc@5  57.00 ( 32.68)\n",
      "Epoch: [0][2460/2563]\tTime  2.683 ( 1.643)\tData  1.946 ( 0.974)\tLoss 3.4323e+00 (4.5352e+00)\tAcc@1  26.60 ( 15.00)\tAcc@5  53.00 ( 32.77)\n",
      "Epoch: [0][2470/2563]\tTime  2.316 ( 1.643)\tData  1.648 ( 0.973)\tLoss 3.3597e+00 (4.5307e+00)\tAcc@1  25.80 ( 15.05)\tAcc@5  55.80 ( 32.86)\n",
      "Epoch: [0][2480/2563]\tTime  2.860 ( 1.643)\tData  2.139 ( 0.973)\tLoss 3.4392e+00 (4.5261e+00)\tAcc@1  26.60 ( 15.10)\tAcc@5  50.20 ( 32.94)\n",
      "Epoch: [0][2490/2563]\tTime  2.551 ( 1.643)\tData  1.856 ( 0.973)\tLoss 3.6889e+00 (4.5216e+00)\tAcc@1  27.20 ( 15.16)\tAcc@5  48.40 ( 33.02)\n",
      "Epoch: [0][2500/2563]\tTime  2.645 ( 1.643)\tData  1.918 ( 0.973)\tLoss 3.1878e+00 (4.5168e+00)\tAcc@1  31.80 ( 15.22)\tAcc@5  56.60 ( 33.11)\n",
      "Epoch: [0][2510/2563]\tTime  2.464 ( 1.643)\tData  1.754 ( 0.973)\tLoss 3.2117e+00 (4.5121e+00)\tAcc@1  31.00 ( 15.27)\tAcc@5  54.60 ( 33.20)\n",
      "Epoch: [0][2520/2563]\tTime  3.013 ( 1.643)\tData  2.288 ( 0.973)\tLoss 3.1778e+00 (4.5073e+00)\tAcc@1  29.20 ( 15.33)\tAcc@5  56.60 ( 33.28)\n",
      "Epoch: [0][2530/2563]\tTime  2.881 ( 1.643)\tData  2.165 ( 0.973)\tLoss 3.4337e+00 (4.5025e+00)\tAcc@1  27.60 ( 15.39)\tAcc@5  52.80 ( 33.38)\n",
      "Epoch: [0][2540/2563]\tTime  2.434 ( 1.643)\tData  1.773 ( 0.973)\tLoss 3.1844e+00 (4.4976e+00)\tAcc@1  33.80 ( 15.44)\tAcc@5  55.40 ( 33.46)\n",
      "Epoch: [0][2550/2563]\tTime  2.582 ( 1.643)\tData  1.880 ( 0.973)\tLoss 3.2859e+00 (4.4931e+00)\tAcc@1  30.40 ( 15.50)\tAcc@5  54.60 ( 33.54)\n",
      "Epoch: [0][2560/2563]\tTime  2.478 ( 1.643)\tData  1.799 ( 0.973)\tLoss 3.2529e+00 (4.4882e+00)\tAcc@1  32.20 ( 15.56)\tAcc@5  56.00 ( 33.63)\n",
      "Test: [  0/100]\tTime  6.483 ( 6.483)\tLoss 3.9590e+00 (3.9590e+00)\tAcc@1  29.00 ( 29.00)\tAcc@5  48.40 ( 48.40)\n",
      "Test: [ 10/100]\tTime  2.963 ( 1.976)\tLoss 3.9870e+00 (4.0170e+00)\tAcc@1  21.00 ( 23.16)\tAcc@5  44.40 ( 44.69)\n",
      "Test: [ 20/100]\tTime  2.865 ( 1.842)\tLoss 4.3763e+00 (3.9825e+00)\tAcc@1  10.00 ( 21.34)\tAcc@5  33.80 ( 44.14)\n",
      "Test: [ 30/100]\tTime  2.885 ( 1.790)\tLoss 3.3320e+00 (3.8490e+00)\tAcc@1  24.80 ( 21.31)\tAcc@5  54.60 ( 45.63)\n",
      "Test: [ 40/100]\tTime  2.547 ( 1.772)\tLoss 3.2501e+00 (3.8563e+00)\tAcc@1  33.00 ( 21.81)\tAcc@5  59.20 ( 45.50)\n",
      "Test: [ 50/100]\tTime  2.774 ( 1.756)\tLoss 5.0104e+00 (3.9624e+00)\tAcc@1  10.80 ( 20.70)\tAcc@5  25.20 ( 43.51)\n",
      "Test: [ 60/100]\tTime  2.779 ( 1.748)\tLoss 4.0820e+00 (3.9786e+00)\tAcc@1  19.40 ( 20.48)\tAcc@5  40.80 ( 43.01)\n",
      "Test: [ 70/100]\tTime  2.950 ( 1.734)\tLoss 4.8737e+00 (4.0098e+00)\tAcc@1   9.40 ( 20.12)\tAcc@5  27.00 ( 42.45)\n",
      "Test: [ 80/100]\tTime  2.940 ( 1.727)\tLoss 4.0539e+00 (4.0500e+00)\tAcc@1  23.20 ( 20.01)\tAcc@5  41.80 ( 41.83)\n",
      "Test: [ 90/100]\tTime  2.892 ( 1.720)\tLoss 4.2836e+00 (4.0748e+00)\tAcc@1  20.20 ( 19.67)\tAcc@5  40.40 ( 41.40)\n",
      " * Acc@1 19.706 Acc@5 41.196\n",
      "lr: 0.05\n",
      "Epoch: [1][   0/2563]\tTime  4.411 ( 4.411)\tData  3.684 ( 3.684)\tLoss 3.2238e+00 (3.2238e+00)\tAcc@1  29.80 ( 29.80)\tAcc@5  56.80 ( 56.80)\n",
      "Epoch: [1][  10/2563]\tTime  2.504 ( 1.825)\tData  1.804 ( 1.149)\tLoss 3.1083e+00 (3.1708e+00)\tAcc@1  35.60 ( 32.91)\tAcc@5  58.40 ( 57.67)\n",
      "Epoch: [1][  20/2563]\tTime  2.560 ( 1.721)\tData  1.850 ( 1.046)\tLoss 3.0561e+00 (3.1642e+00)\tAcc@1  33.20 ( 32.79)\tAcc@5  58.40 ( 57.75)\n",
      "Epoch: [1][  30/2563]\tTime  2.363 ( 1.699)\tData  1.705 ( 1.022)\tLoss 3.0806e+00 (3.1456e+00)\tAcc@1  37.00 ( 32.87)\tAcc@5  58.80 ( 57.98)\n",
      "Epoch: [1][  40/2563]\tTime  2.563 ( 1.676)\tData  1.877 ( 0.998)\tLoss 3.0295e+00 (3.1304e+00)\tAcc@1  34.40 ( 33.28)\tAcc@5  60.00 ( 58.42)\n",
      "Epoch: [1][  50/2563]\tTime  2.489 ( 1.657)\tData  1.776 ( 0.980)\tLoss 3.0413e+00 (3.1287e+00)\tAcc@1  35.20 ( 33.35)\tAcc@5  59.80 ( 58.49)\n",
      "Epoch: [1][  60/2563]\tTime  2.454 ( 1.639)\tData  1.737 ( 0.963)\tLoss 3.2110e+00 (3.1116e+00)\tAcc@1  30.20 ( 33.50)\tAcc@5  57.00 ( 58.84)\n",
      "Epoch: [1][  70/2563]\tTime  2.299 ( 1.624)\tData  1.637 ( 0.948)\tLoss 2.7541e+00 (3.1015e+00)\tAcc@1  37.80 ( 33.48)\tAcc@5  64.80 ( 59.01)\n",
      "Epoch: [1][  80/2563]\tTime  2.354 ( 1.616)\tData  1.692 ( 0.941)\tLoss 2.8702e+00 (3.0957e+00)\tAcc@1  34.60 ( 33.47)\tAcc@5  62.40 ( 59.12)\n",
      "Epoch: [1][  90/2563]\tTime  2.109 ( 1.608)\tData  1.443 ( 0.934)\tLoss 3.0488e+00 (3.0876e+00)\tAcc@1  32.80 ( 33.47)\tAcc@5  59.40 ( 59.36)\n",
      "Epoch: [1][ 100/2563]\tTime  2.249 ( 1.606)\tData  1.582 ( 0.933)\tLoss 2.9540e+00 (3.0817e+00)\tAcc@1  37.80 ( 33.54)\tAcc@5  63.40 ( 59.45)\n",
      "Epoch: [1][ 110/2563]\tTime  2.243 ( 1.604)\tData  1.581 ( 0.932)\tLoss 3.0034e+00 (3.0787e+00)\tAcc@1  37.00 ( 33.58)\tAcc@5  62.80 ( 59.58)\n",
      "Epoch: [1][ 120/2563]\tTime  2.462 ( 1.605)\tData  1.748 ( 0.933)\tLoss 3.0216e+00 (3.0733e+00)\tAcc@1  36.80 ( 33.71)\tAcc@5  61.00 ( 59.68)\n",
      "Epoch: [1][ 130/2563]\tTime  2.431 ( 1.604)\tData  1.766 ( 0.932)\tLoss 2.9985e+00 (3.0691e+00)\tAcc@1  34.60 ( 33.84)\tAcc@5  61.60 ( 59.82)\n",
      "Epoch: [1][ 140/2563]\tTime  2.355 ( 1.603)\tData  1.688 ( 0.930)\tLoss 2.8790e+00 (3.0637e+00)\tAcc@1  33.60 ( 33.89)\tAcc@5  65.40 ( 59.91)\n",
      "Epoch: [1][ 150/2563]\tTime  2.254 ( 1.599)\tData  1.588 ( 0.927)\tLoss 2.9907e+00 (3.0602e+00)\tAcc@1  35.00 ( 33.89)\tAcc@5  60.20 ( 60.00)\n",
      "Epoch: [1][ 160/2563]\tTime  2.522 ( 1.602)\tData  1.806 ( 0.928)\tLoss 3.0451e+00 (3.0572e+00)\tAcc@1  32.20 ( 33.93)\tAcc@5  61.60 ( 60.04)\n",
      "Epoch: [1][ 170/2563]\tTime  2.609 ( 1.601)\tData  1.872 ( 0.927)\tLoss 3.0246e+00 (3.0547e+00)\tAcc@1  32.00 ( 33.91)\tAcc@5  61.60 ( 60.09)\n",
      "Epoch: [1][ 180/2563]\tTime  2.358 ( 1.599)\tData  1.695 ( 0.925)\tLoss 3.0053e+00 (3.0514e+00)\tAcc@1  35.60 ( 33.97)\tAcc@5  59.80 ( 60.15)\n",
      "Epoch: [1][ 190/2563]\tTime  2.367 ( 1.599)\tData  1.707 ( 0.926)\tLoss 3.0161e+00 (3.0503e+00)\tAcc@1  37.00 ( 33.97)\tAcc@5  60.60 ( 60.16)\n",
      "Epoch: [1][ 200/2563]\tTime  2.388 ( 1.602)\tData  1.722 ( 0.927)\tLoss 3.0346e+00 (3.0477e+00)\tAcc@1  35.20 ( 34.04)\tAcc@5  59.80 ( 60.18)\n",
      "Epoch: [1][ 210/2563]\tTime  2.569 ( 1.603)\tData  1.855 ( 0.929)\tLoss 3.0804e+00 (3.0430e+00)\tAcc@1  32.60 ( 34.09)\tAcc@5  59.60 ( 60.26)\n",
      "Epoch: [1][ 220/2563]\tTime  2.481 ( 1.602)\tData  1.817 ( 0.927)\tLoss 2.8891e+00 (3.0401e+00)\tAcc@1  37.60 ( 34.15)\tAcc@5  59.40 ( 60.31)\n",
      "Epoch: [1][ 230/2563]\tTime  2.414 ( 1.601)\tData  1.748 ( 0.926)\tLoss 2.8712e+00 (3.0366e+00)\tAcc@1  36.20 ( 34.22)\tAcc@5  61.40 ( 60.34)\n",
      "Epoch: [1][ 240/2563]\tTime  2.123 ( 1.599)\tData  1.458 ( 0.925)\tLoss 2.9694e+00 (3.0339e+00)\tAcc@1  35.20 ( 34.21)\tAcc@5  61.20 ( 60.39)\n",
      "Epoch: [1][ 250/2563]\tTime  1.832 ( 1.598)\tData  1.165 ( 0.925)\tLoss 3.0296e+00 (3.0302e+00)\tAcc@1  35.40 ( 34.26)\tAcc@5  59.80 ( 60.45)\n",
      "Epoch: [1][ 260/2563]\tTime  1.495 ( 1.599)\tData  0.828 ( 0.926)\tLoss 2.9637e+00 (3.0289e+00)\tAcc@1  35.40 ( 34.29)\tAcc@5  61.40 ( 60.46)\n",
      "Epoch: [1][ 270/2563]\tTime  1.437 ( 1.599)\tData  0.771 ( 0.926)\tLoss 3.0936e+00 (3.0273e+00)\tAcc@1  33.40 ( 34.31)\tAcc@5  62.00 ( 60.48)\n",
      "Epoch: [1][ 280/2563]\tTime  1.237 ( 1.599)\tData  0.569 ( 0.927)\tLoss 2.8856e+00 (3.0249e+00)\tAcc@1  35.60 ( 34.35)\tAcc@5  63.20 ( 60.51)\n",
      "Epoch: [1][ 290/2563]\tTime  1.630 ( 1.601)\tData  0.964 ( 0.928)\tLoss 2.8864e+00 (3.0235e+00)\tAcc@1  37.60 ( 34.39)\tAcc@5  63.20 ( 60.56)\n",
      "Epoch: [1][ 300/2563]\tTime  2.266 ( 1.603)\tData  1.604 ( 0.930)\tLoss 2.9050e+00 (3.0226e+00)\tAcc@1  36.80 ( 34.39)\tAcc@5  62.00 ( 60.59)\n",
      "Epoch: [1][ 310/2563]\tTime  1.859 ( 1.601)\tData  1.196 ( 0.929)\tLoss 2.8989e+00 (3.0204e+00)\tAcc@1  36.20 ( 34.43)\tAcc@5  62.60 ( 60.62)\n",
      "Epoch: [1][ 320/2563]\tTime  1.390 ( 1.601)\tData  0.723 ( 0.929)\tLoss 2.8465e+00 (3.0186e+00)\tAcc@1  38.60 ( 34.47)\tAcc@5  63.60 ( 60.62)\n",
      "Epoch: [1][ 330/2563]\tTime  1.630 ( 1.601)\tData  0.964 ( 0.929)\tLoss 2.9477e+00 (3.0169e+00)\tAcc@1  36.40 ( 34.46)\tAcc@5  61.80 ( 60.64)\n",
      "Epoch: [1][ 340/2563]\tTime  1.509 ( 1.601)\tData  0.840 ( 0.929)\tLoss 3.0185e+00 (3.0171e+00)\tAcc@1  33.60 ( 34.45)\tAcc@5  60.40 ( 60.66)\n"
     ]
    },
    {
     "name": "stdout",
     "output_type": "stream",
     "text": [
      "Epoch: [1][ 350/2563]\tTime  1.295 ( 1.600)\tData  0.629 ( 0.929)\tLoss 2.9675e+00 (3.0145e+00)\tAcc@1  35.00 ( 34.50)\tAcc@5  64.40 ( 60.71)\n",
      "Epoch: [1][ 360/2563]\tTime  1.102 ( 1.599)\tData  0.436 ( 0.928)\tLoss 3.0827e+00 (3.0131e+00)\tAcc@1  34.20 ( 34.52)\tAcc@5  60.40 ( 60.74)\n",
      "Epoch: [1][ 370/2563]\tTime  1.050 ( 1.599)\tData  0.385 ( 0.927)\tLoss 2.9970e+00 (3.0101e+00)\tAcc@1  36.20 ( 34.56)\tAcc@5  61.20 ( 60.78)\n",
      "Epoch: [1][ 380/2563]\tTime  0.765 ( 1.598)\tData  0.098 ( 0.927)\tLoss 2.9840e+00 (3.0090e+00)\tAcc@1  34.00 ( 34.57)\tAcc@5  61.20 ( 60.81)\n",
      "Epoch: [1][ 390/2563]\tTime  0.759 ( 1.598)\tData  0.098 ( 0.927)\tLoss 2.6969e+00 (3.0053e+00)\tAcc@1  40.60 ( 34.64)\tAcc@5  64.80 ( 60.87)\n",
      "Epoch: [1][ 400/2563]\tTime  0.765 ( 1.599)\tData  0.097 ( 0.927)\tLoss 3.0451e+00 (3.0041e+00)\tAcc@1  35.00 ( 34.65)\tAcc@5  59.60 ( 60.91)\n",
      "Epoch: [1][ 410/2563]\tTime  0.769 ( 1.599)\tData  0.104 ( 0.927)\tLoss 2.9582e+00 (3.0026e+00)\tAcc@1  37.00 ( 34.67)\tAcc@5  60.40 ( 60.93)\n",
      "Epoch: [1][ 420/2563]\tTime  0.966 ( 1.598)\tData  0.301 ( 0.927)\tLoss 2.9010e+00 (2.9997e+00)\tAcc@1  39.60 ( 34.70)\tAcc@5  64.40 ( 60.99)\n",
      "Epoch: [1][ 430/2563]\tTime  0.833 ( 1.599)\tData  0.166 ( 0.927)\tLoss 3.0048e+00 (2.9982e+00)\tAcc@1  34.60 ( 34.72)\tAcc@5  60.00 ( 61.02)\n",
      "Epoch: [1][ 440/2563]\tTime  1.054 ( 1.599)\tData  0.388 ( 0.928)\tLoss 2.8382e+00 (2.9959e+00)\tAcc@1  35.00 ( 34.75)\tAcc@5  63.40 ( 61.06)\n",
      "Epoch: [1][ 450/2563]\tTime  1.004 ( 1.599)\tData  0.339 ( 0.928)\tLoss 2.7777e+00 (2.9951e+00)\tAcc@1  41.20 ( 34.78)\tAcc@5  65.60 ( 61.07)\n",
      "Epoch: [1][ 460/2563]\tTime  0.919 ( 1.600)\tData  0.254 ( 0.928)\tLoss 2.9852e+00 (2.9942e+00)\tAcc@1  37.20 ( 34.80)\tAcc@5  61.00 ( 61.08)\n",
      "Epoch: [1][ 470/2563]\tTime  0.987 ( 1.600)\tData  0.320 ( 0.929)\tLoss 2.9588e+00 (2.9929e+00)\tAcc@1  33.60 ( 34.81)\tAcc@5  62.00 ( 61.11)\n",
      "Epoch: [1][ 480/2563]\tTime  0.880 ( 1.600)\tData  0.213 ( 0.929)\tLoss 2.9628e+00 (2.9916e+00)\tAcc@1  33.20 ( 34.84)\tAcc@5  61.20 ( 61.13)\n",
      "Epoch: [1][ 490/2563]\tTime  0.931 ( 1.600)\tData  0.262 ( 0.929)\tLoss 2.8527e+00 (2.9892e+00)\tAcc@1  38.20 ( 34.90)\tAcc@5  63.20 ( 61.17)\n",
      "Epoch: [1][ 500/2563]\tTime  1.034 ( 1.600)\tData  0.372 ( 0.929)\tLoss 3.0854e+00 (2.9890e+00)\tAcc@1  35.40 ( 34.91)\tAcc@5  59.00 ( 61.17)\n",
      "Epoch: [1][ 510/2563]\tTime  1.594 ( 1.601)\tData  0.930 ( 0.930)\tLoss 2.8338e+00 (2.9872e+00)\tAcc@1  39.00 ( 34.94)\tAcc@5  61.60 ( 61.20)\n",
      "Epoch: [1][ 520/2563]\tTime  0.944 ( 1.601)\tData  0.278 ( 0.930)\tLoss 2.9545e+00 (2.9863e+00)\tAcc@1  35.20 ( 34.95)\tAcc@5  60.60 ( 61.21)\n",
      "Epoch: [1][ 530/2563]\tTime  0.882 ( 1.601)\tData  0.218 ( 0.930)\tLoss 3.0170e+00 (2.9849e+00)\tAcc@1  36.60 ( 34.97)\tAcc@5  60.00 ( 61.22)\n",
      "Epoch: [1][ 540/2563]\tTime  0.791 ( 1.600)\tData  0.127 ( 0.929)\tLoss 2.8562e+00 (2.9828e+00)\tAcc@1  39.60 ( 35.01)\tAcc@5  66.00 ( 61.26)\n",
      "Epoch: [1][ 550/2563]\tTime  0.768 ( 1.600)\tData  0.101 ( 0.929)\tLoss 2.7144e+00 (2.9809e+00)\tAcc@1  38.00 ( 35.04)\tAcc@5  66.20 ( 61.30)\n",
      "Epoch: [1][ 560/2563]\tTime  0.766 ( 1.600)\tData  0.099 ( 0.929)\tLoss 3.0498e+00 (2.9800e+00)\tAcc@1  32.40 ( 35.05)\tAcc@5  59.20 ( 61.30)\n",
      "Epoch: [1][ 570/2563]\tTime  0.763 ( 1.599)\tData  0.096 ( 0.928)\tLoss 2.9777e+00 (2.9785e+00)\tAcc@1  38.00 ( 35.08)\tAcc@5  60.80 ( 61.31)\n",
      "Epoch: [1][ 580/2563]\tTime  0.833 ( 1.598)\tData  0.168 ( 0.927)\tLoss 3.0792e+00 (2.9776e+00)\tAcc@1  35.20 ( 35.09)\tAcc@5  60.40 ( 61.33)\n",
      "Epoch: [1][ 590/2563]\tTime  1.349 ( 1.599)\tData  0.680 ( 0.928)\tLoss 2.9009e+00 (2.9758e+00)\tAcc@1  37.60 ( 35.12)\tAcc@5  60.80 ( 61.36)\n",
      "Epoch: [1][ 600/2563]\tTime  1.940 ( 1.599)\tData  1.276 ( 0.929)\tLoss 3.0643e+00 (2.9745e+00)\tAcc@1  36.00 ( 35.14)\tAcc@5  58.40 ( 61.38)\n",
      "Epoch: [1][ 610/2563]\tTime  1.963 ( 1.600)\tData  1.299 ( 0.929)\tLoss 2.9308e+00 (2.9729e+00)\tAcc@1  36.20 ( 35.16)\tAcc@5  59.20 ( 61.39)\n",
      "Epoch: [1][ 620/2563]\tTime  2.216 ( 1.600)\tData  1.551 ( 0.929)\tLoss 2.8514e+00 (2.9716e+00)\tAcc@1  37.60 ( 35.18)\tAcc@5  65.40 ( 61.42)\n",
      "Epoch: [1][ 630/2563]\tTime  2.163 ( 1.599)\tData  1.500 ( 0.929)\tLoss 2.9283e+00 (2.9703e+00)\tAcc@1  34.80 ( 35.20)\tAcc@5  63.20 ( 61.45)\n",
      "Epoch: [1][ 640/2563]\tTime  2.316 ( 1.599)\tData  1.650 ( 0.929)\tLoss 2.8341e+00 (2.9699e+00)\tAcc@1  37.40 ( 35.21)\tAcc@5  63.80 ( 61.45)\n",
      "Epoch: [1][ 650/2563]\tTime  2.337 ( 1.599)\tData  1.673 ( 0.928)\tLoss 2.8595e+00 (2.9682e+00)\tAcc@1  39.00 ( 35.24)\tAcc@5  63.60 ( 61.48)\n",
      "Epoch: [1][ 660/2563]\tTime  1.976 ( 1.599)\tData  1.312 ( 0.928)\tLoss 2.8128e+00 (2.9672e+00)\tAcc@1  36.80 ( 35.27)\tAcc@5  63.40 ( 61.50)\n",
      "Epoch: [1][ 670/2563]\tTime  1.551 ( 1.599)\tData  0.883 ( 0.928)\tLoss 2.8348e+00 (2.9653e+00)\tAcc@1  39.00 ( 35.30)\tAcc@5  62.60 ( 61.53)\n",
      "Epoch: [1][ 680/2563]\tTime  1.663 ( 1.599)\tData  0.994 ( 0.928)\tLoss 2.6473e+00 (2.9629e+00)\tAcc@1  39.80 ( 35.33)\tAcc@5  67.60 ( 61.57)\n",
      "Epoch: [1][ 690/2563]\tTime  1.364 ( 1.598)\tData  0.700 ( 0.928)\tLoss 2.8636e+00 (2.9615e+00)\tAcc@1  36.60 ( 35.36)\tAcc@5  64.40 ( 61.60)\n",
      "Epoch: [1][ 700/2563]\tTime  1.026 ( 1.598)\tData  0.362 ( 0.927)\tLoss 2.9146e+00 (2.9597e+00)\tAcc@1  36.80 ( 35.40)\tAcc@5  61.60 ( 61.63)\n",
      "Epoch: [1][ 710/2563]\tTime  0.761 ( 1.598)\tData  0.095 ( 0.928)\tLoss 2.8682e+00 (2.9584e+00)\tAcc@1  38.20 ( 35.41)\tAcc@5  64.00 ( 61.67)\n",
      "Epoch: [1][ 720/2563]\tTime  0.913 ( 1.598)\tData  0.249 ( 0.927)\tLoss 2.8664e+00 (2.9572e+00)\tAcc@1  36.40 ( 35.44)\tAcc@5  64.60 ( 61.68)\n",
      "Epoch: [1][ 730/2563]\tTime  0.763 ( 1.598)\tData  0.098 ( 0.927)\tLoss 2.8285e+00 (2.9553e+00)\tAcc@1  38.00 ( 35.47)\tAcc@5  63.40 ( 61.71)\n",
      "Epoch: [1][ 740/2563]\tTime  0.869 ( 1.598)\tData  0.204 ( 0.927)\tLoss 2.8947e+00 (2.9544e+00)\tAcc@1  37.20 ( 35.49)\tAcc@5  61.40 ( 61.72)\n",
      "Epoch: [1][ 750/2563]\tTime  0.764 ( 1.598)\tData  0.097 ( 0.927)\tLoss 2.7809e+00 (2.9529e+00)\tAcc@1  40.00 ( 35.52)\tAcc@5  68.40 ( 61.76)\n",
      "Epoch: [1][ 760/2563]\tTime  0.777 ( 1.598)\tData  0.112 ( 0.927)\tLoss 2.7398e+00 (2.9521e+00)\tAcc@1  42.80 ( 35.53)\tAcc@5  65.60 ( 61.77)\n",
      "Epoch: [1][ 770/2563]\tTime  1.097 ( 1.598)\tData  0.436 ( 0.928)\tLoss 2.8425e+00 (2.9511e+00)\tAcc@1  36.00 ( 35.55)\tAcc@5  64.80 ( 61.79)\n",
      "Epoch: [1][ 780/2563]\tTime  0.759 ( 1.598)\tData  0.096 ( 0.928)\tLoss 2.8581e+00 (2.9493e+00)\tAcc@1  38.60 ( 35.58)\tAcc@5  63.60 ( 61.81)\n",
      "Epoch: [1][ 790/2563]\tTime  0.768 ( 1.598)\tData  0.102 ( 0.928)\tLoss 2.7936e+00 (2.9482e+00)\tAcc@1  38.20 ( 35.58)\tAcc@5  63.00 ( 61.83)\n",
      "Epoch: [1][ 800/2563]\tTime  0.666 ( 1.599)\tData  0.002 ( 0.928)\tLoss 2.8622e+00 (2.9462e+00)\tAcc@1  33.80 ( 35.62)\tAcc@5  64.80 ( 61.86)\n",
      "Epoch: [1][ 810/2563]\tTime  0.759 ( 1.599)\tData  0.097 ( 0.928)\tLoss 2.9103e+00 (2.9454e+00)\tAcc@1  36.80 ( 35.64)\tAcc@5  61.60 ( 61.87)\n",
      "Epoch: [1][ 820/2563]\tTime  0.850 ( 1.599)\tData  0.185 ( 0.928)\tLoss 2.9210e+00 (2.9442e+00)\tAcc@1  35.80 ( 35.66)\tAcc@5  60.20 ( 61.89)\n",
      "Epoch: [1][ 830/2563]\tTime  0.761 ( 1.599)\tData  0.099 ( 0.928)\tLoss 2.9484e+00 (2.9439e+00)\tAcc@1  37.40 ( 35.67)\tAcc@5  62.20 ( 61.90)\n",
      "Epoch: [1][ 840/2563]\tTime  0.761 ( 1.599)\tData  0.097 ( 0.928)\tLoss 2.7702e+00 (2.9427e+00)\tAcc@1  39.20 ( 35.70)\tAcc@5  65.60 ( 61.92)\n",
      "Epoch: [1][ 850/2563]\tTime  0.916 ( 1.599)\tData  0.253 ( 0.928)\tLoss 2.9128e+00 (2.9414e+00)\tAcc@1  35.20 ( 35.73)\tAcc@5  63.00 ( 61.94)\n",
      "Epoch: [1][ 860/2563]\tTime  0.766 ( 1.599)\tData  0.099 ( 0.928)\tLoss 2.9896e+00 (2.9405e+00)\tAcc@1  33.40 ( 35.74)\tAcc@5  60.20 ( 61.96)\n",
      "Epoch: [1][ 870/2563]\tTime  0.769 ( 1.599)\tData  0.103 ( 0.928)\tLoss 2.8315e+00 (2.9396e+00)\tAcc@1  38.20 ( 35.76)\tAcc@5  63.80 ( 61.97)\n",
      "Epoch: [1][ 880/2563]\tTime  0.759 ( 1.599)\tData  0.097 ( 0.928)\tLoss 3.0073e+00 (2.9385e+00)\tAcc@1  36.20 ( 35.78)\tAcc@5  58.40 ( 61.99)\n",
      "Epoch: [1][ 890/2563]\tTime  0.760 ( 1.599)\tData  0.097 ( 0.929)\tLoss 2.7354e+00 (2.9364e+00)\tAcc@1  41.80 ( 35.82)\tAcc@5  65.00 ( 62.02)\n",
      "Epoch: [1][ 900/2563]\tTime  1.248 ( 1.600)\tData  0.581 ( 0.929)\tLoss 2.5472e+00 (2.9349e+00)\tAcc@1  43.20 ( 35.84)\tAcc@5  67.80 ( 62.05)\n",
      "Epoch: [1][ 910/2563]\tTime  0.981 ( 1.600)\tData  0.315 ( 0.930)\tLoss 2.9331e+00 (2.9337e+00)\tAcc@1  37.00 ( 35.87)\tAcc@5  63.60 ( 62.07)\n",
      "Epoch: [1][ 920/2563]\tTime  1.600 ( 1.601)\tData  0.935 ( 0.930)\tLoss 2.8242e+00 (2.9322e+00)\tAcc@1  37.00 ( 35.89)\tAcc@5  63.80 ( 62.09)\n",
      "Epoch: [1][ 930/2563]\tTime  1.893 ( 1.601)\tData  1.225 ( 0.930)\tLoss 2.8344e+00 (2.9310e+00)\tAcc@1  36.40 ( 35.90)\tAcc@5  63.40 ( 62.11)\n",
      "Epoch: [1][ 940/2563]\tTime  1.885 ( 1.601)\tData  1.217 ( 0.930)\tLoss 2.8561e+00 (2.9297e+00)\tAcc@1  36.20 ( 35.92)\tAcc@5  64.40 ( 62.14)\n"
     ]
    },
    {
     "name": "stdout",
     "output_type": "stream",
     "text": [
      "Epoch: [1][ 950/2563]\tTime  1.499 ( 1.601)\tData  0.834 ( 0.931)\tLoss 2.9139e+00 (2.9285e+00)\tAcc@1  36.00 ( 35.94)\tAcc@5  61.20 ( 62.16)\n",
      "Epoch: [1][ 960/2563]\tTime  1.056 ( 1.601)\tData  0.390 ( 0.930)\tLoss 2.8985e+00 (2.9272e+00)\tAcc@1  36.60 ( 35.96)\tAcc@5  64.00 ( 62.19)\n",
      "Epoch: [1][ 970/2563]\tTime  0.889 ( 1.601)\tData  0.225 ( 0.931)\tLoss 2.8596e+00 (2.9258e+00)\tAcc@1  36.20 ( 35.99)\tAcc@5  62.80 ( 62.22)\n",
      "Epoch: [1][ 980/2563]\tTime  0.761 ( 1.601)\tData  0.097 ( 0.931)\tLoss 2.7214e+00 (2.9241e+00)\tAcc@1  39.60 ( 36.01)\tAcc@5  65.60 ( 62.25)\n",
      "Epoch: [1][ 990/2563]\tTime  0.669 ( 1.602)\tData  0.002 ( 0.931)\tLoss 2.8056e+00 (2.9232e+00)\tAcc@1  39.80 ( 36.03)\tAcc@5  65.80 ( 62.27)\n",
      "Epoch: [1][1000/2563]\tTime  0.670 ( 1.602)\tData  0.002 ( 0.931)\tLoss 2.7865e+00 (2.9217e+00)\tAcc@1  38.20 ( 36.05)\tAcc@5  65.00 ( 62.30)\n",
      "Epoch: [1][1010/2563]\tTime  0.668 ( 1.602)\tData  0.002 ( 0.932)\tLoss 3.0042e+00 (2.9206e+00)\tAcc@1  35.80 ( 36.06)\tAcc@5  58.40 ( 62.32)\n",
      "Epoch: [1][1020/2563]\tTime  0.675 ( 1.602)\tData  0.002 ( 0.931)\tLoss 2.7889e+00 (2.9187e+00)\tAcc@1  37.80 ( 36.10)\tAcc@5  64.00 ( 62.35)\n",
      "Epoch: [1][1030/2563]\tTime  0.667 ( 1.602)\tData  0.002 ( 0.931)\tLoss 2.8019e+00 (2.9176e+00)\tAcc@1  42.40 ( 36.13)\tAcc@5  65.00 ( 62.37)\n",
      "Epoch: [1][1040/2563]\tTime  0.666 ( 1.603)\tData  0.002 ( 0.931)\tLoss 2.8362e+00 (2.9168e+00)\tAcc@1  38.60 ( 36.14)\tAcc@5  63.40 ( 62.38)\n",
      "Epoch: [1][1050/2563]\tTime  0.671 ( 1.603)\tData  0.002 ( 0.931)\tLoss 2.7990e+00 (2.9160e+00)\tAcc@1  35.40 ( 36.15)\tAcc@5  64.20 ( 62.39)\n",
      "Epoch: [1][1060/2563]\tTime  0.670 ( 1.603)\tData  0.003 ( 0.932)\tLoss 2.7892e+00 (2.9141e+00)\tAcc@1  40.20 ( 36.19)\tAcc@5  63.60 ( 62.43)\n",
      "Epoch: [1][1070/2563]\tTime  0.762 ( 1.603)\tData  0.096 ( 0.931)\tLoss 2.9601e+00 (2.9131e+00)\tAcc@1  36.80 ( 36.21)\tAcc@5  63.80 ( 62.45)\n",
      "Epoch: [1][1080/2563]\tTime  0.669 ( 1.603)\tData  0.003 ( 0.932)\tLoss 2.6844e+00 (2.9119e+00)\tAcc@1  40.80 ( 36.25)\tAcc@5  65.80 ( 62.47)\n",
      "Epoch: [1][1090/2563]\tTime  0.668 ( 1.603)\tData  0.003 ( 0.931)\tLoss 2.7523e+00 (2.9104e+00)\tAcc@1  41.40 ( 36.28)\tAcc@5  65.00 ( 62.49)\n",
      "Epoch: [1][1100/2563]\tTime  0.668 ( 1.603)\tData  0.003 ( 0.931)\tLoss 2.8728e+00 (2.9094e+00)\tAcc@1  37.20 ( 36.30)\tAcc@5  61.80 ( 62.51)\n",
      "Epoch: [1][1110/2563]\tTime  0.668 ( 1.603)\tData  0.003 ( 0.931)\tLoss 2.8398e+00 (2.9085e+00)\tAcc@1  38.00 ( 36.31)\tAcc@5  64.60 ( 62.53)\n",
      "Epoch: [1][1120/2563]\tTime  0.666 ( 1.603)\tData  0.002 ( 0.931)\tLoss 2.7927e+00 (2.9078e+00)\tAcc@1  37.80 ( 36.34)\tAcc@5  63.40 ( 62.55)\n",
      "Epoch: [1][1130/2563]\tTime  0.666 ( 1.603)\tData  0.003 ( 0.931)\tLoss 2.6990e+00 (2.9065e+00)\tAcc@1  39.80 ( 36.36)\tAcc@5  69.00 ( 62.57)\n",
      "Epoch: [1][1140/2563]\tTime  0.669 ( 1.603)\tData  0.003 ( 0.931)\tLoss 2.8229e+00 (2.9059e+00)\tAcc@1  36.80 ( 36.36)\tAcc@5  64.80 ( 62.58)\n",
      "Epoch: [1][1150/2563]\tTime  0.762 ( 1.604)\tData  0.097 ( 0.932)\tLoss 2.9484e+00 (2.9050e+00)\tAcc@1  33.80 ( 36.38)\tAcc@5  61.80 ( 62.60)\n",
      "Epoch: [1][1160/2563]\tTime  1.020 ( 1.604)\tData  0.357 ( 0.932)\tLoss 2.9742e+00 (2.9043e+00)\tAcc@1  37.20 ( 36.39)\tAcc@5  62.00 ( 62.62)\n",
      "Epoch: [1][1170/2563]\tTime  1.190 ( 1.604)\tData  0.525 ( 0.932)\tLoss 2.7579e+00 (2.9035e+00)\tAcc@1  36.40 ( 36.40)\tAcc@5  62.40 ( 62.64)\n",
      "Epoch: [1][1180/2563]\tTime  1.120 ( 1.604)\tData  0.457 ( 0.932)\tLoss 2.8741e+00 (2.9027e+00)\tAcc@1  38.20 ( 36.42)\tAcc@5  63.00 ( 62.65)\n",
      "Epoch: [1][1190/2563]\tTime  1.425 ( 1.604)\tData  0.758 ( 0.932)\tLoss 2.8047e+00 (2.9015e+00)\tAcc@1  38.40 ( 36.44)\tAcc@5  64.40 ( 62.67)\n",
      "Epoch: [1][1200/2563]\tTime  1.648 ( 1.604)\tData  0.982 ( 0.933)\tLoss 3.1625e+00 (2.9010e+00)\tAcc@1  34.00 ( 36.46)\tAcc@5  58.80 ( 62.68)\n",
      "Epoch: [1][1210/2563]\tTime  1.832 ( 1.605)\tData  1.168 ( 0.933)\tLoss 2.6641e+00 (2.8999e+00)\tAcc@1  40.00 ( 36.47)\tAcc@5  67.00 ( 62.70)\n",
      "Epoch: [1][1220/2563]\tTime  1.727 ( 1.605)\tData  1.060 ( 0.933)\tLoss 2.9425e+00 (2.8990e+00)\tAcc@1  33.20 ( 36.48)\tAcc@5  63.40 ( 62.72)\n",
      "Epoch: [1][1230/2563]\tTime  1.658 ( 1.605)\tData  0.994 ( 0.933)\tLoss 2.6733e+00 (2.8982e+00)\tAcc@1  41.80 ( 36.50)\tAcc@5  66.80 ( 62.73)\n",
      "Epoch: [1][1240/2563]\tTime  1.371 ( 1.605)\tData  0.707 ( 0.933)\tLoss 2.7537e+00 (2.8972e+00)\tAcc@1  40.80 ( 36.51)\tAcc@5  64.60 ( 62.75)\n",
      "Epoch: [1][1250/2563]\tTime  1.207 ( 1.604)\tData  0.542 ( 0.933)\tLoss 2.9019e+00 (2.8965e+00)\tAcc@1  35.00 ( 36.52)\tAcc@5  61.20 ( 62.77)\n",
      "Epoch: [1][1260/2563]\tTime  1.920 ( 1.605)\tData  1.256 ( 0.933)\tLoss 2.7664e+00 (2.8954e+00)\tAcc@1  37.80 ( 36.54)\tAcc@5  66.20 ( 62.79)\n",
      "Epoch: [1][1270/2563]\tTime  2.100 ( 1.605)\tData  1.435 ( 0.934)\tLoss 2.7552e+00 (2.8945e+00)\tAcc@1  38.20 ( 36.55)\tAcc@5  65.00 ( 62.80)\n",
      "Epoch: [1][1280/2563]\tTime  2.089 ( 1.605)\tData  1.424 ( 0.934)\tLoss 2.7762e+00 (2.8940e+00)\tAcc@1  38.00 ( 36.57)\tAcc@5  65.80 ( 62.81)\n",
      "Epoch: [1][1290/2563]\tTime  1.786 ( 1.605)\tData  1.122 ( 0.933)\tLoss 2.7125e+00 (2.8925e+00)\tAcc@1  39.60 ( 36.59)\tAcc@5  67.60 ( 62.84)\n",
      "Epoch: [1][1300/2563]\tTime  2.227 ( 1.605)\tData  1.560 ( 0.934)\tLoss 2.7904e+00 (2.8916e+00)\tAcc@1  35.60 ( 36.61)\tAcc@5  65.80 ( 62.85)\n",
      "Epoch: [1][1310/2563]\tTime  1.892 ( 1.605)\tData  1.227 ( 0.934)\tLoss 2.7419e+00 (2.8906e+00)\tAcc@1  41.80 ( 36.63)\tAcc@5  65.00 ( 62.87)\n",
      "Epoch: [1][1320/2563]\tTime  1.388 ( 1.605)\tData  0.721 ( 0.933)\tLoss 2.9030e+00 (2.8897e+00)\tAcc@1  34.60 ( 36.64)\tAcc@5  64.60 ( 62.89)\n",
      "Epoch: [1][1330/2563]\tTime  1.882 ( 1.605)\tData  1.218 ( 0.934)\tLoss 2.8380e+00 (2.8891e+00)\tAcc@1  38.20 ( 36.66)\tAcc@5  63.80 ( 62.90)\n",
      "Epoch: [1][1340/2563]\tTime  2.335 ( 1.605)\tData  1.668 ( 0.934)\tLoss 2.7550e+00 (2.8885e+00)\tAcc@1  41.20 ( 36.67)\tAcc@5  64.40 ( 62.91)\n",
      "Epoch: [1][1350/2563]\tTime  2.394 ( 1.605)\tData  1.729 ( 0.934)\tLoss 2.7490e+00 (2.8876e+00)\tAcc@1  41.60 ( 36.69)\tAcc@5  63.80 ( 62.93)\n",
      "Epoch: [1][1360/2563]\tTime  2.364 ( 1.605)\tData  1.702 ( 0.934)\tLoss 2.6449e+00 (2.8864e+00)\tAcc@1  39.00 ( 36.71)\tAcc@5  70.00 ( 62.95)\n",
      "Epoch: [1][1370/2563]\tTime  2.348 ( 1.605)\tData  1.680 ( 0.934)\tLoss 2.6843e+00 (2.8855e+00)\tAcc@1  38.40 ( 36.72)\tAcc@5  64.40 ( 62.97)\n",
      "Epoch: [1][1380/2563]\tTime  2.550 ( 1.605)\tData  1.836 ( 0.934)\tLoss 2.7490e+00 (2.8842e+00)\tAcc@1  39.80 ( 36.74)\tAcc@5  65.40 ( 62.99)\n",
      "Epoch: [1][1390/2563]\tTime  2.212 ( 1.605)\tData  1.547 ( 0.934)\tLoss 2.6381e+00 (2.8830e+00)\tAcc@1  40.00 ( 36.76)\tAcc@5  68.40 ( 63.01)\n",
      "Epoch: [1][1400/2563]\tTime  1.459 ( 1.605)\tData  0.792 ( 0.934)\tLoss 2.7574e+00 (2.8820e+00)\tAcc@1  38.60 ( 36.78)\tAcc@5  66.20 ( 63.02)\n",
      "Epoch: [1][1410/2563]\tTime  1.240 ( 1.605)\tData  0.575 ( 0.934)\tLoss 2.6453e+00 (2.8809e+00)\tAcc@1  38.80 ( 36.80)\tAcc@5  66.40 ( 63.05)\n",
      "Epoch: [1][1420/2563]\tTime  1.360 ( 1.605)\tData  0.696 ( 0.934)\tLoss 2.6577e+00 (2.8798e+00)\tAcc@1  39.00 ( 36.82)\tAcc@5  67.80 ( 63.07)\n",
      "Epoch: [1][1430/2563]\tTime  1.638 ( 1.605)\tData  0.970 ( 0.934)\tLoss 2.7984e+00 (2.8787e+00)\tAcc@1  40.00 ( 36.83)\tAcc@5  64.20 ( 63.09)\n",
      "Epoch: [1][1440/2563]\tTime  1.811 ( 1.605)\tData  1.144 ( 0.934)\tLoss 2.8922e+00 (2.8776e+00)\tAcc@1  36.00 ( 36.85)\tAcc@5  64.00 ( 63.11)\n",
      "Epoch: [1][1450/2563]\tTime  1.653 ( 1.605)\tData  0.988 ( 0.934)\tLoss 2.7274e+00 (2.8764e+00)\tAcc@1  40.00 ( 36.88)\tAcc@5  68.80 ( 63.14)\n",
      "Epoch: [1][1460/2563]\tTime  1.670 ( 1.605)\tData  1.007 ( 0.934)\tLoss 2.7031e+00 (2.8752e+00)\tAcc@1  38.00 ( 36.90)\tAcc@5  67.80 ( 63.16)\n",
      "Epoch: [1][1470/2563]\tTime  1.353 ( 1.605)\tData  0.691 ( 0.934)\tLoss 2.7009e+00 (2.8738e+00)\tAcc@1  40.80 ( 36.92)\tAcc@5  66.60 ( 63.18)\n",
      "Epoch: [1][1480/2563]\tTime  1.478 ( 1.605)\tData  0.813 ( 0.934)\tLoss 2.7567e+00 (2.8732e+00)\tAcc@1  39.20 ( 36.92)\tAcc@5  64.80 ( 63.19)\n",
      "Epoch: [1][1490/2563]\tTime  1.408 ( 1.605)\tData  0.742 ( 0.934)\tLoss 2.7198e+00 (2.8721e+00)\tAcc@1  41.00 ( 36.94)\tAcc@5  66.00 ( 63.21)\n",
      "Epoch: [1][1500/2563]\tTime  0.926 ( 1.604)\tData  0.258 ( 0.934)\tLoss 2.5678e+00 (2.8710e+00)\tAcc@1  41.80 ( 36.96)\tAcc@5  68.00 ( 63.23)\n",
      "Epoch: [1][1510/2563]\tTime  0.795 ( 1.604)\tData  0.129 ( 0.933)\tLoss 2.5453e+00 (2.8698e+00)\tAcc@1  38.80 ( 36.99)\tAcc@5  71.80 ( 63.25)\n",
      "Epoch: [1][1520/2563]\tTime  0.676 ( 1.605)\tData  0.002 ( 0.934)\tLoss 2.9442e+00 (2.8689e+00)\tAcc@1  35.20 ( 37.01)\tAcc@5  63.20 ( 63.27)\n",
      "Epoch: [1][1530/2563]\tTime  0.764 ( 1.604)\tData  0.096 ( 0.933)\tLoss 2.6021e+00 (2.8680e+00)\tAcc@1  43.60 ( 37.02)\tAcc@5  69.60 ( 63.29)\n",
      "Epoch: [1][1540/2563]\tTime  0.762 ( 1.604)\tData  0.097 ( 0.933)\tLoss 2.7456e+00 (2.8670e+00)\tAcc@1  43.00 ( 37.04)\tAcc@5  66.20 ( 63.31)\n"
     ]
    },
    {
     "name": "stdout",
     "output_type": "stream",
     "text": [
      "Epoch: [1][1550/2563]\tTime  0.761 ( 1.604)\tData  0.098 ( 0.933)\tLoss 2.7019e+00 (2.8658e+00)\tAcc@1  38.60 ( 37.06)\tAcc@5  64.80 ( 63.33)\n",
      "Epoch: [1][1560/2563]\tTime  0.761 ( 1.604)\tData  0.098 ( 0.933)\tLoss 2.7233e+00 (2.8647e+00)\tAcc@1  39.00 ( 37.08)\tAcc@5  65.20 ( 63.35)\n",
      "Epoch: [1][1570/2563]\tTime  0.936 ( 1.604)\tData  0.271 ( 0.933)\tLoss 2.7825e+00 (2.8638e+00)\tAcc@1  37.20 ( 37.10)\tAcc@5  62.80 ( 63.37)\n",
      "Epoch: [1][1580/2563]\tTime  0.762 ( 1.604)\tData  0.097 ( 0.933)\tLoss 2.8371e+00 (2.8631e+00)\tAcc@1  40.40 ( 37.11)\tAcc@5  62.60 ( 63.38)\n",
      "Epoch: [1][1590/2563]\tTime  0.857 ( 1.604)\tData  0.193 ( 0.933)\tLoss 2.6568e+00 (2.8622e+00)\tAcc@1  40.80 ( 37.12)\tAcc@5  67.00 ( 63.39)\n",
      "Epoch: [1][1600/2563]\tTime  0.759 ( 1.604)\tData  0.098 ( 0.933)\tLoss 2.6923e+00 (2.8613e+00)\tAcc@1  37.20 ( 37.14)\tAcc@5  65.40 ( 63.41)\n",
      "Epoch: [1][1610/2563]\tTime  0.670 ( 1.604)\tData  0.002 ( 0.933)\tLoss 2.7192e+00 (2.8601e+00)\tAcc@1  41.00 ( 37.16)\tAcc@5  66.40 ( 63.43)\n",
      "Epoch: [1][1620/2563]\tTime  0.764 ( 1.604)\tData  0.098 ( 0.933)\tLoss 2.8475e+00 (2.8591e+00)\tAcc@1  36.40 ( 37.17)\tAcc@5  62.80 ( 63.44)\n",
      "Epoch: [1][1630/2563]\tTime  1.272 ( 1.605)\tData  0.605 ( 0.934)\tLoss 2.7330e+00 (2.8581e+00)\tAcc@1  38.60 ( 37.19)\tAcc@5  65.40 ( 63.46)\n",
      "Epoch: [1][1640/2563]\tTime  1.254 ( 1.605)\tData  0.590 ( 0.934)\tLoss 2.7299e+00 (2.8569e+00)\tAcc@1  41.60 ( 37.21)\tAcc@5  63.80 ( 63.48)\n",
      "Epoch: [1][1650/2563]\tTime  1.319 ( 1.605)\tData  0.654 ( 0.934)\tLoss 2.5617e+00 (2.8557e+00)\tAcc@1  41.20 ( 37.22)\tAcc@5  69.00 ( 63.50)\n",
      "Epoch: [1][1660/2563]\tTime  1.582 ( 1.605)\tData  0.919 ( 0.934)\tLoss 2.5267e+00 (2.8545e+00)\tAcc@1  45.60 ( 37.24)\tAcc@5  67.80 ( 63.52)\n",
      "Epoch: [1][1670/2563]\tTime  1.473 ( 1.605)\tData  0.808 ( 0.934)\tLoss 2.7400e+00 (2.8535e+00)\tAcc@1  39.80 ( 37.26)\tAcc@5  66.40 ( 63.54)\n",
      "Epoch: [1][1680/2563]\tTime  1.469 ( 1.605)\tData  0.802 ( 0.934)\tLoss 2.6285e+00 (2.8524e+00)\tAcc@1  42.00 ( 37.27)\tAcc@5  68.60 ( 63.56)\n",
      "Epoch: [1][1690/2563]\tTime  0.968 ( 1.605)\tData  0.304 ( 0.934)\tLoss 2.6097e+00 (2.8514e+00)\tAcc@1  40.20 ( 37.29)\tAcc@5  68.60 ( 63.57)\n",
      "Epoch: [1][1700/2563]\tTime  0.766 ( 1.605)\tData  0.100 ( 0.934)\tLoss 2.6985e+00 (2.8504e+00)\tAcc@1  40.60 ( 37.31)\tAcc@5  67.40 ( 63.59)\n",
      "Epoch: [1][1710/2563]\tTime  0.668 ( 1.605)\tData  0.002 ( 0.934)\tLoss 2.5838e+00 (2.8497e+00)\tAcc@1  42.40 ( 37.32)\tAcc@5  67.80 ( 63.60)\n",
      "Epoch: [1][1720/2563]\tTime  0.669 ( 1.605)\tData  0.003 ( 0.934)\tLoss 2.6009e+00 (2.8488e+00)\tAcc@1  38.60 ( 37.34)\tAcc@5  68.00 ( 63.62)\n",
      "Epoch: [1][1730/2563]\tTime  0.764 ( 1.605)\tData  0.100 ( 0.934)\tLoss 2.6106e+00 (2.8479e+00)\tAcc@1  41.40 ( 37.35)\tAcc@5  67.00 ( 63.64)\n",
      "Epoch: [1][1740/2563]\tTime  0.772 ( 1.605)\tData  0.104 ( 0.934)\tLoss 2.6984e+00 (2.8466e+00)\tAcc@1  37.80 ( 37.37)\tAcc@5  67.60 ( 63.66)\n",
      "Epoch: [1][1750/2563]\tTime  1.039 ( 1.605)\tData  0.375 ( 0.934)\tLoss 2.7405e+00 (2.8457e+00)\tAcc@1  37.20 ( 37.38)\tAcc@5  65.00 ( 63.67)\n",
      "Epoch: [1][1760/2563]\tTime  0.772 ( 1.605)\tData  0.106 ( 0.934)\tLoss 2.5125e+00 (2.8446e+00)\tAcc@1  42.60 ( 37.41)\tAcc@5  68.20 ( 63.69)\n",
      "Epoch: [1][1770/2563]\tTime  0.671 ( 1.605)\tData  0.002 ( 0.933)\tLoss 2.6475e+00 (2.8435e+00)\tAcc@1  42.00 ( 37.43)\tAcc@5  67.00 ( 63.71)\n",
      "Epoch: [1][1780/2563]\tTime  0.811 ( 1.605)\tData  0.145 ( 0.933)\tLoss 2.7169e+00 (2.8425e+00)\tAcc@1  39.60 ( 37.45)\tAcc@5  64.40 ( 63.72)\n",
      "Epoch: [1][1790/2563]\tTime  0.667 ( 1.605)\tData  0.003 ( 0.933)\tLoss 2.6664e+00 (2.8414e+00)\tAcc@1  38.80 ( 37.46)\tAcc@5  65.60 ( 63.74)\n",
      "Epoch: [1][1800/2563]\tTime  0.669 ( 1.604)\tData  0.002 ( 0.933)\tLoss 2.7516e+00 (2.8405e+00)\tAcc@1  41.80 ( 37.48)\tAcc@5  66.40 ( 63.76)\n",
      "Epoch: [1][1810/2563]\tTime  0.670 ( 1.604)\tData  0.002 ( 0.933)\tLoss 2.5774e+00 (2.8395e+00)\tAcc@1  39.80 ( 37.50)\tAcc@5  66.00 ( 63.78)\n",
      "Epoch: [1][1820/2563]\tTime  0.764 ( 1.604)\tData  0.099 ( 0.933)\tLoss 2.6124e+00 (2.8387e+00)\tAcc@1  41.80 ( 37.51)\tAcc@5  68.20 ( 63.79)\n",
      "Epoch: [1][1830/2563]\tTime  0.673 ( 1.604)\tData  0.003 ( 0.933)\tLoss 2.5084e+00 (2.8376e+00)\tAcc@1  42.40 ( 37.53)\tAcc@5  67.20 ( 63.81)\n",
      "Epoch: [1][1840/2563]\tTime  0.667 ( 1.604)\tData  0.002 ( 0.933)\tLoss 2.5446e+00 (2.8364e+00)\tAcc@1  42.80 ( 37.55)\tAcc@5  67.60 ( 63.83)\n",
      "Epoch: [1][1850/2563]\tTime  0.771 ( 1.605)\tData  0.104 ( 0.933)\tLoss 2.6100e+00 (2.8356e+00)\tAcc@1  42.40 ( 37.57)\tAcc@5  68.40 ( 63.84)\n",
      "Epoch: [1][1860/2563]\tTime  0.916 ( 1.604)\tData  0.253 ( 0.933)\tLoss 2.7619e+00 (2.8348e+00)\tAcc@1  39.60 ( 37.58)\tAcc@5  64.60 ( 63.85)\n",
      "Epoch: [1][1870/2563]\tTime  1.484 ( 1.605)\tData  0.817 ( 0.933)\tLoss 2.3262e+00 (2.8336e+00)\tAcc@1  47.80 ( 37.60)\tAcc@5  71.60 ( 63.87)\n",
      "Epoch: [1][1880/2563]\tTime  1.963 ( 1.605)\tData  1.302 ( 0.934)\tLoss 2.5158e+00 (2.8326e+00)\tAcc@1  42.00 ( 37.62)\tAcc@5  69.40 ( 63.89)\n",
      "Epoch: [1][1890/2563]\tTime  2.321 ( 1.605)\tData  1.658 ( 0.934)\tLoss 2.5678e+00 (2.8314e+00)\tAcc@1  39.00 ( 37.64)\tAcc@5  69.60 ( 63.91)\n",
      "Epoch: [1][1900/2563]\tTime  2.345 ( 1.605)\tData  1.683 ( 0.934)\tLoss 2.5482e+00 (2.8302e+00)\tAcc@1  41.80 ( 37.66)\tAcc@5  68.40 ( 63.93)\n",
      "Epoch: [1][1910/2563]\tTime  2.291 ( 1.605)\tData  1.626 ( 0.934)\tLoss 2.6135e+00 (2.8291e+00)\tAcc@1  39.20 ( 37.67)\tAcc@5  67.40 ( 63.95)\n",
      "Epoch: [1][1920/2563]\tTime  2.467 ( 1.605)\tData  1.800 ( 0.934)\tLoss 2.4869e+00 (2.8280e+00)\tAcc@1  42.80 ( 37.70)\tAcc@5  70.80 ( 63.97)\n",
      "Epoch: [1][1930/2563]\tTime  2.055 ( 1.605)\tData  1.392 ( 0.934)\tLoss 2.6369e+00 (2.8264e+00)\tAcc@1  39.20 ( 37.73)\tAcc@5  69.20 ( 64.00)\n",
      "Epoch: [1][1940/2563]\tTime  2.403 ( 1.605)\tData  1.713 ( 0.934)\tLoss 2.6580e+00 (2.8255e+00)\tAcc@1  41.60 ( 37.74)\tAcc@5  68.00 ( 64.01)\n",
      "Epoch: [1][1950/2563]\tTime  2.199 ( 1.605)\tData  1.533 ( 0.934)\tLoss 2.6786e+00 (2.8246e+00)\tAcc@1  40.80 ( 37.76)\tAcc@5  66.80 ( 64.03)\n",
      "Epoch: [1][1960/2563]\tTime  2.812 ( 1.605)\tData  2.087 ( 0.934)\tLoss 2.7480e+00 (2.8236e+00)\tAcc@1  39.80 ( 37.78)\tAcc@5  66.60 ( 64.04)\n",
      "Epoch: [1][1970/2563]\tTime  2.462 ( 1.605)\tData  1.793 ( 0.934)\tLoss 2.7949e+00 (2.8228e+00)\tAcc@1  36.40 ( 37.79)\tAcc@5  65.40 ( 64.06)\n",
      "Epoch: [1][1980/2563]\tTime  2.226 ( 1.605)\tData  1.558 ( 0.934)\tLoss 2.6533e+00 (2.8218e+00)\tAcc@1  41.20 ( 37.81)\tAcc@5  67.00 ( 64.08)\n",
      "Epoch: [1][1990/2563]\tTime  2.365 ( 1.605)\tData  1.702 ( 0.934)\tLoss 2.5759e+00 (2.8208e+00)\tAcc@1  42.60 ( 37.82)\tAcc@5  68.20 ( 64.10)\n",
      "Epoch: [1][2000/2563]\tTime  2.129 ( 1.605)\tData  1.465 ( 0.934)\tLoss 2.6182e+00 (2.8197e+00)\tAcc@1  41.20 ( 37.85)\tAcc@5  66.60 ( 64.12)\n",
      "Epoch: [1][2010/2563]\tTime  1.760 ( 1.605)\tData  1.093 ( 0.934)\tLoss 2.6745e+00 (2.8187e+00)\tAcc@1  39.60 ( 37.86)\tAcc@5  68.20 ( 64.13)\n",
      "Epoch: [1][2020/2563]\tTime  1.952 ( 1.605)\tData  1.291 ( 0.934)\tLoss 2.7055e+00 (2.8178e+00)\tAcc@1  41.00 ( 37.88)\tAcc@5  66.40 ( 64.15)\n",
      "Epoch: [1][2030/2563]\tTime  1.865 ( 1.605)\tData  1.197 ( 0.933)\tLoss 2.6503e+00 (2.8165e+00)\tAcc@1  41.20 ( 37.90)\tAcc@5  67.20 ( 64.17)\n",
      "Epoch: [1][2040/2563]\tTime  1.887 ( 1.604)\tData  1.223 ( 0.933)\tLoss 2.5236e+00 (2.8158e+00)\tAcc@1  41.00 ( 37.91)\tAcc@5  70.20 ( 64.18)\n",
      "Epoch: [1][2050/2563]\tTime  2.244 ( 1.605)\tData  1.577 ( 0.934)\tLoss 2.7552e+00 (2.8149e+00)\tAcc@1  41.60 ( 37.93)\tAcc@5  66.80 ( 64.21)\n",
      "Epoch: [1][2060/2563]\tTime  2.483 ( 1.605)\tData  1.766 ( 0.934)\tLoss 2.6525e+00 (2.8140e+00)\tAcc@1  42.00 ( 37.95)\tAcc@5  67.60 ( 64.22)\n",
      "Epoch: [1][2070/2563]\tTime  2.597 ( 1.605)\tData  1.882 ( 0.933)\tLoss 2.5130e+00 (2.8129e+00)\tAcc@1  43.00 ( 37.97)\tAcc@5  67.80 ( 64.24)\n",
      "Epoch: [1][2080/2563]\tTime  2.329 ( 1.604)\tData  1.667 ( 0.933)\tLoss 2.6315e+00 (2.8119e+00)\tAcc@1  41.40 ( 37.98)\tAcc@5  67.60 ( 64.26)\n",
      "Epoch: [1][2090/2563]\tTime  2.322 ( 1.604)\tData  1.656 ( 0.933)\tLoss 2.6994e+00 (2.8110e+00)\tAcc@1  41.00 ( 38.00)\tAcc@5  65.40 ( 64.28)\n",
      "Epoch: [1][2100/2563]\tTime  2.471 ( 1.604)\tData  1.808 ( 0.933)\tLoss 2.4611e+00 (2.8100e+00)\tAcc@1  41.20 ( 38.01)\tAcc@5  68.60 ( 64.29)\n",
      "Epoch: [1][2110/2563]\tTime  1.991 ( 1.604)\tData  1.326 ( 0.933)\tLoss 2.5424e+00 (2.8092e+00)\tAcc@1  44.20 ( 38.03)\tAcc@5  69.80 ( 64.30)\n",
      "Epoch: [1][2120/2563]\tTime  1.819 ( 1.604)\tData  1.158 ( 0.933)\tLoss 2.4770e+00 (2.8082e+00)\tAcc@1  42.60 ( 38.04)\tAcc@5  72.60 ( 64.32)\n",
      "Epoch: [1][2130/2563]\tTime  1.709 ( 1.604)\tData  1.049 ( 0.933)\tLoss 2.7975e+00 (2.8076e+00)\tAcc@1  36.60 ( 38.05)\tAcc@5  65.00 ( 64.33)\n",
      "Epoch: [1][2140/2563]\tTime  1.311 ( 1.604)\tData  0.650 ( 0.933)\tLoss 2.4542e+00 (2.8066e+00)\tAcc@1  42.80 ( 38.07)\tAcc@5  69.60 ( 64.35)\n"
     ]
    },
    {
     "name": "stdout",
     "output_type": "stream",
     "text": [
      "Epoch: [1][2150/2563]\tTime  1.724 ( 1.604)\tData  1.058 ( 0.933)\tLoss 2.6923e+00 (2.8058e+00)\tAcc@1  40.00 ( 38.09)\tAcc@5  64.20 ( 64.36)\n",
      "Epoch: [1][2160/2563]\tTime  1.820 ( 1.604)\tData  1.154 ( 0.933)\tLoss 2.5058e+00 (2.8047e+00)\tAcc@1  43.60 ( 38.11)\tAcc@5  69.20 ( 64.38)\n",
      "Epoch: [1][2170/2563]\tTime  1.701 ( 1.604)\tData  1.035 ( 0.933)\tLoss 2.5678e+00 (2.8038e+00)\tAcc@1  42.60 ( 38.12)\tAcc@5  67.60 ( 64.39)\n",
      "Epoch: [1][2180/2563]\tTime  1.847 ( 1.604)\tData  1.183 ( 0.933)\tLoss 2.6013e+00 (2.8030e+00)\tAcc@1  43.80 ( 38.14)\tAcc@5  68.20 ( 64.41)\n",
      "Epoch: [1][2190/2563]\tTime  1.587 ( 1.604)\tData  0.922 ( 0.933)\tLoss 2.6099e+00 (2.8018e+00)\tAcc@1  40.80 ( 38.15)\tAcc@5  68.40 ( 64.43)\n",
      "Epoch: [1][2200/2563]\tTime  1.814 ( 1.604)\tData  1.151 ( 0.933)\tLoss 2.5237e+00 (2.8009e+00)\tAcc@1  43.20 ( 38.17)\tAcc@5  68.40 ( 64.45)\n",
      "Epoch: [1][2210/2563]\tTime  1.365 ( 1.603)\tData  0.699 ( 0.933)\tLoss 2.6617e+00 (2.8000e+00)\tAcc@1  44.40 ( 38.19)\tAcc@5  69.20 ( 64.46)\n",
      "Epoch: [1][2220/2563]\tTime  1.057 ( 1.603)\tData  0.391 ( 0.933)\tLoss 2.5602e+00 (2.7992e+00)\tAcc@1  42.40 ( 38.21)\tAcc@5  68.80 ( 64.48)\n",
      "Epoch: [1][2230/2563]\tTime  1.146 ( 1.603)\tData  0.482 ( 0.933)\tLoss 2.6269e+00 (2.7983e+00)\tAcc@1  40.60 ( 38.22)\tAcc@5  69.80 ( 64.49)\n",
      "Epoch: [1][2240/2563]\tTime  1.017 ( 1.603)\tData  0.352 ( 0.933)\tLoss 2.4331e+00 (2.7973e+00)\tAcc@1  45.20 ( 38.24)\tAcc@5  69.20 ( 64.51)\n",
      "Epoch: [1][2250/2563]\tTime  1.172 ( 1.603)\tData  0.507 ( 0.933)\tLoss 2.5250e+00 (2.7964e+00)\tAcc@1  45.40 ( 38.26)\tAcc@5  66.00 ( 64.52)\n",
      "Epoch: [1][2260/2563]\tTime  1.486 ( 1.604)\tData  0.823 ( 0.933)\tLoss 2.5052e+00 (2.7955e+00)\tAcc@1  42.40 ( 38.27)\tAcc@5  68.80 ( 64.54)\n",
      "Epoch: [1][2270/2563]\tTime  1.141 ( 1.603)\tData  0.480 ( 0.933)\tLoss 2.5097e+00 (2.7947e+00)\tAcc@1  45.20 ( 38.29)\tAcc@5  66.60 ( 64.55)\n",
      "Epoch: [1][2280/2563]\tTime  1.204 ( 1.603)\tData  0.537 ( 0.933)\tLoss 2.6549e+00 (2.7937e+00)\tAcc@1  42.40 ( 38.30)\tAcc@5  68.40 ( 64.57)\n",
      "Epoch: [1][2290/2563]\tTime  1.393 ( 1.603)\tData  0.726 ( 0.933)\tLoss 2.4516e+00 (2.7927e+00)\tAcc@1  43.40 ( 38.32)\tAcc@5  71.20 ( 64.59)\n",
      "Epoch: [1][2300/2563]\tTime  1.599 ( 1.603)\tData  0.932 ( 0.933)\tLoss 2.4470e+00 (2.7915e+00)\tAcc@1  45.20 ( 38.34)\tAcc@5  70.00 ( 64.61)\n",
      "Epoch: [1][2310/2563]\tTime  1.554 ( 1.603)\tData  0.889 ( 0.933)\tLoss 2.5640e+00 (2.7906e+00)\tAcc@1  42.00 ( 38.35)\tAcc@5  68.60 ( 64.62)\n",
      "Epoch: [1][2320/2563]\tTime  1.697 ( 1.603)\tData  1.029 ( 0.933)\tLoss 2.6074e+00 (2.7896e+00)\tAcc@1  43.20 ( 38.37)\tAcc@5  68.60 ( 64.64)\n",
      "Epoch: [1][2330/2563]\tTime  1.812 ( 1.603)\tData  1.144 ( 0.933)\tLoss 2.5103e+00 (2.7885e+00)\tAcc@1  43.40 ( 38.39)\tAcc@5  68.20 ( 64.66)\n",
      "Epoch: [1][2340/2563]\tTime  1.373 ( 1.603)\tData  0.710 ( 0.933)\tLoss 2.5840e+00 (2.7878e+00)\tAcc@1  40.20 ( 38.40)\tAcc@5  69.20 ( 64.67)\n",
      "Epoch: [1][2350/2563]\tTime  1.814 ( 1.603)\tData  1.150 ( 0.933)\tLoss 2.5310e+00 (2.7869e+00)\tAcc@1  43.60 ( 38.42)\tAcc@5  70.00 ( 64.69)\n",
      "Epoch: [1][2360/2563]\tTime  2.118 ( 1.603)\tData  1.455 ( 0.933)\tLoss 2.7038e+00 (2.7859e+00)\tAcc@1  40.20 ( 38.44)\tAcc@5  66.40 ( 64.71)\n",
      "Epoch: [1][2370/2563]\tTime  2.161 ( 1.603)\tData  1.497 ( 0.933)\tLoss 2.6061e+00 (2.7849e+00)\tAcc@1  42.00 ( 38.46)\tAcc@5  65.80 ( 64.72)\n",
      "Epoch: [1][2380/2563]\tTime  2.526 ( 1.603)\tData  1.822 ( 0.933)\tLoss 2.7658e+00 (2.7842e+00)\tAcc@1  39.00 ( 38.47)\tAcc@5  64.20 ( 64.74)\n",
      "Epoch: [1][2390/2563]\tTime  2.516 ( 1.603)\tData  1.805 ( 0.933)\tLoss 2.5110e+00 (2.7831e+00)\tAcc@1  43.20 ( 38.49)\tAcc@5  69.20 ( 64.75)\n",
      "Epoch: [1][2400/2563]\tTime  2.381 ( 1.603)\tData  1.703 ( 0.933)\tLoss 2.8270e+00 (2.7825e+00)\tAcc@1  40.00 ( 38.50)\tAcc@5  63.60 ( 64.77)\n",
      "Epoch: [1][2410/2563]\tTime  2.775 ( 1.603)\tData  2.075 ( 0.933)\tLoss 2.4689e+00 (2.7814e+00)\tAcc@1  43.60 ( 38.52)\tAcc@5  70.00 ( 64.79)\n",
      "Epoch: [1][2420/2563]\tTime  2.724 ( 1.603)\tData  2.013 ( 0.933)\tLoss 2.5419e+00 (2.7806e+00)\tAcc@1  42.00 ( 38.53)\tAcc@5  70.80 ( 64.80)\n",
      "Epoch: [1][2430/2563]\tTime  2.772 ( 1.604)\tData  2.044 ( 0.933)\tLoss 2.5659e+00 (2.7796e+00)\tAcc@1  43.20 ( 38.55)\tAcc@5  67.40 ( 64.82)\n",
      "Epoch: [1][2440/2563]\tTime  2.427 ( 1.604)\tData  1.765 ( 0.933)\tLoss 2.5278e+00 (2.7786e+00)\tAcc@1  43.40 ( 38.56)\tAcc@5  70.00 ( 64.84)\n",
      "Epoch: [1][2450/2563]\tTime  2.597 ( 1.604)\tData  1.872 ( 0.933)\tLoss 2.4110e+00 (2.7777e+00)\tAcc@1  47.20 ( 38.59)\tAcc@5  71.20 ( 64.86)\n",
      "Epoch: [1][2460/2563]\tTime  2.640 ( 1.604)\tData  1.916 ( 0.933)\tLoss 2.5104e+00 (2.7768e+00)\tAcc@1  43.20 ( 38.60)\tAcc@5  68.80 ( 64.87)\n",
      "Epoch: [1][2470/2563]\tTime  2.617 ( 1.604)\tData  1.895 ( 0.933)\tLoss 2.6178e+00 (2.7759e+00)\tAcc@1  42.40 ( 38.62)\tAcc@5  68.00 ( 64.89)\n",
      "Epoch: [1][2480/2563]\tTime  2.677 ( 1.604)\tData  1.950 ( 0.933)\tLoss 2.5048e+00 (2.7750e+00)\tAcc@1  40.60 ( 38.64)\tAcc@5  69.40 ( 64.90)\n",
      "Epoch: [1][2490/2563]\tTime  2.513 ( 1.604)\tData  1.795 ( 0.933)\tLoss 2.5673e+00 (2.7741e+00)\tAcc@1  43.20 ( 38.65)\tAcc@5  69.20 ( 64.92)\n",
      "Epoch: [1][2500/2563]\tTime  2.574 ( 1.604)\tData  1.869 ( 0.933)\tLoss 2.7587e+00 (2.7733e+00)\tAcc@1  39.60 ( 38.67)\tAcc@5  64.60 ( 64.93)\n",
      "Epoch: [1][2510/2563]\tTime  2.517 ( 1.604)\tData  1.853 ( 0.933)\tLoss 2.6452e+00 (2.7726e+00)\tAcc@1  44.00 ( 38.68)\tAcc@5  69.00 ( 64.95)\n",
      "Epoch: [1][2520/2563]\tTime  2.428 ( 1.603)\tData  1.756 ( 0.932)\tLoss 2.6210e+00 (2.7716e+00)\tAcc@1  41.00 ( 38.70)\tAcc@5  65.40 ( 64.96)\n",
      "Epoch: [1][2530/2563]\tTime  2.487 ( 1.603)\tData  1.778 ( 0.932)\tLoss 2.6311e+00 (2.7711e+00)\tAcc@1  40.00 ( 38.71)\tAcc@5  68.40 ( 64.97)\n",
      "Epoch: [1][2540/2563]\tTime  2.455 ( 1.603)\tData  1.789 ( 0.932)\tLoss 2.4217e+00 (2.7700e+00)\tAcc@1  43.60 ( 38.73)\tAcc@5  73.00 ( 64.99)\n",
      "Epoch: [1][2550/2563]\tTime  2.398 ( 1.603)\tData  1.737 ( 0.932)\tLoss 2.4968e+00 (2.7690e+00)\tAcc@1  42.00 ( 38.74)\tAcc@5  70.00 ( 65.01)\n",
      "Epoch: [1][2560/2563]\tTime  2.516 ( 1.603)\tData  1.819 ( 0.932)\tLoss 2.5480e+00 (2.7681e+00)\tAcc@1  42.80 ( 38.76)\tAcc@5  70.60 ( 65.03)\n",
      "Test: [  0/100]\tTime  4.330 ( 4.330)\tLoss 2.1737e+00 (2.1737e+00)\tAcc@1  52.40 ( 52.40)\tAcc@5  77.00 ( 77.00)\n",
      "Test: [ 10/100]\tTime  2.921 ( 1.946)\tLoss 2.2649e+00 (2.6023e+00)\tAcc@1  50.80 ( 43.71)\tAcc@5  73.00 ( 68.35)\n",
      "Test: [ 20/100]\tTime  2.814 ( 1.824)\tLoss 2.8596e+00 (2.6530e+00)\tAcc@1  28.20 ( 39.93)\tAcc@5  60.20 ( 67.29)\n",
      "Test: [ 30/100]\tTime  2.884 ( 1.780)\tLoss 2.2167e+00 (2.5915e+00)\tAcc@1  46.20 ( 39.62)\tAcc@5  73.80 ( 68.55)\n",
      "Test: [ 40/100]\tTime  2.654 ( 1.763)\tLoss 2.8088e+00 (2.6115e+00)\tAcc@1  36.40 ( 39.54)\tAcc@5  64.40 ( 68.16)\n",
      "Test: [ 50/100]\tTime  2.757 ( 1.748)\tLoss 3.5327e+00 (2.7415e+00)\tAcc@1  25.20 ( 37.62)\tAcc@5  48.80 ( 65.88)\n",
      "Test: [ 60/100]\tTime  2.744 ( 1.742)\tLoss 2.9725e+00 (2.7934e+00)\tAcc@1  40.20 ( 37.20)\tAcc@5  59.60 ( 64.73)\n",
      "Test: [ 70/100]\tTime  2.839 ( 1.730)\tLoss 3.5670e+00 (2.8491e+00)\tAcc@1  23.60 ( 36.54)\tAcc@5  53.40 ( 63.78)\n",
      "Test: [ 80/100]\tTime  2.913 ( 1.723)\tLoss 2.8902e+00 (2.9103e+00)\tAcc@1  39.80 ( 35.98)\tAcc@5  58.80 ( 62.63)\n",
      "Test: [ 90/100]\tTime  2.933 ( 1.715)\tLoss 3.4774e+00 (2.9609e+00)\tAcc@1  28.20 ( 35.24)\tAcc@5  52.60 ( 61.65)\n",
      " * Acc@1 35.722 Acc@5 62.130\n",
      "lr: 0.0\n"
     ]
    }
   ],
   "source": [
    "for epoch in range(START_EPOCH, 2):\n",
    "#    adjust_learning_rate(optimizer, epoch)\n",
    "\n",
    "    # train for one epoch\n",
    "    train(train_loader, model, criterion, optimizer, epoch)\n",
    "\n",
    "    # evaluate on validation set\n",
    "    acc1 = validate(val_loader, model, criterion)\n",
    "\n",
    "    # remember best acc@1 and save checkpoint\n",
    "    is_best = acc1 > best_acc1\n",
    "    best_acc1 = max(acc1, best_acc1)\n",
    "\n",
    "\n",
    "    save_checkpoint({\n",
    "        'epoch': epoch + 1,\n",
    "        'arch': ARCH,\n",
    "        'state_dict': model.state_dict(),\n",
    "        'best_acc1': best_acc1,\n",
    "        'optimizer' : optimizer.state_dict(),\n",
    "    }, is_best)\n",
    "    \n",
    "    scheduler.step()\n",
    "    print('lr: ' + str(scheduler.get_last_lr()[0]))\n",
    "    \n",
    "    writer.add_scalar(\"lr\", scheduler.get_last_lr()[0], global_step = global_step)\n",
    "    \n",
    "    wandb.log({'lr': scheduler.get_last_lr()[0]})"
   ]
  },
  {
   "cell_type": "code",
   "execution_count": 47,
   "id": "4adc365f",
   "metadata": {},
   "outputs": [
    {
     "data": {
      "text/html": [
       "\n",
       "      <iframe id=\"tensorboard-frame-91b7584a2265b1f5\" width=\"100%\" height=\"800\" frameborder=\"0\">\n",
       "      </iframe>\n",
       "      <script>\n",
       "        (function() {\n",
       "          const frame = document.getElementById(\"tensorboard-frame-91b7584a2265b1f5\");\n",
       "          const url = new URL(\"/\", window.location);\n",
       "          const port = 6006;\n",
       "          if (port) {\n",
       "            url.port = port;\n",
       "          }\n",
       "          frame.src = url;\n",
       "        })();\n",
       "      </script>\n",
       "    "
      ],
      "text/plain": [
       "<IPython.core.display.HTML object>"
      ]
     },
     "metadata": {},
     "output_type": "display_data"
    }
   ],
   "source": [
    "writer.close()\n",
    "%load_ext tensorboard\n",
    "%tensorboard --logdir=runs"
   ]
  },
  {
   "cell_type": "code",
   "execution_count": null,
   "id": "c74f8bd6",
   "metadata": {},
   "outputs": [],
   "source": []
  }
 ],
 "metadata": {
  "kernelspec": {
   "display_name": "Python 3 (ipykernel)",
   "language": "python",
   "name": "python3"
  },
  "language_info": {
   "codemirror_mode": {
    "name": "ipython",
    "version": 3
   },
   "file_extension": ".py",
   "mimetype": "text/x-python",
   "name": "python",
   "nbconvert_exporter": "python",
   "pygments_lexer": "ipython3",
   "version": "3.8.10"
  }
 },
 "nbformat": 4,
 "nbformat_minor": 5
}
