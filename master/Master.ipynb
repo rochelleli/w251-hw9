{
 "cells": [
  {
   "cell_type": "code",
   "execution_count": 1,
   "id": "7065f60d",
   "metadata": {},
   "outputs": [],
   "source": [
    "import os\n",
    "import random\n",
    "import shutil\n",
    "import time\n",
    "import warnings\n",
    "\n",
    "import torch\n",
    "import torch.nn as nn\n",
    "import torch.backends.cudnn as cudnn\n",
    "import torch.optim\n",
    "\n",
    "import torch.utils.data\n",
    "import torchvision\n",
    "import torchvision.transforms as transforms\n",
    "import torchvision.datasets as datasets\n",
    "import torchvision.models as models"
   ]
  },
  {
   "cell_type": "code",
   "execution_count": 2,
   "id": "69f5403a",
   "metadata": {},
   "outputs": [],
   "source": [
    "from torch.cuda.amp import GradScaler\n",
    "from torch.cuda.amp import autocast"
   ]
  },
  {
   "cell_type": "code",
   "execution_count": 3,
   "id": "2dab5fe2",
   "metadata": {},
   "outputs": [],
   "source": [
    "from torch.utils.tensorboard import SummaryWriter\n",
    "writer = SummaryWriter()"
   ]
  },
  {
   "cell_type": "code",
   "execution_count": 4,
   "id": "e8087bfd",
   "metadata": {},
   "outputs": [
    {
     "name": "stdout",
     "output_type": "stream",
     "text": [
      "Requirement already satisfied: wandb in /opt/conda/lib/python3.8/site-packages (0.12.6)\n",
      "Requirement already satisfied: PyYAML in /opt/conda/lib/python3.8/site-packages (from wandb) (5.4.1)\n",
      "Requirement already satisfied: python-dateutil>=2.6.1 in /opt/conda/lib/python3.8/site-packages (from wandb) (2.8.2)\n",
      "Requirement already satisfied: configparser>=3.8.1 in /opt/conda/lib/python3.8/site-packages (from wandb) (5.0.2)\n",
      "Requirement already satisfied: protobuf>=3.12.0 in /opt/conda/lib/python3.8/site-packages (from wandb) (3.17.3)\n",
      "Requirement already satisfied: promise<3,>=2.0 in /opt/conda/lib/python3.8/site-packages (from wandb) (2.3)\n",
      "Requirement already satisfied: docker-pycreds>=0.4.0 in /opt/conda/lib/python3.8/site-packages (from wandb) (0.4.0)\n",
      "Requirement already satisfied: six>=1.13.0 in /opt/conda/lib/python3.8/site-packages (from wandb) (1.16.0)\n",
      "Requirement already satisfied: pathtools in /opt/conda/lib/python3.8/site-packages (from wandb) (0.1.2)\n",
      "Requirement already satisfied: Click!=8.0.0,>=7.0 in /opt/conda/lib/python3.8/site-packages (from wandb) (7.1.2)\n",
      "Requirement already satisfied: yaspin>=1.0.0 in /opt/conda/lib/python3.8/site-packages (from wandb) (2.1.0)\n",
      "Requirement already satisfied: shortuuid>=0.5.0 in /opt/conda/lib/python3.8/site-packages (from wandb) (1.0.1)\n",
      "Requirement already satisfied: sentry-sdk>=1.0.0 in /opt/conda/lib/python3.8/site-packages (from wandb) (1.4.3)\n",
      "Requirement already satisfied: GitPython>=1.0.0 in /opt/conda/lib/python3.8/site-packages (from wandb) (3.1.24)\n",
      "Requirement already satisfied: psutil>=5.0.0 in /opt/conda/lib/python3.8/site-packages (from wandb) (5.8.0)\n",
      "Requirement already satisfied: subprocess32>=3.5.3 in /opt/conda/lib/python3.8/site-packages (from wandb) (3.5.4)\n",
      "Requirement already satisfied: requests<3,>=2.0.0 in /opt/conda/lib/python3.8/site-packages (from wandb) (2.26.0)\n",
      "Requirement already satisfied: gitdb<5,>=4.0.1 in /opt/conda/lib/python3.8/site-packages (from GitPython>=1.0.0->wandb) (4.0.9)\n",
      "Requirement already satisfied: typing-extensions>=3.7.4.3 in /opt/conda/lib/python3.8/site-packages (from GitPython>=1.0.0->wandb) (3.10.0.0)\n",
      "Requirement already satisfied: smmap<6,>=3.0.1 in /opt/conda/lib/python3.8/site-packages (from gitdb<5,>=4.0.1->GitPython>=1.0.0->wandb) (5.0.0)\n",
      "Requirement already satisfied: idna<4,>=2.5 in /opt/conda/lib/python3.8/site-packages (from requests<3,>=2.0.0->wandb) (3.1)\n",
      "Requirement already satisfied: urllib3<1.27,>=1.21.1 in /opt/conda/lib/python3.8/site-packages (from requests<3,>=2.0.0->wandb) (1.26.6)\n",
      "Requirement already satisfied: certifi>=2017.4.17 in /opt/conda/lib/python3.8/site-packages (from requests<3,>=2.0.0->wandb) (2021.5.30)\n",
      "Requirement already satisfied: charset-normalizer~=2.0.0 in /opt/conda/lib/python3.8/site-packages (from requests<3,>=2.0.0->wandb) (2.0.0)\n",
      "Requirement already satisfied: termcolor<2.0.0,>=1.1.0 in /opt/conda/lib/python3.8/site-packages (from yaspin>=1.0.0->wandb) (1.1.0)\n",
      "\u001b[33mWARNING: Running pip as the 'root' user can result in broken permissions and conflicting behaviour with the system package manager. It is recommended to use a virtual environment instead: https://pip.pypa.io/warnings/venv\u001b[0m\n"
     ]
    }
   ],
   "source": [
    "!pip install wandb"
   ]
  },
  {
   "cell_type": "code",
   "execution_count": 5,
   "id": "e28bbe62",
   "metadata": {},
   "outputs": [
    {
     "name": "stderr",
     "output_type": "stream",
     "text": [
      "\u001b[34m\u001b[1mwandb\u001b[0m: Currently logged in as: \u001b[33mrochelleli\u001b[0m (use `wandb login --relogin` to force relogin)\n"
     ]
    },
    {
     "data": {
      "text/plain": [
       "True"
      ]
     },
     "execution_count": 5,
     "metadata": {},
     "output_type": "execute_result"
    }
   ],
   "source": [
    "import wandb\n",
    "wandb.login()"
   ]
  },
  {
   "cell_type": "code",
   "execution_count": 6,
   "id": "0bc6792b",
   "metadata": {
    "scrolled": true
   },
   "outputs": [
    {
     "data": {
      "text/html": [
       "\n",
       "                    Syncing run <strong><a href=\"https://wandb.ai/rochelleli/w251-hw9/runs/pscwd9uw\" target=\"_blank\">trembling-possession-5</a></strong> to <a href=\"https://wandb.ai/rochelleli/w251-hw9\" target=\"_blank\">Weights & Biases</a> (<a href=\"https://docs.wandb.com/integrations/jupyter.html\" target=\"_blank\">docs</a>).<br/>\n",
       "\n",
       "                "
      ],
      "text/plain": [
       "<IPython.core.display.HTML object>"
      ]
     },
     "metadata": {},
     "output_type": "display_data"
    },
    {
     "data": {
      "text/html": [
       "<button onClick=\"this.nextSibling.style.display='block';this.style.display='none';\">Display W&B run</button><iframe src=\"https://wandb.ai/rochelleli/w251-hw9/runs/pscwd9uw?jupyter=true\" style=\"border:none;width:100%;height:420px;display:none;\"></iframe>"
      ],
      "text/plain": [
       "<wandb.sdk.wandb_run.Run at 0x7fef7b1cfe20>"
      ]
     },
     "execution_count": 6,
     "metadata": {},
     "output_type": "execute_result"
    }
   ],
   "source": [
    "wandb.init(project=\"w251-hw9\", entity=\"rochelleli\")"
   ]
  },
  {
   "cell_type": "code",
   "execution_count": 7,
   "id": "5dbccc84",
   "metadata": {},
   "outputs": [],
   "source": [
    "SEED=1\n",
    "\n",
    "random.seed(SEED)\n",
    "torch.manual_seed(SEED)\n",
    "cudnn.deterministic = True"
   ]
  },
  {
   "cell_type": "code",
   "execution_count": 8,
   "id": "14970b63",
   "metadata": {},
   "outputs": [
    {
     "data": {
      "text/plain": [
       "1"
      ]
     },
     "execution_count": 8,
     "metadata": {},
     "output_type": "execute_result"
    }
   ],
   "source": [
    "torch.cuda.device_count()"
   ]
  },
  {
   "cell_type": "code",
   "execution_count": 9,
   "id": "562f3275",
   "metadata": {},
   "outputs": [],
   "source": [
    "START_EPOCH = 0"
   ]
  },
  {
   "cell_type": "code",
   "execution_count": 10,
   "id": "db41d351",
   "metadata": {},
   "outputs": [],
   "source": [
    "ARCH = 'resnet18'\n",
    "EPOCHS = 2\n",
    "LR = 0.1\n",
    "MOMENTUM = 0.9\n",
    "WEIGHT_DECAY = 1e-4\n",
    "PRINT_FREQ = 10\n",
    "TRAIN_BATCH=500\n",
    "VAL_BATCH=500\n",
    "WORKERS=2\n",
    "TRAINDIR=\"/home/ubuntu/data/train\"\n",
    "VALDIR=\"/home/ubuntu/data/val\""
   ]
  },
  {
   "cell_type": "code",
   "execution_count": 11,
   "id": "1294fa91",
   "metadata": {},
   "outputs": [],
   "source": [
    "if not torch.cuda.is_available():\n",
    "    print('GPU not detected.. did you pass through your GPU?')"
   ]
  },
  {
   "cell_type": "code",
   "execution_count": 12,
   "id": "cdacbafa",
   "metadata": {},
   "outputs": [
    {
     "data": {
      "text/html": [
       "Finishing last run (ID:pscwd9uw) before initializing another..."
      ],
      "text/plain": [
       "<IPython.core.display.HTML object>"
      ]
     },
     "metadata": {},
     "output_type": "display_data"
    },
    {
     "data": {
      "text/html": [
       "<br/>Waiting for W&B process to finish, PID 698... <strong style=\"color:green\">(success).</strong>"
      ],
      "text/plain": [
       "<IPython.core.display.HTML object>"
      ]
     },
     "metadata": {},
     "output_type": "display_data"
    },
    {
     "data": {
      "text/html": [
       "<style>\n",
       "    table.wandb td:nth-child(1) { padding: 0 10px; text-align: right }\n",
       "    .wandb-row { display: flex; flex-direction: row; flex-wrap: wrap; width: 100% }\n",
       "    .wandb-col { display: flex; flex-direction: column; flex-basis: 100%; flex: 1; padding: 10px; }\n",
       "    </style>\n",
       "<div class=\"wandb-row\"><div class=\"wandb-col\">\n",
       "</div><div class=\"wandb-col\">\n",
       "</div></div>\n",
       "Synced 4 W&B file(s), 0 media file(s), 0 artifact file(s) and 0 other file(s)\n",
       "<br/>Synced <strong style=\"color:#cdcd00\">trembling-possession-5</strong>: <a href=\"https://wandb.ai/rochelleli/w251-hw9/runs/pscwd9uw\" target=\"_blank\">https://wandb.ai/rochelleli/w251-hw9/runs/pscwd9uw</a><br/>\n",
       "Find logs at: <code>./wandb/run-20211031_103248-pscwd9uw/logs</code><br/>\n"
      ],
      "text/plain": [
       "<IPython.core.display.HTML object>"
      ]
     },
     "metadata": {},
     "output_type": "display_data"
    },
    {
     "data": {
      "text/html": [
       "Successfully finished last run (ID:pscwd9uw). Initializing new run:<br/>"
      ],
      "text/plain": [
       "<IPython.core.display.HTML object>"
      ]
     },
     "metadata": {},
     "output_type": "display_data"
    },
    {
     "data": {
      "text/html": [
       "\n",
       "                    Syncing run <strong><a href=\"https://wandb.ai/rochelleli/w251-hw9-master/runs/2l0kj1c5\" target=\"_blank\">masked-cauldron-1</a></strong> to <a href=\"https://wandb.ai/rochelleli/w251-hw9-master\" target=\"_blank\">Weights & Biases</a> (<a href=\"https://docs.wandb.com/integrations/jupyter.html\" target=\"_blank\">docs</a>).<br/>\n",
       "\n",
       "                "
      ],
      "text/plain": [
       "<IPython.core.display.HTML object>"
      ]
     },
     "metadata": {},
     "output_type": "display_data"
    },
    {
     "data": {
      "text/html": [
       "<button onClick=\"this.nextSibling.style.display='block';this.style.display='none';\">Display W&B run</button><iframe src=\"https://wandb.ai/rochelleli/w251-hw9-master/runs/2l0kj1c5?jupyter=true\" style=\"border:none;width:100%;height:420px;display:none;\"></iframe>"
      ],
      "text/plain": [
       "<wandb.sdk.wandb_run.Run at 0x7fef7b192ca0>"
      ]
     },
     "execution_count": 12,
     "metadata": {},
     "output_type": "execute_result"
    }
   ],
   "source": [
    "wandb.init(config={\"epochs\": EPOCHS, \"batch_size\": TRAIN_BATCH, \"momentum\": MOMENTUM, \"WEIGHT_DECAY\": WEIGHT_DECAY, \"arch\": ARCH})"
   ]
  },
  {
   "cell_type": "code",
   "execution_count": 13,
   "id": "b3ae851f",
   "metadata": {},
   "outputs": [],
   "source": [
    "GPU = 0"
   ]
  },
  {
   "cell_type": "code",
   "execution_count": 14,
   "id": "153cfba1",
   "metadata": {},
   "outputs": [],
   "source": [
    "torch.cuda.set_device(GPU)"
   ]
  },
  {
   "cell_type": "code",
   "execution_count": 15,
   "id": "506dd146",
   "metadata": {},
   "outputs": [],
   "source": [
    "global_step = 0"
   ]
  },
  {
   "cell_type": "code",
   "execution_count": 16,
   "id": "b6c9ab6c",
   "metadata": {},
   "outputs": [],
   "source": [
    "def train(train_loader, model, criterion, optimizer, epoch):\n",
    "    global global_step    \n",
    "    batch_time = AverageMeter('Time', ':6.3f')\n",
    "    data_time = AverageMeter('Data', ':6.3f')\n",
    "    losses = AverageMeter('Loss', ':.4e')\n",
    "    top1 = AverageMeter('Acc@1', ':6.2f')\n",
    "    top5 = AverageMeter('Acc@5', ':6.2f')\n",
    "    progress = ProgressMeter(\n",
    "        len(train_loader),\n",
    "        [batch_time, data_time, losses, top1, top5],\n",
    "        prefix=\"Epoch: [{}]\".format(epoch))\n",
    "\n",
    "    # Grad Scaler\n",
    "    scaler = GradScaler()\n",
    "    # switch to train mode\n",
    "    model.train()\n",
    "\n",
    "    end = time.time()\n",
    "    for i, (images, target) in enumerate(train_loader):\n",
    "        # measure data loading time\n",
    "        data_time.update(time.time() - end)\n",
    "        optimizer.zero_grad()\n",
    "\n",
    "        if GPU is not None:\n",
    "            images = images.cuda(GPU, non_blocking=True)\n",
    "        if torch.cuda.is_available():\n",
    "            target = target.cuda(GPU, non_blocking=True)\n",
    "\n",
    "        # compute output\n",
    "        with autocast():\n",
    "          output = model(images)\n",
    "          loss = criterion(output, target)\n",
    "\n",
    "        # measure accuracy and record loss\n",
    "        acc1, acc5 = accuracy(output, target, topk=(1, 5))\n",
    "        losses.update(loss.item(), images.size(0))\n",
    "        top1.update(acc1[0], images.size(0))\n",
    "        top5.update(acc5[0], images.size(0))\n",
    "\n",
    "        # compute gradient and do SGD step\n",
    "        # optimizer.zero_grad()\n",
    "        # loss.backward()\n",
    "        # optimizer.step()\n",
    "        \n",
    "        # use the scaler\n",
    "        scaler.scale(loss).backward()\n",
    "        scaler.step(optimizer)\n",
    "        scaler.update()\n",
    "\n",
    "        # measure elapsed time\n",
    "        batch_time.update(time.time() - end)\n",
    "        end = time.time()\n",
    "        \n",
    "        writer.add_scalar(\"Loss/train\", loss, global_step = global_step)\n",
    "        writer.add_scalar(\"acc1/train\", top1.avg, global_step = global_step)\n",
    "        writer.add_scalar(\"acc5/train\", top5.avg, global_step = global_step)\n",
    "        \n",
    "        wandb.log({\"Loss/train\": loss, 'acc1/train': top1.avg, 'acc5/train': top5.avg})\n",
    "        \n",
    "        global_step = global_step + 1\n",
    "\n",
    "        if i % PRINT_FREQ == 0:\n",
    "            progress.display(i)"
   ]
  },
  {
   "cell_type": "code",
   "execution_count": 17,
   "id": "4b3125f2",
   "metadata": {},
   "outputs": [],
   "source": [
    "def validate(val_loader, model, criterion):\n",
    "    global global_step    \n",
    "    batch_time = AverageMeter('Time', ':6.3f')\n",
    "    losses = AverageMeter('Loss', ':.4e')\n",
    "    top1 = AverageMeter('Acc@1', ':6.2f')\n",
    "    top5 = AverageMeter('Acc@5', ':6.2f')\n",
    "    progress = ProgressMeter(\n",
    "        len(val_loader),\n",
    "        [batch_time, losses, top1, top5],\n",
    "        prefix='Test: ')\n",
    "\n",
    "    # switch to evaluate mode\n",
    "    model.eval()\n",
    "\n",
    "    with torch.no_grad():\n",
    "        end = time.time()\n",
    "        for i, (images, target) in enumerate(val_loader):\n",
    "            if GPU is not None:\n",
    "                images = images.cuda(GPU, non_blocking=True)\n",
    "            if torch.cuda.is_available():\n",
    "                target = target.cuda(GPU, non_blocking=True)\n",
    "\n",
    "            # compute output\n",
    "            output = model(images)\n",
    "            loss = criterion(output, target)\n",
    "\n",
    "            # measure accuracy and record loss\n",
    "            acc1, acc5 = accuracy(output, target, topk=(1, 5))\n",
    "            losses.update(loss.item(), images.size(0))\n",
    "            top1.update(acc1[0], images.size(0))\n",
    "            top5.update(acc5[0], images.size(0))\n",
    "\n",
    "            # measure elapsed time\n",
    "            batch_time.update(time.time() - end)\n",
    "            end = time.time()\n",
    "\n",
    "            if i % PRINT_FREQ == 0:\n",
    "                progress.display(i)\n",
    "\n",
    "        # TODO: this should also be done with the ProgressMeter\n",
    "        print(' * Acc@1 {top1.avg:.3f} Acc@5 {top5.avg:.3f}'\n",
    "              .format(top1=top1, top5=top5))\n",
    "    writer.add_scalar(\"Loss/val\", losses.avg, global_step = global_step)\n",
    "    writer.add_scalar(\"acc1/val\", top1.avg, global_step = global_step)\n",
    "    writer.add_scalar(\"acc5/val\", top5.avg, global_step = global_step)    \n",
    "    \n",
    "    wandb.log({\"Loss/val\": losses.avg, 'acc1/val': top1.avg, 'acc5/val': top5.avg})\n",
    "    \n",
    "    global_step = global_step + 1\n",
    "\n",
    "    return top1.avg"
   ]
  },
  {
   "cell_type": "code",
   "execution_count": 18,
   "id": "725e1ef9",
   "metadata": {},
   "outputs": [],
   "source": [
    "def save_checkpoint(state, is_best, filename='checkpoint.pth.tar'):\n",
    "    torch.save(state, filename)\n",
    "    if is_best:\n",
    "        shutil.copyfile(filename, 'model_best.pth.tar')"
   ]
  },
  {
   "cell_type": "code",
   "execution_count": 19,
   "id": "39d1f1c5",
   "metadata": {},
   "outputs": [],
   "source": [
    "class AverageMeter(object):\n",
    "    \"\"\"Computes and stores the average and current value\"\"\"\n",
    "    def __init__(self, name, fmt=':f'):\n",
    "        self.name = name\n",
    "        self.fmt = fmt\n",
    "        self.reset()\n",
    "\n",
    "    def reset(self):\n",
    "        self.val = 0\n",
    "        self.avg = 0\n",
    "        self.sum = 0\n",
    "        self.count = 0\n",
    "\n",
    "    def update(self, val, n=1):\n",
    "        self.val = val\n",
    "        self.sum += val * n\n",
    "        self.count += n\n",
    "        self.avg = self.sum / self.count\n",
    "\n",
    "    def __str__(self):\n",
    "        fmtstr = '{name} {val' + self.fmt + '} ({avg' + self.fmt + '})'\n",
    "        return fmtstr.format(**self.__dict__)"
   ]
  },
  {
   "cell_type": "code",
   "execution_count": 20,
   "id": "e4833b12",
   "metadata": {},
   "outputs": [],
   "source": [
    "class ProgressMeter(object):\n",
    "    def __init__(self, num_batches, meters, prefix=\"\"):\n",
    "        self.batch_fmtstr = self._get_batch_fmtstr(num_batches)\n",
    "        self.meters = meters\n",
    "        self.prefix = prefix\n",
    "\n",
    "    def display(self, batch):\n",
    "        entries = [self.prefix + self.batch_fmtstr.format(batch)]\n",
    "        entries += [str(meter) for meter in self.meters]\n",
    "        print('\\t'.join(entries))\n",
    "\n",
    "    def _get_batch_fmtstr(self, num_batches):\n",
    "        num_digits = len(str(num_batches // 1))\n",
    "        fmt = '{:' + str(num_digits) + 'd}'\n",
    "        return '[' + fmt + '/' + fmt.format(num_batches) + ']'"
   ]
  },
  {
   "cell_type": "code",
   "execution_count": 21,
   "id": "c9944d1d",
   "metadata": {},
   "outputs": [],
   "source": [
    "def adjust_learning_rate(optimizer, epoch):\n",
    "    \"\"\"Sets the learning rate to the initial LR decayed by 10 every 30 epochs\"\"\"\n",
    "    lr = LR * (0.1 ** (epoch // 30))\n",
    "    for param_group in optimizer.param_groups:\n",
    "        param_group['lr'] = lr"
   ]
  },
  {
   "cell_type": "code",
   "execution_count": 22,
   "id": "4c46bf75",
   "metadata": {},
   "outputs": [],
   "source": [
    "def accuracy(output, target, topk=(1,)):\n",
    "    \"\"\"Computes the accuracy over the k top predictions for the specified values of k\"\"\"\n",
    "    with torch.no_grad():\n",
    "        maxk = max(topk)\n",
    "        batch_size = target.size(0)\n",
    "\n",
    "        _, pred = output.topk(maxk, 1, True, True)\n",
    "        pred = pred.t()\n",
    "        correct = pred.eq(target.view(1, -1).expand_as(pred))\n",
    "\n",
    "        res = []\n",
    "        for k in topk:\n",
    "            correct_k = correct[:k].reshape(-1).float().sum(0, keepdim=True)\n",
    "            res.append(correct_k.mul_(100.0 / batch_size))\n",
    "        return res"
   ]
  },
  {
   "cell_type": "code",
   "execution_count": 23,
   "id": "8861c6c2",
   "metadata": {},
   "outputs": [],
   "source": [
    "cudnn.benchmark = True"
   ]
  },
  {
   "cell_type": "code",
   "execution_count": 24,
   "id": "775d154b",
   "metadata": {},
   "outputs": [],
   "source": [
    "import torch.distributed as dist\n",
    "import sys"
   ]
  },
  {
   "cell_type": "code",
   "execution_count": 25,
   "id": "b7b02d23",
   "metadata": {},
   "outputs": [],
   "source": [
    "WORLD_SIZE = 2\n",
    "BACKEND = 'nccl'\n",
    "\n",
    "URL = 'tcp://172.31.17.123:443'\n",
    "\n",
    "RANK = 0\n",
    "\n",
    "dist.init_process_group(backend = BACKEND, init_method=URL,rank=RANK, world_size=WORLD_SIZE)"
   ]
  },
  {
   "cell_type": "code",
   "execution_count": 26,
   "id": "e52a26e2",
   "metadata": {},
   "outputs": [],
   "source": [
    "imagenet_mean_RGB = [0.47889522, 0.47227842, 0.43047404]\n",
    "imagenet_std_RGB = [0.229, 0.224, 0.225]"
   ]
  },
  {
   "cell_type": "code",
   "execution_count": 27,
   "id": "0bdf06ea",
   "metadata": {},
   "outputs": [],
   "source": [
    "normalize = transforms.Normalize(mean=imagenet_mean_RGB, std=imagenet_std_RGB)"
   ]
  },
  {
   "cell_type": "code",
   "execution_count": 28,
   "id": "396d2418",
   "metadata": {},
   "outputs": [],
   "source": [
    "IMG_SIZE = 224\n",
    "NUM_CLASSES = 1000"
   ]
  },
  {
   "cell_type": "code",
   "execution_count": 29,
   "id": "38c4d070",
   "metadata": {},
   "outputs": [],
   "source": [
    "model = models.__dict__[ARCH]()"
   ]
  },
  {
   "cell_type": "code",
   "execution_count": 30,
   "id": "09dd25af",
   "metadata": {},
   "outputs": [],
   "source": [
    "inf = model.fc.in_features"
   ]
  },
  {
   "cell_type": "code",
   "execution_count": 31,
   "id": "4c017582",
   "metadata": {},
   "outputs": [],
   "source": [
    "model.fc = nn.Linear(inf, NUM_CLASSES)"
   ]
  },
  {
   "cell_type": "code",
   "execution_count": 32,
   "id": "40a07972",
   "metadata": {},
   "outputs": [],
   "source": [
    "model.cuda(GPU)\n",
    "model = torch.nn.parallel.DistributedDataParallel(model, device_ids=[GPU])"
   ]
  },
  {
   "cell_type": "code",
   "execution_count": 33,
   "id": "1120f773",
   "metadata": {},
   "outputs": [],
   "source": [
    "criterion = nn.CrossEntropyLoss().cuda(GPU)"
   ]
  },
  {
   "cell_type": "code",
   "execution_count": 34,
   "id": "58ebeaff",
   "metadata": {},
   "outputs": [],
   "source": [
    "optimizer = torch.optim.SGD(model.parameters(), LR,\n",
    "                                momentum=MOMENTUM,\n",
    "                                weight_decay=WEIGHT_DECAY)"
   ]
  },
  {
   "cell_type": "code",
   "execution_count": 35,
   "id": "dac975f2",
   "metadata": {},
   "outputs": [],
   "source": [
    "scheduler = torch.optim.lr_scheduler.CosineAnnealingLR(optimizer, T_max=EPOCHS)"
   ]
  },
  {
   "cell_type": "code",
   "execution_count": 36,
   "id": "4a3ba597",
   "metadata": {},
   "outputs": [],
   "source": [
    "transform_train = transforms.Compose([\n",
    "    transforms.Resize((256,256)),\n",
    "    transforms.RandomCrop(IMG_SIZE, padding=4),\n",
    "    transforms.RandomHorizontalFlip(),\n",
    "    transforms.ToTensor(),\n",
    "    transforms.Normalize(imagenet_mean_RGB, imagenet_std_RGB),\n",
    "])"
   ]
  },
  {
   "cell_type": "code",
   "execution_count": 37,
   "id": "313d3038",
   "metadata": {},
   "outputs": [],
   "source": [
    "train_dataset = datasets.ImageFolder(\n",
    "    TRAINDIR, transform=transform_train)"
   ]
  },
  {
   "cell_type": "code",
   "execution_count": 38,
   "id": "7c5aecf0",
   "metadata": {},
   "outputs": [],
   "source": [
    "transform_val = transforms.Compose([\n",
    "    transforms.Resize((256,256)),\n",
    "    transforms.RandomCrop(IMG_SIZE, padding=4),\n",
    "    transforms.ToTensor(),\n",
    "    transforms.Normalize(imagenet_mean_RGB, imagenet_std_RGB),\n",
    "])"
   ]
  },
  {
   "cell_type": "code",
   "execution_count": 39,
   "id": "8d9cd11a",
   "metadata": {},
   "outputs": [],
   "source": [
    "val_dataset = datasets.ImageFolder(\n",
    "    VALDIR, transform=transform_val)"
   ]
  },
  {
   "cell_type": "code",
   "execution_count": 40,
   "id": "abee5f88",
   "metadata": {},
   "outputs": [],
   "source": [
    "train_loader = torch.utils.data.DataLoader(\n",
    "        train_dataset, batch_size=TRAIN_BATCH, shuffle=False,\n",
    "        num_workers=WORKERS, pin_memory=True, sampler=torch.utils.data.distributed.DistributedSampler(train_dataset))"
   ]
  },
  {
   "cell_type": "code",
   "execution_count": 41,
   "id": "c9c19b34",
   "metadata": {},
   "outputs": [],
   "source": [
    "val_loader = torch.utils.data.DataLoader(\n",
    "        val_dataset, batch_size=VAL_BATCH, shuffle=False,\n",
    "        num_workers=WORKERS, pin_memory=True, sampler=None)"
   ]
  },
  {
   "cell_type": "code",
   "execution_count": 42,
   "id": "ab4a6069",
   "metadata": {},
   "outputs": [],
   "source": [
    "best_acc1 = 0"
   ]
  },
  {
   "cell_type": "code",
   "execution_count": 43,
   "id": "2a53dea3",
   "metadata": {},
   "outputs": [
    {
     "name": "stdout",
     "output_type": "stream",
     "text": [
      "Epoch: [0][   0/1282]\tTime 31.765 (31.765)\tData  3.818 ( 3.818)\tLoss 7.0052e+00 (7.0052e+00)\tAcc@1   0.00 (  0.00)\tAcc@5   1.00 (  1.00)\n",
      "Epoch: [0][  10/1282]\tTime  0.785 ( 3.937)\tData  0.096 ( 0.725)\tLoss 6.9195e+00 (6.9718e+00)\tAcc@1   0.60 (  0.18)\tAcc@5   1.20 (  0.78)\n",
      "Epoch: [0][  20/1282]\tTime  0.754 ( 2.881)\tData  0.097 ( 0.677)\tLoss 6.9420e+00 (6.9584e+00)\tAcc@1   0.20 (  0.18)\tAcc@5   0.80 (  0.81)\n",
      "Epoch: [0][  30/1282]\tTime  0.763 ( 2.512)\tData  0.104 ( 0.573)\tLoss 6.8143e+00 (6.9239e+00)\tAcc@1   0.80 (  0.26)\tAcc@5   2.00 (  1.10)\n",
      "Epoch: [0][  40/1282]\tTime  0.758 ( 2.296)\tData  0.096 ( 0.445)\tLoss 6.7460e+00 (6.8903e+00)\tAcc@1   0.40 (  0.37)\tAcc@5   3.20 (  1.39)\n",
      "Epoch: [0][  50/1282]\tTime  0.666 ( 2.180)\tData  0.002 ( 0.380)\tLoss 6.7190e+00 (6.8485e+00)\tAcc@1   0.20 (  0.42)\tAcc@5   2.00 (  1.64)\n",
      "Epoch: [0][  60/1282]\tTime  0.695 ( 2.114)\tData  0.002 ( 0.321)\tLoss 6.5468e+00 (6.8072e+00)\tAcc@1   1.20 (  0.52)\tAcc@5   4.00 (  1.86)\n",
      "Epoch: [0][  70/1282]\tTime  0.755 ( 2.048)\tData  0.003 ( 0.276)\tLoss 6.4231e+00 (6.7601e+00)\tAcc@1   1.20 (  0.62)\tAcc@5   3.40 (  2.21)\n",
      "Epoch: [0][  80/1282]\tTime  0.874 ( 2.009)\tData  0.002 ( 0.243)\tLoss 6.3648e+00 (6.7166e+00)\tAcc@1   0.80 (  0.69)\tAcc@5   4.60 (  2.48)\n",
      "Epoch: [0][  90/1282]\tTime  1.269 ( 1.968)\tData  0.003 ( 0.216)\tLoss 6.4328e+00 (6.6766e+00)\tAcc@1   1.20 (  0.80)\tAcc@5   4.00 (  2.73)\n",
      "Epoch: [0][ 100/1282]\tTime  1.648 ( 1.944)\tData  0.003 ( 0.195)\tLoss 6.1733e+00 (6.6321e+00)\tAcc@1   2.40 (  0.89)\tAcc@5   6.80 (  3.07)\n",
      "Epoch: [0][ 110/1282]\tTime  1.124 ( 1.914)\tData  0.002 ( 0.178)\tLoss 6.1747e+00 (6.5914e+00)\tAcc@1   0.80 (  0.97)\tAcc@5   7.40 (  3.39)\n",
      "Epoch: [0][ 120/1282]\tTime  1.238 ( 1.900)\tData  0.003 ( 0.163)\tLoss 6.1986e+00 (6.5519e+00)\tAcc@1   3.00 (  1.07)\tAcc@5   6.60 (  3.69)\n",
      "Epoch: [0][ 130/1282]\tTime  1.232 ( 1.884)\tData  0.002 ( 0.151)\tLoss 6.0501e+00 (6.5186e+00)\tAcc@1   2.80 (  1.15)\tAcc@5   7.20 (  3.94)\n",
      "Epoch: [0][ 140/1282]\tTime  1.002 ( 1.865)\tData  0.003 ( 0.140)\tLoss 5.8912e+00 (6.4834e+00)\tAcc@1   1.40 (  1.21)\tAcc@5   8.60 (  4.16)\n",
      "Epoch: [0][ 150/1282]\tTime  1.012 ( 1.859)\tData  0.003 ( 0.131)\tLoss 5.8954e+00 (6.4457e+00)\tAcc@1   4.60 (  1.33)\tAcc@5  10.20 (  4.52)\n",
      "Epoch: [0][ 160/1282]\tTime  0.772 ( 1.845)\tData  0.003 ( 0.123)\tLoss 5.8703e+00 (6.4114e+00)\tAcc@1   2.40 (  1.42)\tAcc@5   9.40 (  4.82)\n",
      "Epoch: [0][ 170/1282]\tTime  0.772 ( 1.833)\tData  0.002 ( 0.116)\tLoss 5.8273e+00 (6.3786e+00)\tAcc@1   3.00 (  1.51)\tAcc@5   9.40 (  5.10)\n",
      "Epoch: [0][ 180/1282]\tTime  0.775 ( 1.825)\tData  0.002 ( 0.110)\tLoss 5.7143e+00 (6.3457e+00)\tAcc@1   4.20 (  1.63)\tAcc@5  11.20 (  5.45)\n",
      "Epoch: [0][ 190/1282]\tTime  0.688 ( 1.816)\tData  0.002 ( 0.105)\tLoss 5.7807e+00 (6.3160e+00)\tAcc@1   3.40 (  1.73)\tAcc@5  10.80 (  5.75)\n",
      "Epoch: [0][ 200/1282]\tTime  0.688 ( 1.815)\tData  0.002 ( 0.099)\tLoss 5.6943e+00 (6.2852e+00)\tAcc@1   4.80 (  1.84)\tAcc@5  12.00 (  6.06)\n",
      "Epoch: [0][ 210/1282]\tTime  0.690 ( 1.806)\tData  0.003 ( 0.095)\tLoss 5.6501e+00 (6.2572e+00)\tAcc@1   6.00 (  1.95)\tAcc@5  12.60 (  6.35)\n",
      "Epoch: [0][ 220/1282]\tTime  0.691 ( 1.801)\tData  0.002 ( 0.091)\tLoss 5.6773e+00 (6.2283e+00)\tAcc@1   3.20 (  2.04)\tAcc@5  13.60 (  6.64)\n",
      "Epoch: [0][ 230/1282]\tTime  0.693 ( 1.795)\tData  0.003 ( 0.087)\tLoss 5.6111e+00 (6.2014e+00)\tAcc@1   3.80 (  2.14)\tAcc@5  15.00 (  6.94)\n",
      "Epoch: [0][ 240/1282]\tTime  0.697 ( 1.789)\tData  0.003 ( 0.084)\tLoss 5.6436e+00 (6.1756e+00)\tAcc@1   4.80 (  2.23)\tAcc@5  12.60 (  7.22)\n",
      "Epoch: [0][ 250/1282]\tTime  0.694 ( 1.784)\tData  0.002 ( 0.081)\tLoss 5.4127e+00 (6.1477e+00)\tAcc@1   5.20 (  2.35)\tAcc@5  15.20 (  7.52)\n",
      "Epoch: [0][ 260/1282]\tTime  0.714 ( 1.782)\tData  0.002 ( 0.078)\tLoss 5.4833e+00 (6.1210e+00)\tAcc@1   5.40 (  2.45)\tAcc@5  14.20 (  7.82)\n",
      "Epoch: [0][ 270/1282]\tTime  0.725 ( 1.777)\tData  0.002 ( 0.075)\tLoss 5.4789e+00 (6.0954e+00)\tAcc@1   4.20 (  2.55)\tAcc@5  13.80 (  8.12)\n",
      "Epoch: [0][ 280/1282]\tTime  0.682 ( 1.774)\tData  0.002 ( 0.072)\tLoss 5.5131e+00 (6.0705e+00)\tAcc@1   4.00 (  2.65)\tAcc@5  15.80 (  8.42)\n",
      "Epoch: [0][ 290/1282]\tTime  0.734 ( 1.774)\tData  0.003 ( 0.070)\tLoss 5.2685e+00 (6.0456e+00)\tAcc@1   6.00 (  2.75)\tAcc@5  17.00 (  8.71)\n",
      "Epoch: [0][ 300/1282]\tTime  0.721 ( 1.768)\tData  0.003 ( 0.068)\tLoss 5.1495e+00 (6.0214e+00)\tAcc@1   9.00 (  2.88)\tAcc@5  21.80 (  9.03)\n",
      "Epoch: [0][ 310/1282]\tTime  0.732 ( 1.768)\tData  0.003 ( 0.066)\tLoss 5.1729e+00 (5.9975e+00)\tAcc@1   5.20 (  2.98)\tAcc@5  20.20 (  9.32)\n",
      "Epoch: [0][ 320/1282]\tTime  0.718 ( 1.765)\tData  0.003 ( 0.064)\tLoss 5.1785e+00 (5.9741e+00)\tAcc@1   6.60 (  3.10)\tAcc@5  18.20 (  9.63)\n",
      "Epoch: [0][ 330/1282]\tTime  0.715 ( 1.762)\tData  0.003 ( 0.062)\tLoss 5.0783e+00 (5.9511e+00)\tAcc@1   7.80 (  3.22)\tAcc@5  20.20 (  9.93)\n",
      "Epoch: [0][ 340/1282]\tTime  0.683 ( 1.761)\tData  0.003 ( 0.060)\tLoss 5.2627e+00 (5.9287e+00)\tAcc@1   4.80 (  3.34)\tAcc@5  17.80 ( 10.23)\n",
      "Epoch: [0][ 350/1282]\tTime  0.682 ( 1.758)\tData  0.002 ( 0.058)\tLoss 5.2318e+00 (5.9082e+00)\tAcc@1   7.00 (  3.45)\tAcc@5  18.40 ( 10.49)\n",
      "Epoch: [0][ 360/1282]\tTime  0.728 ( 1.758)\tData  0.002 ( 0.057)\tLoss 5.1501e+00 (5.8877e+00)\tAcc@1   8.60 (  3.55)\tAcc@5  22.20 ( 10.77)\n",
      "Epoch: [0][ 370/1282]\tTime  0.696 ( 1.754)\tData  0.003 ( 0.055)\tLoss 5.0797e+00 (5.8679e+00)\tAcc@1   7.20 (  3.66)\tAcc@5  21.40 ( 11.03)\n",
      "Epoch: [0][ 380/1282]\tTime  0.689 ( 1.753)\tData  0.002 ( 0.054)\tLoss 5.0661e+00 (5.8483e+00)\tAcc@1   9.00 (  3.76)\tAcc@5  22.60 ( 11.31)\n",
      "Epoch: [0][ 390/1282]\tTime  0.679 ( 1.752)\tData  0.002 ( 0.053)\tLoss 5.0788e+00 (5.8295e+00)\tAcc@1   9.40 (  3.86)\tAcc@5  23.00 ( 11.55)\n",
      "Epoch: [0][ 400/1282]\tTime  0.711 ( 1.748)\tData  0.003 ( 0.051)\tLoss 5.0956e+00 (5.8094e+00)\tAcc@1   7.20 (  3.95)\tAcc@5  22.40 ( 11.84)\n",
      "Epoch: [0][ 410/1282]\tTime  0.786 ( 1.745)\tData  0.103 ( 0.051)\tLoss 5.1305e+00 (5.7901e+00)\tAcc@1   7.60 (  4.07)\tAcc@5  21.60 ( 12.11)\n",
      "Epoch: [0][ 420/1282]\tTime  0.724 ( 1.746)\tData  0.002 ( 0.050)\tLoss 4.9988e+00 (5.7706e+00)\tAcc@1   8.00 (  4.20)\tAcc@5  22.00 ( 12.38)\n",
      "Epoch: [0][ 430/1282]\tTime  0.716 ( 1.743)\tData  0.002 ( 0.049)\tLoss 4.9691e+00 (5.7528e+00)\tAcc@1   9.60 (  4.30)\tAcc@5  25.00 ( 12.64)\n",
      "Epoch: [0][ 440/1282]\tTime  0.688 ( 1.743)\tData  0.002 ( 0.048)\tLoss 4.9493e+00 (5.7343e+00)\tAcc@1   9.60 (  4.40)\tAcc@5  21.80 ( 12.91)\n",
      "Epoch: [0][ 450/1282]\tTime  0.688 ( 1.741)\tData  0.002 ( 0.047)\tLoss 4.8254e+00 (5.7152e+00)\tAcc@1  11.00 (  4.52)\tAcc@5  27.20 ( 13.18)\n",
      "Epoch: [0][ 460/1282]\tTime  0.684 ( 1.741)\tData  0.003 ( 0.046)\tLoss 4.9199e+00 (5.6966e+00)\tAcc@1   8.60 (  4.63)\tAcc@5  23.00 ( 13.45)\n",
      "Epoch: [0][ 470/1282]\tTime  0.689 ( 1.740)\tData  0.002 ( 0.045)\tLoss 4.8521e+00 (5.6786e+00)\tAcc@1   9.20 (  4.75)\tAcc@5  25.00 ( 13.71)\n",
      "Epoch: [0][ 480/1282]\tTime  0.716 ( 1.741)\tData  0.003 ( 0.044)\tLoss 4.7670e+00 (5.6600e+00)\tAcc@1  13.20 (  4.88)\tAcc@5  25.80 ( 13.97)\n",
      "Epoch: [0][ 490/1282]\tTime  0.690 ( 1.739)\tData  0.002 ( 0.043)\tLoss 4.7965e+00 (5.6420e+00)\tAcc@1  13.00 (  5.00)\tAcc@5  25.00 ( 14.23)\n",
      "Epoch: [0][ 500/1282]\tTime  0.682 ( 1.737)\tData  0.002 ( 0.043)\tLoss 4.8291e+00 (5.6245e+00)\tAcc@1  10.00 (  5.12)\tAcc@5  25.80 ( 14.49)\n",
      "Epoch: [0][ 510/1282]\tTime  0.726 ( 1.737)\tData  0.003 ( 0.043)\tLoss 4.8475e+00 (5.6075e+00)\tAcc@1  11.20 (  5.23)\tAcc@5  26.40 ( 14.75)\n",
      "Epoch: [0][ 520/1282]\tTime  0.687 ( 1.735)\tData  0.003 ( 0.042)\tLoss 4.7205e+00 (5.5908e+00)\tAcc@1  11.60 (  5.34)\tAcc@5  27.20 ( 15.00)\n",
      "Epoch: [0][ 530/1282]\tTime  0.691 ( 1.736)\tData  0.002 ( 0.041)\tLoss 4.5390e+00 (5.5743e+00)\tAcc@1  11.80 (  5.47)\tAcc@5  30.20 ( 15.25)\n",
      "Epoch: [0][ 540/1282]\tTime  0.685 ( 1.736)\tData  0.002 ( 0.040)\tLoss 4.6934e+00 (5.5584e+00)\tAcc@1  12.00 (  5.58)\tAcc@5  29.20 ( 15.48)\n",
      "Epoch: [0][ 550/1282]\tTime  0.690 ( 1.735)\tData  0.002 ( 0.040)\tLoss 4.7437e+00 (5.5425e+00)\tAcc@1  12.20 (  5.69)\tAcc@5  27.20 ( 15.72)\n",
      "Epoch: [0][ 560/1282]\tTime  0.684 ( 1.734)\tData  0.002 ( 0.039)\tLoss 4.6569e+00 (5.5262e+00)\tAcc@1   9.60 (  5.81)\tAcc@5  29.60 ( 15.97)\n",
      "Epoch: [0][ 570/1282]\tTime  0.717 ( 1.733)\tData  0.003 ( 0.038)\tLoss 4.5330e+00 (5.5102e+00)\tAcc@1  11.60 (  5.92)\tAcc@5  30.40 ( 16.23)\n",
      "Epoch: [0][ 580/1282]\tTime  0.724 ( 1.733)\tData  0.002 ( 0.038)\tLoss 4.6726e+00 (5.4946e+00)\tAcc@1  14.20 (  6.04)\tAcc@5  29.20 ( 16.47)\n",
      "Epoch: [0][ 590/1282]\tTime  0.688 ( 1.732)\tData  0.003 ( 0.037)\tLoss 4.6111e+00 (5.4786e+00)\tAcc@1  11.80 (  6.15)\tAcc@5  30.80 ( 16.74)\n"
     ]
    },
    {
     "name": "stdout",
     "output_type": "stream",
     "text": [
      "Epoch: [0][ 600/1282]\tTime  0.680 ( 1.730)\tData  0.002 ( 0.037)\tLoss 4.6452e+00 (5.4635e+00)\tAcc@1  10.80 (  6.25)\tAcc@5  29.80 ( 16.98)\n",
      "Epoch: [0][ 610/1282]\tTime  0.680 ( 1.730)\tData  0.003 ( 0.036)\tLoss 4.5628e+00 (5.4475e+00)\tAcc@1  11.40 (  6.37)\tAcc@5  33.00 ( 17.24)\n",
      "Epoch: [0][ 620/1282]\tTime  0.780 ( 1.729)\tData  0.099 ( 0.036)\tLoss 4.4533e+00 (5.4322e+00)\tAcc@1  14.80 (  6.49)\tAcc@5  36.00 ( 17.49)\n",
      "Epoch: [0][ 630/1282]\tTime  0.695 ( 1.729)\tData  0.002 ( 0.037)\tLoss 4.4817e+00 (5.4168e+00)\tAcc@1  15.40 (  6.62)\tAcc@5  34.60 ( 17.74)\n",
      "Epoch: [0][ 640/1282]\tTime  0.686 ( 1.727)\tData  0.002 ( 0.036)\tLoss 4.5289e+00 (5.4026e+00)\tAcc@1  13.40 (  6.73)\tAcc@5  33.80 ( 17.98)\n",
      "Epoch: [0][ 650/1282]\tTime  0.684 ( 1.727)\tData  0.002 ( 0.036)\tLoss 4.4358e+00 (5.3879e+00)\tAcc@1  14.40 (  6.84)\tAcc@5  34.20 ( 18.22)\n",
      "Epoch: [0][ 660/1282]\tTime  0.685 ( 1.726)\tData  0.002 ( 0.035)\tLoss 4.5140e+00 (5.3730e+00)\tAcc@1  11.00 (  6.96)\tAcc@5  32.20 ( 18.46)\n",
      "Epoch: [0][ 670/1282]\tTime  0.782 ( 1.725)\tData  0.100 ( 0.035)\tLoss 4.4061e+00 (5.3590e+00)\tAcc@1  12.60 (  7.06)\tAcc@5  31.60 ( 18.67)\n",
      "Epoch: [0][ 680/1282]\tTime  0.684 ( 1.725)\tData  0.003 ( 0.035)\tLoss 4.4132e+00 (5.3456e+00)\tAcc@1  15.80 (  7.17)\tAcc@5  35.80 ( 18.89)\n",
      "Epoch: [0][ 690/1282]\tTime  0.783 ( 1.724)\tData  0.099 ( 0.034)\tLoss 4.3678e+00 (5.3311e+00)\tAcc@1  13.40 (  7.28)\tAcc@5  35.60 ( 19.12)\n",
      "Epoch: [0][ 700/1282]\tTime  0.682 ( 1.724)\tData  0.002 ( 0.034)\tLoss 4.4067e+00 (5.3169e+00)\tAcc@1  15.40 (  7.40)\tAcc@5  34.60 ( 19.35)\n",
      "Epoch: [0][ 710/1282]\tTime  0.686 ( 1.723)\tData  0.003 ( 0.034)\tLoss 4.2924e+00 (5.3030e+00)\tAcc@1  19.20 (  7.51)\tAcc@5  36.00 ( 19.58)\n",
      "Epoch: [0][ 720/1282]\tTime  0.778 ( 1.723)\tData  0.098 ( 0.034)\tLoss 4.2623e+00 (5.2889e+00)\tAcc@1  17.80 (  7.64)\tAcc@5  35.60 ( 19.81)\n",
      "Epoch: [0][ 730/1282]\tTime  0.686 ( 1.722)\tData  0.002 ( 0.034)\tLoss 4.2448e+00 (5.2762e+00)\tAcc@1  15.80 (  7.75)\tAcc@5  37.60 ( 20.02)\n",
      "Epoch: [0][ 740/1282]\tTime  0.776 ( 1.722)\tData  0.098 ( 0.034)\tLoss 4.3185e+00 (5.2631e+00)\tAcc@1  15.20 (  7.87)\tAcc@5  35.60 ( 20.24)\n",
      "Epoch: [0][ 750/1282]\tTime  0.785 ( 1.721)\tData  0.101 ( 0.034)\tLoss 4.4522e+00 (5.2513e+00)\tAcc@1  14.60 (  7.96)\tAcc@5  34.20 ( 20.43)\n",
      "Epoch: [0][ 760/1282]\tTime  0.883 ( 1.720)\tData  0.203 ( 0.035)\tLoss 4.1979e+00 (5.2379e+00)\tAcc@1  16.40 (  8.06)\tAcc@5  39.40 ( 20.65)\n",
      "Epoch: [0][ 770/1282]\tTime  0.880 ( 1.720)\tData  0.202 ( 0.036)\tLoss 4.1467e+00 (5.2252e+00)\tAcc@1  18.00 (  8.18)\tAcc@5  38.60 ( 20.86)\n",
      "Epoch: [0][ 780/1282]\tTime  0.790 ( 1.720)\tData  0.106 ( 0.036)\tLoss 4.2533e+00 (5.2123e+00)\tAcc@1  17.00 (  8.29)\tAcc@5  35.60 ( 21.06)\n",
      "Epoch: [0][ 790/1282]\tTime  0.785 ( 1.719)\tData  0.101 ( 0.036)\tLoss 4.3386e+00 (5.2000e+00)\tAcc@1  14.00 (  8.39)\tAcc@5  35.00 ( 21.26)\n",
      "Epoch: [0][ 800/1282]\tTime  0.883 ( 1.719)\tData  0.199 ( 0.036)\tLoss 4.0317e+00 (5.1871e+00)\tAcc@1  18.00 (  8.50)\tAcc@5  40.20 ( 21.48)\n",
      "Epoch: [0][ 810/1282]\tTime  0.880 ( 1.718)\tData  0.199 ( 0.037)\tLoss 4.1468e+00 (5.1747e+00)\tAcc@1  15.20 (  8.61)\tAcc@5  38.20 ( 21.69)\n",
      "Epoch: [0][ 820/1282]\tTime  0.883 ( 1.717)\tData  0.203 ( 0.038)\tLoss 4.0159e+00 (5.1615e+00)\tAcc@1  19.20 (  8.72)\tAcc@5  38.80 ( 21.90)\n",
      "Epoch: [0][ 830/1282]\tTime  0.780 ( 1.716)\tData  0.097 ( 0.038)\tLoss 4.0165e+00 (5.1493e+00)\tAcc@1  17.80 (  8.82)\tAcc@5  42.20 ( 22.11)\n",
      "Epoch: [0][ 840/1282]\tTime  1.091 ( 1.716)\tData  0.404 ( 0.039)\tLoss 4.1083e+00 (5.1369e+00)\tAcc@1  18.40 (  8.93)\tAcc@5  40.00 ( 22.33)\n",
      "Epoch: [0][ 850/1282]\tTime  0.886 ( 1.716)\tData  0.205 ( 0.040)\tLoss 4.0071e+00 (5.1243e+00)\tAcc@1  20.40 (  9.05)\tAcc@5  41.40 ( 22.55)\n",
      "Epoch: [0][ 860/1282]\tTime  0.888 ( 1.716)\tData  0.206 ( 0.041)\tLoss 4.2274e+00 (5.1119e+00)\tAcc@1  15.40 (  9.15)\tAcc@5  37.20 ( 22.75)\n",
      "Epoch: [0][ 870/1282]\tTime  0.686 ( 1.716)\tData  0.002 ( 0.041)\tLoss 4.1008e+00 (5.0998e+00)\tAcc@1  18.40 (  9.26)\tAcc@5  41.00 ( 22.95)\n",
      "Epoch: [0][ 880/1282]\tTime  0.784 ( 1.715)\tData  0.099 ( 0.041)\tLoss 4.1863e+00 (5.0879e+00)\tAcc@1  17.60 (  9.37)\tAcc@5  40.60 ( 23.16)\n",
      "Epoch: [0][ 890/1282]\tTime  0.789 ( 1.715)\tData  0.104 ( 0.041)\tLoss 4.0395e+00 (5.0759e+00)\tAcc@1  17.60 (  9.47)\tAcc@5  39.20 ( 23.36)\n",
      "Epoch: [0][ 900/1282]\tTime  0.895 ( 1.715)\tData  0.201 ( 0.041)\tLoss 4.0123e+00 (5.0642e+00)\tAcc@1  21.20 (  9.60)\tAcc@5  42.80 ( 23.57)\n",
      "Epoch: [0][ 910/1282]\tTime  0.686 ( 1.715)\tData  0.002 ( 0.041)\tLoss 3.9659e+00 (5.0524e+00)\tAcc@1  20.20 (  9.71)\tAcc@5  39.40 ( 23.77)\n",
      "Epoch: [0][ 920/1282]\tTime  0.683 ( 1.714)\tData  0.003 ( 0.041)\tLoss 4.1435e+00 (5.0407e+00)\tAcc@1  17.40 (  9.82)\tAcc@5  39.20 ( 23.98)\n",
      "Epoch: [0][ 930/1282]\tTime  0.682 ( 1.713)\tData  0.003 ( 0.041)\tLoss 4.0199e+00 (5.0288e+00)\tAcc@1  18.00 (  9.93)\tAcc@5  40.80 ( 24.18)\n",
      "Epoch: [0][ 940/1282]\tTime  0.780 ( 1.713)\tData  0.098 ( 0.041)\tLoss 3.9584e+00 (5.0177e+00)\tAcc@1  20.20 ( 10.04)\tAcc@5  44.20 ( 24.37)\n",
      "Epoch: [0][ 950/1282]\tTime  0.810 ( 1.713)\tData  0.103 ( 0.041)\tLoss 3.8160e+00 (5.0063e+00)\tAcc@1  24.60 ( 10.15)\tAcc@5  43.20 ( 24.57)\n",
      "Epoch: [0][ 960/1282]\tTime  0.684 ( 1.712)\tData  0.002 ( 0.040)\tLoss 3.9514e+00 (4.9951e+00)\tAcc@1  23.00 ( 10.28)\tAcc@5  43.60 ( 24.77)\n",
      "Epoch: [0][ 970/1282]\tTime  0.778 ( 1.711)\tData  0.097 ( 0.040)\tLoss 4.0007e+00 (4.9844e+00)\tAcc@1  20.40 ( 10.38)\tAcc@5  41.40 ( 24.95)\n",
      "Epoch: [0][ 980/1282]\tTime  0.778 ( 1.711)\tData  0.097 ( 0.040)\tLoss 4.0263e+00 (4.9735e+00)\tAcc@1  18.60 ( 10.48)\tAcc@5  40.80 ( 25.15)\n",
      "Epoch: [0][ 990/1282]\tTime  0.794 ( 1.711)\tData  0.100 ( 0.041)\tLoss 3.8458e+00 (4.9630e+00)\tAcc@1  23.60 ( 10.58)\tAcc@5  44.40 ( 25.33)\n",
      "Epoch: [0][1000/1282]\tTime  0.727 ( 1.711)\tData  0.003 ( 0.041)\tLoss 4.0544e+00 (4.9525e+00)\tAcc@1  19.80 ( 10.69)\tAcc@5  42.00 ( 25.51)\n",
      "Epoch: [0][1010/1282]\tTime  0.779 ( 1.711)\tData  0.101 ( 0.040)\tLoss 3.9197e+00 (4.9416e+00)\tAcc@1  19.00 ( 10.79)\tAcc@5  45.80 ( 25.71)\n",
      "Epoch: [0][1020/1282]\tTime  0.880 ( 1.710)\tData  0.202 ( 0.041)\tLoss 3.8974e+00 (4.9310e+00)\tAcc@1  20.60 ( 10.90)\tAcc@5  43.40 ( 25.89)\n",
      "Epoch: [0][1030/1282]\tTime  0.679 ( 1.710)\tData  0.002 ( 0.041)\tLoss 3.9300e+00 (4.9206e+00)\tAcc@1  19.60 ( 11.01)\tAcc@5  42.20 ( 26.07)\n",
      "Epoch: [0][1040/1282]\tTime  0.882 ( 1.709)\tData  0.202 ( 0.041)\tLoss 4.0159e+00 (4.9101e+00)\tAcc@1  20.20 ( 11.12)\tAcc@5  41.20 ( 26.26)\n",
      "Epoch: [0][1050/1282]\tTime  0.781 ( 1.710)\tData  0.100 ( 0.042)\tLoss 4.0016e+00 (4.9001e+00)\tAcc@1  19.00 ( 11.22)\tAcc@5  42.60 ( 26.43)\n",
      "Epoch: [0][1060/1282]\tTime  0.680 ( 1.709)\tData  0.003 ( 0.042)\tLoss 3.6650e+00 (4.8898e+00)\tAcc@1  23.40 ( 11.32)\tAcc@5  48.60 ( 26.62)\n",
      "Epoch: [0][1070/1282]\tTime  0.699 ( 1.710)\tData  0.002 ( 0.042)\tLoss 3.8824e+00 (4.8798e+00)\tAcc@1  17.80 ( 11.42)\tAcc@5  42.20 ( 26.78)\n",
      "Epoch: [0][1080/1282]\tTime  0.685 ( 1.710)\tData  0.003 ( 0.041)\tLoss 3.7351e+00 (4.8698e+00)\tAcc@1  23.00 ( 11.52)\tAcc@5  48.80 ( 26.97)\n",
      "Epoch: [0][1090/1282]\tTime  0.718 ( 1.709)\tData  0.003 ( 0.041)\tLoss 3.6449e+00 (4.8597e+00)\tAcc@1  25.60 ( 11.62)\tAcc@5  50.40 ( 27.14)\n",
      "Epoch: [0][1100/1282]\tTime  0.717 ( 1.708)\tData  0.003 ( 0.041)\tLoss 3.6631e+00 (4.8496e+00)\tAcc@1  22.80 ( 11.73)\tAcc@5  49.80 ( 27.32)\n",
      "Epoch: [0][1110/1282]\tTime  0.710 ( 1.708)\tData  0.003 ( 0.040)\tLoss 3.8230e+00 (4.8394e+00)\tAcc@1  21.40 ( 11.83)\tAcc@5  43.00 ( 27.49)\n",
      "Epoch: [0][1120/1282]\tTime  0.696 ( 1.708)\tData  0.002 ( 0.040)\tLoss 3.7044e+00 (4.8293e+00)\tAcc@1  24.00 ( 11.94)\tAcc@5  48.20 ( 27.67)\n",
      "Epoch: [0][1130/1282]\tTime  0.777 ( 1.707)\tData  0.095 ( 0.040)\tLoss 3.6064e+00 (4.8194e+00)\tAcc@1  26.20 ( 12.04)\tAcc@5  49.20 ( 27.85)\n",
      "Epoch: [0][1140/1282]\tTime  0.794 ( 1.707)\tData  0.097 ( 0.040)\tLoss 3.7460e+00 (4.8095e+00)\tAcc@1  22.80 ( 12.15)\tAcc@5  45.80 ( 28.03)\n",
      "Epoch: [0][1150/1282]\tTime  0.785 ( 1.706)\tData  0.100 ( 0.040)\tLoss 3.6300e+00 (4.7999e+00)\tAcc@1  24.40 ( 12.24)\tAcc@5  47.60 ( 28.19)\n",
      "Epoch: [0][1160/1282]\tTime  0.782 ( 1.706)\tData  0.100 ( 0.040)\tLoss 3.4967e+00 (4.7898e+00)\tAcc@1  25.40 ( 12.35)\tAcc@5  52.40 ( 28.37)\n",
      "Epoch: [0][1170/1282]\tTime  0.780 ( 1.705)\tData  0.098 ( 0.041)\tLoss 3.5354e+00 (4.7797e+00)\tAcc@1  27.60 ( 12.46)\tAcc@5  50.00 ( 28.55)\n",
      "Epoch: [0][1180/1282]\tTime  0.680 ( 1.705)\tData  0.003 ( 0.041)\tLoss 3.6625e+00 (4.7700e+00)\tAcc@1  24.00 ( 12.55)\tAcc@5  49.40 ( 28.72)\n",
      "Epoch: [0][1190/1282]\tTime  0.692 ( 1.705)\tData  0.003 ( 0.041)\tLoss 3.6948e+00 (4.7603e+00)\tAcc@1  21.80 ( 12.66)\tAcc@5  49.80 ( 28.89)\n"
     ]
    },
    {
     "name": "stdout",
     "output_type": "stream",
     "text": [
      "Epoch: [0][1200/1282]\tTime  0.780 ( 1.704)\tData  0.097 ( 0.041)\tLoss 3.4662e+00 (4.7511e+00)\tAcc@1  30.20 ( 12.77)\tAcc@5  50.60 ( 29.06)\n",
      "Epoch: [0][1210/1282]\tTime  0.687 ( 1.704)\tData  0.003 ( 0.042)\tLoss 3.6185e+00 (4.7416e+00)\tAcc@1  25.80 ( 12.87)\tAcc@5  48.00 ( 29.23)\n",
      "Epoch: [0][1220/1282]\tTime  0.689 ( 1.704)\tData  0.002 ( 0.042)\tLoss 3.5822e+00 (4.7323e+00)\tAcc@1  25.80 ( 12.98)\tAcc@5  48.80 ( 29.41)\n",
      "Epoch: [0][1230/1282]\tTime  0.716 ( 1.704)\tData  0.003 ( 0.042)\tLoss 3.5782e+00 (4.7228e+00)\tAcc@1  25.40 ( 13.08)\tAcc@5  50.20 ( 29.57)\n",
      "Epoch: [0][1240/1282]\tTime  0.714 ( 1.704)\tData  0.003 ( 0.041)\tLoss 3.7009e+00 (4.7135e+00)\tAcc@1  22.40 ( 13.18)\tAcc@5  48.20 ( 29.74)\n",
      "Epoch: [0][1250/1282]\tTime  0.724 ( 1.703)\tData  0.003 ( 0.041)\tLoss 3.6202e+00 (4.7043e+00)\tAcc@1  26.60 ( 13.28)\tAcc@5  49.60 ( 29.90)\n",
      "Epoch: [0][1260/1282]\tTime  0.721 ( 1.704)\tData  0.003 ( 0.041)\tLoss 3.4213e+00 (4.6952e+00)\tAcc@1  28.80 ( 13.37)\tAcc@5  54.00 ( 30.06)\n",
      "Epoch: [0][1270/1282]\tTime  0.785 ( 1.703)\tData  0.103 ( 0.041)\tLoss 3.3892e+00 (4.6860e+00)\tAcc@1  27.20 ( 13.47)\tAcc@5  55.20 ( 30.23)\n",
      "Epoch: [0][1280/1282]\tTime  0.781 ( 1.702)\tData  0.099 ( 0.041)\tLoss 3.6227e+00 (4.6771e+00)\tAcc@1  25.60 ( 13.57)\tAcc@5  48.00 ( 30.39)\n",
      "Test: [  0/100]\tTime  6.569 ( 6.569)\tLoss 3.5146e+00 (3.5146e+00)\tAcc@1  23.80 ( 23.80)\tAcc@5  54.40 ( 54.40)\n",
      "Test: [ 10/100]\tTime  2.998 ( 2.001)\tLoss 4.0827e+00 (4.2301e+00)\tAcc@1  24.80 ( 20.73)\tAcc@5  44.00 ( 42.49)\n",
      "Test: [ 20/100]\tTime  2.869 ( 1.860)\tLoss 4.0490e+00 (4.0471e+00)\tAcc@1  10.60 ( 20.67)\tAcc@5  39.40 ( 43.43)\n",
      "Test: [ 30/100]\tTime  2.946 ( 1.817)\tLoss 4.2780e+00 (4.0942e+00)\tAcc@1  20.80 ( 19.25)\tAcc@5  42.60 ( 42.21)\n",
      "Test: [ 40/100]\tTime  2.730 ( 1.805)\tLoss 3.5963e+00 (4.1573e+00)\tAcc@1  25.00 ( 19.18)\tAcc@5  52.20 ( 41.36)\n",
      "Test: [ 50/100]\tTime  2.833 ( 1.791)\tLoss 5.1530e+00 (4.1964e+00)\tAcc@1   9.00 ( 18.33)\tAcc@5  22.40 ( 40.25)\n",
      "Test: [ 60/100]\tTime  2.908 ( 1.784)\tLoss 4.0325e+00 (4.1941e+00)\tAcc@1  24.00 ( 18.45)\tAcc@5  42.20 ( 40.06)\n",
      "Test: [ 70/100]\tTime  2.946 ( 1.768)\tLoss 4.2801e+00 (4.2172e+00)\tAcc@1  13.80 ( 18.17)\tAcc@5  37.00 ( 39.63)\n",
      "Test: [ 80/100]\tTime  2.993 ( 1.757)\tLoss 3.9314e+00 (4.2321e+00)\tAcc@1  23.20 ( 18.11)\tAcc@5  43.40 ( 39.18)\n",
      "Test: [ 90/100]\tTime  2.995 ( 1.747)\tLoss 4.3866e+00 (4.2455e+00)\tAcc@1  16.60 ( 17.87)\tAcc@5  34.40 ( 38.74)\n",
      " * Acc@1 18.470 Acc@5 39.594\n",
      "lr: 0.05\n",
      "Epoch: [1][   0/1282]\tTime  4.436 ( 4.436)\tData  3.721 ( 3.721)\tLoss 3.5231e+00 (3.5231e+00)\tAcc@1  27.00 ( 27.00)\tAcc@5  52.00 ( 52.00)\n",
      "Epoch: [1][  10/1282]\tTime  2.661 ( 1.920)\tData  1.944 ( 1.215)\tLoss 3.6332e+00 (3.5124e+00)\tAcc@1  26.20 ( 27.33)\tAcc@5  48.60 ( 51.07)\n",
      "Epoch: [1][  20/1282]\tTime  2.508 ( 1.780)\tData  1.794 ( 1.078)\tLoss 3.3309e+00 (3.4520e+00)\tAcc@1  30.00 ( 27.88)\tAcc@5  55.00 ( 52.56)\n",
      "Epoch: [1][  30/1282]\tTime  2.763 ( 1.749)\tData  2.043 ( 1.048)\tLoss 3.3284e+00 (3.4312e+00)\tAcc@1  29.60 ( 28.29)\tAcc@5  53.00 ( 53.14)\n",
      "Epoch: [1][  40/1282]\tTime  2.652 ( 1.732)\tData  1.906 ( 1.031)\tLoss 3.3980e+00 (3.4232e+00)\tAcc@1  30.60 ( 28.46)\tAcc@5  55.00 ( 53.27)\n",
      "Epoch: [1][  50/1282]\tTime  2.239 ( 1.710)\tData  1.562 ( 1.011)\tLoss 3.4100e+00 (3.4054e+00)\tAcc@1  30.80 ( 28.77)\tAcc@5  55.20 ( 53.44)\n",
      "Epoch: [1][  60/1282]\tTime  1.500 ( 1.697)\tData  0.822 ( 1.000)\tLoss 3.3353e+00 (3.3877e+00)\tAcc@1  32.20 ( 28.99)\tAcc@5  56.40 ( 53.85)\n",
      "Epoch: [1][  70/1282]\tTime  1.500 ( 1.689)\tData  0.822 ( 0.995)\tLoss 3.3561e+00 (3.3808e+00)\tAcc@1  29.80 ( 29.03)\tAcc@5  55.20 ( 54.06)\n",
      "Epoch: [1][  80/1282]\tTime  0.778 ( 1.678)\tData  0.099 ( 0.985)\tLoss 3.3317e+00 (3.3750e+00)\tAcc@1  30.00 ( 29.09)\tAcc@5  52.60 ( 54.22)\n",
      "Epoch: [1][  90/1282]\tTime  0.780 ( 1.677)\tData  0.101 ( 0.984)\tLoss 3.1071e+00 (3.3651e+00)\tAcc@1  32.40 ( 29.21)\tAcc@5  58.60 ( 54.40)\n",
      "Epoch: [1][ 100/1282]\tTime  0.780 ( 1.676)\tData  0.100 ( 0.982)\tLoss 3.3688e+00 (3.3565e+00)\tAcc@1  29.40 ( 29.35)\tAcc@5  53.00 ( 54.57)\n",
      "Epoch: [1][ 110/1282]\tTime  0.685 ( 1.675)\tData  0.002 ( 0.980)\tLoss 3.1380e+00 (3.3518e+00)\tAcc@1  34.80 ( 29.44)\tAcc@5  58.80 ( 54.64)\n",
      "Epoch: [1][ 120/1282]\tTime  0.684 ( 1.670)\tData  0.002 ( 0.975)\tLoss 3.3781e+00 (3.3457e+00)\tAcc@1  29.60 ( 29.54)\tAcc@5  53.60 ( 54.77)\n",
      "Epoch: [1][ 130/1282]\tTime  0.832 ( 1.669)\tData  0.155 ( 0.974)\tLoss 3.2498e+00 (3.3418e+00)\tAcc@1  35.20 ( 29.61)\tAcc@5  58.00 ( 54.82)\n",
      "Epoch: [1][ 140/1282]\tTime  0.777 ( 1.670)\tData  0.101 ( 0.974)\tLoss 3.1167e+00 (3.3316e+00)\tAcc@1  31.40 ( 29.75)\tAcc@5  58.00 ( 54.96)\n",
      "Epoch: [1][ 150/1282]\tTime  0.682 ( 1.671)\tData  0.003 ( 0.974)\tLoss 3.2931e+00 (3.3233e+00)\tAcc@1  29.60 ( 29.89)\tAcc@5  55.40 ( 55.15)\n",
      "Epoch: [1][ 160/1282]\tTime  0.684 ( 1.673)\tData  0.003 ( 0.976)\tLoss 3.1277e+00 (3.3181e+00)\tAcc@1  32.00 ( 29.94)\tAcc@5  58.40 ( 55.27)\n",
      "Epoch: [1][ 170/1282]\tTime  0.678 ( 1.672)\tData  0.003 ( 0.975)\tLoss 3.3448e+00 (3.3120e+00)\tAcc@1  28.60 ( 30.02)\tAcc@5  54.00 ( 55.36)\n",
      "Epoch: [1][ 180/1282]\tTime  0.683 ( 1.670)\tData  0.002 ( 0.973)\tLoss 3.1771e+00 (3.3065e+00)\tAcc@1  32.60 ( 30.15)\tAcc@5  55.60 ( 55.45)\n",
      "Epoch: [1][ 190/1282]\tTime  0.907 ( 1.669)\tData  0.228 ( 0.972)\tLoss 3.2173e+00 (3.3029e+00)\tAcc@1  30.80 ( 30.17)\tAcc@5  57.20 ( 55.51)\n",
      "Epoch: [1][ 200/1282]\tTime  1.179 ( 1.669)\tData  0.503 ( 0.972)\tLoss 3.1715e+00 (3.2974e+00)\tAcc@1  30.60 ( 30.27)\tAcc@5  56.60 ( 55.62)\n",
      "Epoch: [1][ 210/1282]\tTime  1.285 ( 1.668)\tData  0.604 ( 0.972)\tLoss 3.2809e+00 (3.2934e+00)\tAcc@1  29.60 ( 30.33)\tAcc@5  55.80 ( 55.71)\n",
      "Epoch: [1][ 220/1282]\tTime  1.653 ( 1.668)\tData  0.976 ( 0.973)\tLoss 3.3392e+00 (3.2897e+00)\tAcc@1  28.60 ( 30.38)\tAcc@5  54.40 ( 55.79)\n",
      "Epoch: [1][ 230/1282]\tTime  1.625 ( 1.668)\tData  0.946 ( 0.973)\tLoss 3.3343e+00 (3.2864e+00)\tAcc@1  29.00 ( 30.44)\tAcc@5  56.80 ( 55.85)\n",
      "Epoch: [1][ 240/1282]\tTime  2.014 ( 1.669)\tData  1.333 ( 0.975)\tLoss 3.3462e+00 (3.2840e+00)\tAcc@1  28.80 ( 30.47)\tAcc@5  52.60 ( 55.84)\n",
      "Epoch: [1][ 250/1282]\tTime  2.283 ( 1.670)\tData  1.602 ( 0.977)\tLoss 3.1500e+00 (3.2788e+00)\tAcc@1  30.80 ( 30.55)\tAcc@5  58.00 ( 55.92)\n",
      "Epoch: [1][ 260/1282]\tTime  1.959 ( 1.670)\tData  1.278 ( 0.977)\tLoss 3.1291e+00 (3.2738e+00)\tAcc@1  32.80 ( 30.62)\tAcc@5  57.40 ( 56.00)\n",
      "Epoch: [1][ 270/1282]\tTime  1.807 ( 1.670)\tData  1.125 ( 0.977)\tLoss 3.1749e+00 (3.2698e+00)\tAcc@1  33.20 ( 30.70)\tAcc@5  58.20 ( 56.09)\n",
      "Epoch: [1][ 280/1282]\tTime  1.857 ( 1.669)\tData  1.174 ( 0.977)\tLoss 3.3133e+00 (3.2653e+00)\tAcc@1  29.60 ( 30.78)\tAcc@5  54.20 ( 56.18)\n",
      "Epoch: [1][ 290/1282]\tTime  2.455 ( 1.670)\tData  1.772 ( 0.978)\tLoss 3.2941e+00 (3.2613e+00)\tAcc@1  29.60 ( 30.82)\tAcc@5  54.40 ( 56.23)\n",
      "Epoch: [1][ 300/1282]\tTime  2.264 ( 1.669)\tData  1.587 ( 0.976)\tLoss 3.3094e+00 (3.2599e+00)\tAcc@1  30.60 ( 30.84)\tAcc@5  52.60 ( 56.21)\n",
      "Epoch: [1][ 310/1282]\tTime  2.420 ( 1.670)\tData  1.721 ( 0.977)\tLoss 2.9646e+00 (3.2563e+00)\tAcc@1  34.80 ( 30.89)\tAcc@5  61.20 ( 56.27)\n",
      "Epoch: [1][ 320/1282]\tTime  2.797 ( 1.671)\tData  2.060 ( 0.978)\tLoss 3.1252e+00 (3.2546e+00)\tAcc@1  33.80 ( 30.93)\tAcc@5  60.60 ( 56.30)\n",
      "Epoch: [1][ 330/1282]\tTime  2.498 ( 1.670)\tData  1.814 ( 0.977)\tLoss 3.1207e+00 (3.2519e+00)\tAcc@1  32.80 ( 30.97)\tAcc@5  58.20 ( 56.35)\n",
      "Epoch: [1][ 340/1282]\tTime  2.610 ( 1.670)\tData  1.893 ( 0.977)\tLoss 3.1021e+00 (3.2473e+00)\tAcc@1  34.00 ( 31.05)\tAcc@5  58.80 ( 56.43)\n",
      "Epoch: [1][ 350/1282]\tTime  2.737 ( 1.670)\tData  2.000 ( 0.976)\tLoss 3.1783e+00 (3.2435e+00)\tAcc@1  32.40 ( 31.10)\tAcc@5  58.80 ( 56.50)\n",
      "Epoch: [1][ 360/1282]\tTime  2.537 ( 1.669)\tData  1.831 ( 0.975)\tLoss 3.1603e+00 (3.2407e+00)\tAcc@1  33.00 ( 31.15)\tAcc@5  60.20 ( 56.56)\n",
      "Epoch: [1][ 370/1282]\tTime  2.488 ( 1.670)\tData  1.798 ( 0.976)\tLoss 3.0371e+00 (3.2372e+00)\tAcc@1  33.80 ( 31.20)\tAcc@5  60.20 ( 56.64)\n",
      "Epoch: [1][ 380/1282]\tTime  2.634 ( 1.669)\tData  1.891 ( 0.974)\tLoss 3.1002e+00 (3.2340e+00)\tAcc@1  33.00 ( 31.25)\tAcc@5  59.20 ( 56.71)\n",
      "Epoch: [1][ 390/1282]\tTime  2.856 ( 1.669)\tData  2.130 ( 0.974)\tLoss 3.2313e+00 (3.2316e+00)\tAcc@1  30.20 ( 31.28)\tAcc@5  57.00 ( 56.76)\n",
      "Epoch: [1][ 400/1282]\tTime  2.513 ( 1.669)\tData  1.801 ( 0.974)\tLoss 3.2130e+00 (3.2271e+00)\tAcc@1  30.60 ( 31.35)\tAcc@5  56.80 ( 56.86)\n",
      "Epoch: [1][ 410/1282]\tTime  2.719 ( 1.670)\tData  2.006 ( 0.975)\tLoss 3.2673e+00 (3.2242e+00)\tAcc@1  29.60 ( 31.41)\tAcc@5  56.80 ( 56.92)\n",
      "Epoch: [1][ 420/1282]\tTime  2.471 ( 1.670)\tData  1.788 ( 0.975)\tLoss 3.0732e+00 (3.2204e+00)\tAcc@1  35.20 ( 31.47)\tAcc@5  59.20 ( 56.99)\n"
     ]
    },
    {
     "name": "stdout",
     "output_type": "stream",
     "text": [
      "Epoch: [1][ 430/1282]\tTime  2.582 ( 1.669)\tData  1.864 ( 0.974)\tLoss 3.1829e+00 (3.2181e+00)\tAcc@1  31.00 ( 31.52)\tAcc@5  59.20 ( 57.05)\n",
      "Epoch: [1][ 440/1282]\tTime  2.590 ( 1.670)\tData  1.856 ( 0.974)\tLoss 3.1508e+00 (3.2153e+00)\tAcc@1  32.20 ( 31.56)\tAcc@5  58.20 ( 57.11)\n",
      "Epoch: [1][ 450/1282]\tTime  2.437 ( 1.670)\tData  1.759 ( 0.974)\tLoss 3.1292e+00 (3.2129e+00)\tAcc@1  34.20 ( 31.62)\tAcc@5  58.20 ( 57.14)\n",
      "Epoch: [1][ 460/1282]\tTime  2.658 ( 1.671)\tData  1.908 ( 0.975)\tLoss 3.1293e+00 (3.2096e+00)\tAcc@1  33.20 ( 31.66)\tAcc@5  58.40 ( 57.22)\n",
      "Epoch: [1][ 470/1282]\tTime  2.677 ( 1.671)\tData  1.924 ( 0.975)\tLoss 2.9390e+00 (3.2069e+00)\tAcc@1  34.20 ( 31.69)\tAcc@5  61.80 ( 57.26)\n",
      "Epoch: [1][ 480/1282]\tTime  2.769 ( 1.672)\tData  2.056 ( 0.976)\tLoss 3.0683e+00 (3.2039e+00)\tAcc@1  35.80 ( 31.74)\tAcc@5  59.60 ( 57.32)\n",
      "Epoch: [1][ 490/1282]\tTime  2.575 ( 1.672)\tData  1.847 ( 0.976)\tLoss 2.9745e+00 (3.2007e+00)\tAcc@1  37.40 ( 31.81)\tAcc@5  61.20 ( 57.36)\n",
      "Epoch: [1][ 500/1282]\tTime  2.954 ( 1.673)\tData  2.206 ( 0.977)\tLoss 3.2084e+00 (3.1984e+00)\tAcc@1  31.20 ( 31.84)\tAcc@5  58.00 ( 57.42)\n",
      "Epoch: [1][ 510/1282]\tTime  2.820 ( 1.673)\tData  2.104 ( 0.977)\tLoss 3.0305e+00 (3.1958e+00)\tAcc@1  35.80 ( 31.89)\tAcc@5  59.40 ( 57.46)\n",
      "Epoch: [1][ 520/1282]\tTime  2.663 ( 1.674)\tData  1.922 ( 0.977)\tLoss 2.8856e+00 (3.1928e+00)\tAcc@1  36.80 ( 31.94)\tAcc@5  64.20 ( 57.51)\n",
      "Epoch: [1][ 530/1282]\tTime  2.605 ( 1.673)\tData  1.876 ( 0.976)\tLoss 2.9279e+00 (3.1897e+00)\tAcc@1  36.00 ( 31.99)\tAcc@5  61.40 ( 57.56)\n",
      "Epoch: [1][ 540/1282]\tTime  2.694 ( 1.673)\tData  1.944 ( 0.976)\tLoss 3.0858e+00 (3.1872e+00)\tAcc@1  33.60 ( 32.02)\tAcc@5  61.60 ( 57.60)\n",
      "Epoch: [1][ 550/1282]\tTime  2.520 ( 1.673)\tData  1.783 ( 0.976)\tLoss 3.1924e+00 (3.1850e+00)\tAcc@1  31.40 ( 32.06)\tAcc@5  58.60 ( 57.65)\n",
      "Epoch: [1][ 560/1282]\tTime  2.723 ( 1.675)\tData  1.977 ( 0.977)\tLoss 3.0255e+00 (3.1826e+00)\tAcc@1  33.20 ( 32.08)\tAcc@5  63.00 ( 57.70)\n",
      "Epoch: [1][ 570/1282]\tTime  2.513 ( 1.674)\tData  1.823 ( 0.976)\tLoss 3.0248e+00 (3.1805e+00)\tAcc@1  34.60 ( 32.12)\tAcc@5  61.00 ( 57.74)\n",
      "Epoch: [1][ 580/1282]\tTime  2.598 ( 1.674)\tData  1.881 ( 0.976)\tLoss 3.0136e+00 (3.1779e+00)\tAcc@1  34.80 ( 32.16)\tAcc@5  58.00 ( 57.78)\n",
      "Epoch: [1][ 590/1282]\tTime  2.846 ( 1.674)\tData  2.114 ( 0.976)\tLoss 2.9981e+00 (3.1746e+00)\tAcc@1  34.40 ( 32.21)\tAcc@5  61.20 ( 57.83)\n",
      "Epoch: [1][ 600/1282]\tTime  2.480 ( 1.673)\tData  1.748 ( 0.975)\tLoss 3.2413e+00 (3.1719e+00)\tAcc@1  30.00 ( 32.25)\tAcc@5  57.40 ( 57.89)\n",
      "Epoch: [1][ 610/1282]\tTime  2.711 ( 1.673)\tData  1.968 ( 0.975)\tLoss 2.9642e+00 (3.1688e+00)\tAcc@1  35.60 ( 32.30)\tAcc@5  61.60 ( 57.94)\n",
      "Epoch: [1][ 620/1282]\tTime  2.749 ( 1.673)\tData  2.028 ( 0.975)\tLoss 2.9823e+00 (3.1661e+00)\tAcc@1  36.40 ( 32.35)\tAcc@5  62.20 ( 57.98)\n",
      "Epoch: [1][ 630/1282]\tTime  2.474 ( 1.673)\tData  1.746 ( 0.975)\tLoss 3.0917e+00 (3.1637e+00)\tAcc@1  36.60 ( 32.39)\tAcc@5  59.40 ( 58.03)\n",
      "Epoch: [1][ 640/1282]\tTime  2.677 ( 1.673)\tData  1.942 ( 0.975)\tLoss 3.0149e+00 (3.1615e+00)\tAcc@1  34.80 ( 32.43)\tAcc@5  62.20 ( 58.07)\n",
      "Epoch: [1][ 650/1282]\tTime  2.602 ( 1.673)\tData  1.870 ( 0.975)\tLoss 2.8553e+00 (3.1582e+00)\tAcc@1  37.20 ( 32.48)\tAcc@5  65.20 ( 58.12)\n",
      "Epoch: [1][ 660/1282]\tTime  2.349 ( 1.673)\tData  1.670 ( 0.975)\tLoss 3.1030e+00 (3.1549e+00)\tAcc@1  30.60 ( 32.53)\tAcc@5  57.40 ( 58.18)\n",
      "Epoch: [1][ 670/1282]\tTime  2.816 ( 1.673)\tData  2.093 ( 0.975)\tLoss 2.9015e+00 (3.1526e+00)\tAcc@1  35.20 ( 32.56)\tAcc@5  63.20 ( 58.23)\n",
      "Epoch: [1][ 680/1282]\tTime  2.593 ( 1.673)\tData  1.877 ( 0.975)\tLoss 3.0045e+00 (3.1507e+00)\tAcc@1  34.80 ( 32.59)\tAcc@5  57.60 ( 58.26)\n",
      "Epoch: [1][ 690/1282]\tTime  2.843 ( 1.674)\tData  2.108 ( 0.975)\tLoss 2.8594e+00 (3.1473e+00)\tAcc@1  36.80 ( 32.63)\tAcc@5  62.00 ( 58.32)\n",
      "Epoch: [1][ 700/1282]\tTime  2.417 ( 1.673)\tData  1.738 ( 0.974)\tLoss 2.9376e+00 (3.1444e+00)\tAcc@1  34.60 ( 32.67)\tAcc@5  60.80 ( 58.37)\n",
      "Epoch: [1][ 710/1282]\tTime  2.474 ( 1.673)\tData  1.795 ( 0.974)\tLoss 3.0007e+00 (3.1419e+00)\tAcc@1  35.20 ( 32.70)\tAcc@5  59.20 ( 58.41)\n",
      "Epoch: [1][ 720/1282]\tTime  2.511 ( 1.673)\tData  1.816 ( 0.974)\tLoss 2.9390e+00 (3.1391e+00)\tAcc@1  35.00 ( 32.75)\tAcc@5  64.20 ( 58.47)\n",
      "Epoch: [1][ 730/1282]\tTime  2.662 ( 1.673)\tData  1.910 ( 0.974)\tLoss 2.9971e+00 (3.1376e+00)\tAcc@1  35.40 ( 32.77)\tAcc@5  58.80 ( 58.49)\n",
      "Epoch: [1][ 740/1282]\tTime  2.919 ( 1.673)\tData  2.182 ( 0.974)\tLoss 2.9998e+00 (3.1350e+00)\tAcc@1  34.00 ( 32.81)\tAcc@5  61.80 ( 58.54)\n",
      "Epoch: [1][ 750/1282]\tTime  2.536 ( 1.674)\tData  1.812 ( 0.974)\tLoss 3.1651e+00 (3.1339e+00)\tAcc@1  33.80 ( 32.82)\tAcc@5  58.20 ( 58.56)\n",
      "Epoch: [1][ 760/1282]\tTime  2.688 ( 1.674)\tData  1.956 ( 0.974)\tLoss 2.8727e+00 (3.1308e+00)\tAcc@1  38.40 ( 32.88)\tAcc@5  63.20 ( 58.61)\n",
      "Epoch: [1][ 770/1282]\tTime  2.840 ( 1.673)\tData  2.089 ( 0.974)\tLoss 2.8918e+00 (3.1285e+00)\tAcc@1  36.80 ( 32.92)\tAcc@5  62.00 ( 58.67)\n",
      "Epoch: [1][ 780/1282]\tTime  2.699 ( 1.673)\tData  1.982 ( 0.974)\tLoss 2.9225e+00 (3.1258e+00)\tAcc@1  35.00 ( 32.96)\tAcc@5  62.20 ( 58.71)\n",
      "Epoch: [1][ 790/1282]\tTime  2.778 ( 1.673)\tData  2.043 ( 0.974)\tLoss 3.0760e+00 (3.1234e+00)\tAcc@1  29.80 ( 32.98)\tAcc@5  61.80 ( 58.75)\n",
      "Epoch: [1][ 800/1282]\tTime  2.648 ( 1.673)\tData  1.902 ( 0.974)\tLoss 2.8288e+00 (3.1207e+00)\tAcc@1  36.80 ( 33.02)\tAcc@5  59.00 ( 58.79)\n",
      "Epoch: [1][ 810/1282]\tTime  2.624 ( 1.674)\tData  1.908 ( 0.974)\tLoss 2.9205e+00 (3.1183e+00)\tAcc@1  35.20 ( 33.06)\tAcc@5  61.00 ( 58.83)\n",
      "Epoch: [1][ 820/1282]\tTime  2.654 ( 1.673)\tData  1.919 ( 0.974)\tLoss 2.7480e+00 (3.1149e+00)\tAcc@1  40.00 ( 33.12)\tAcc@5  65.60 ( 58.90)\n",
      "Epoch: [1][ 830/1282]\tTime  2.788 ( 1.673)\tData  2.056 ( 0.973)\tLoss 2.8259e+00 (3.1130e+00)\tAcc@1  38.80 ( 33.14)\tAcc@5  65.80 ( 58.93)\n",
      "Epoch: [1][ 840/1282]\tTime  2.671 ( 1.674)\tData  1.930 ( 0.974)\tLoss 2.9183e+00 (3.1106e+00)\tAcc@1  35.20 ( 33.19)\tAcc@5  63.60 ( 58.98)\n",
      "Epoch: [1][ 850/1282]\tTime  2.625 ( 1.673)\tData  1.908 ( 0.974)\tLoss 2.7757e+00 (3.1076e+00)\tAcc@1  39.20 ( 33.25)\tAcc@5  64.60 ( 59.04)\n",
      "Epoch: [1][ 860/1282]\tTime  2.532 ( 1.673)\tData  1.813 ( 0.973)\tLoss 2.9838e+00 (3.1050e+00)\tAcc@1  36.20 ( 33.30)\tAcc@5  61.80 ( 59.08)\n",
      "Epoch: [1][ 870/1282]\tTime  2.662 ( 1.673)\tData  1.941 ( 0.973)\tLoss 2.9230e+00 (3.1027e+00)\tAcc@1  36.60 ( 33.32)\tAcc@5  63.20 ( 59.11)\n",
      "Epoch: [1][ 880/1282]\tTime  3.286 ( 1.674)\tData  2.536 ( 0.974)\tLoss 2.8198e+00 (3.1001e+00)\tAcc@1  39.20 ( 33.36)\tAcc@5  65.40 ( 59.16)\n",
      "Epoch: [1][ 890/1282]\tTime  2.687 ( 1.674)\tData  1.945 ( 0.974)\tLoss 2.9094e+00 (3.0976e+00)\tAcc@1  34.80 ( 33.40)\tAcc@5  63.60 ( 59.21)\n",
      "Epoch: [1][ 900/1282]\tTime  2.806 ( 1.674)\tData  2.093 ( 0.974)\tLoss 2.9170e+00 (3.0952e+00)\tAcc@1  34.20 ( 33.43)\tAcc@5  60.40 ( 59.25)\n",
      "Epoch: [1][ 910/1282]\tTime  2.461 ( 1.674)\tData  1.782 ( 0.974)\tLoss 2.8521e+00 (3.0926e+00)\tAcc@1  33.60 ( 33.48)\tAcc@5  63.00 ( 59.29)\n",
      "Epoch: [1][ 920/1282]\tTime  2.635 ( 1.674)\tData  1.916 ( 0.974)\tLoss 2.9959e+00 (3.0900e+00)\tAcc@1  36.80 ( 33.53)\tAcc@5  59.60 ( 59.33)\n",
      "Epoch: [1][ 930/1282]\tTime  2.773 ( 1.674)\tData  2.042 ( 0.974)\tLoss 2.9035e+00 (3.0873e+00)\tAcc@1  36.40 ( 33.57)\tAcc@5  62.60 ( 59.38)\n",
      "Epoch: [1][ 940/1282]\tTime  2.615 ( 1.673)\tData  1.895 ( 0.973)\tLoss 2.8417e+00 (3.0850e+00)\tAcc@1  38.80 ( 33.61)\tAcc@5  66.00 ( 59.43)\n",
      "Epoch: [1][ 950/1282]\tTime  2.544 ( 1.673)\tData  1.820 ( 0.973)\tLoss 2.6742e+00 (3.0824e+00)\tAcc@1  40.60 ( 33.65)\tAcc@5  64.80 ( 59.47)\n",
      "Epoch: [1][ 960/1282]\tTime  2.648 ( 1.673)\tData  1.914 ( 0.973)\tLoss 2.9388e+00 (3.0803e+00)\tAcc@1  35.60 ( 33.68)\tAcc@5  61.80 ( 59.51)\n",
      "Epoch: [1][ 970/1282]\tTime  2.495 ( 1.673)\tData  1.771 ( 0.973)\tLoss 2.8415e+00 (3.0783e+00)\tAcc@1  36.80 ( 33.71)\tAcc@5  65.20 ( 59.55)\n",
      "Epoch: [1][ 980/1282]\tTime  2.587 ( 1.673)\tData  1.856 ( 0.973)\tLoss 3.0179e+00 (3.0760e+00)\tAcc@1  35.80 ( 33.76)\tAcc@5  60.80 ( 59.59)\n",
      "Epoch: [1][ 990/1282]\tTime  3.049 ( 1.673)\tData  2.302 ( 0.973)\tLoss 2.8478e+00 (3.0739e+00)\tAcc@1  42.00 ( 33.80)\tAcc@5  62.80 ( 59.63)\n",
      "Epoch: [1][1000/1282]\tTime  2.512 ( 1.672)\tData  1.781 ( 0.972)\tLoss 2.9450e+00 (3.0718e+00)\tAcc@1  35.40 ( 33.83)\tAcc@5  62.60 ( 59.66)\n",
      "Epoch: [1][1010/1282]\tTime  2.743 ( 1.672)\tData  2.008 ( 0.972)\tLoss 2.8890e+00 (3.0695e+00)\tAcc@1  38.80 ( 33.86)\tAcc@5  62.40 ( 59.70)\n",
      "Epoch: [1][1020/1282]\tTime  2.475 ( 1.672)\tData  1.794 ( 0.972)\tLoss 2.8282e+00 (3.0672e+00)\tAcc@1  35.40 ( 33.90)\tAcc@5  64.40 ( 59.74)\n"
     ]
    },
    {
     "name": "stdout",
     "output_type": "stream",
     "text": [
      "Epoch: [1][1030/1282]\tTime  2.512 ( 1.673)\tData  1.796 ( 0.973)\tLoss 2.8795e+00 (3.0650e+00)\tAcc@1  36.20 ( 33.93)\tAcc@5  65.40 ( 59.78)\n",
      "Epoch: [1][1040/1282]\tTime  2.767 ( 1.673)\tData  2.047 ( 0.973)\tLoss 2.9928e+00 (3.0631e+00)\tAcc@1  34.40 ( 33.96)\tAcc@5  61.20 ( 59.82)\n",
      "Epoch: [1][1050/1282]\tTime  2.525 ( 1.673)\tData  1.801 ( 0.972)\tLoss 2.9927e+00 (3.0612e+00)\tAcc@1  38.60 ( 34.00)\tAcc@5  62.20 ( 59.85)\n",
      "Epoch: [1][1060/1282]\tTime  2.502 ( 1.673)\tData  1.799 ( 0.972)\tLoss 2.7093e+00 (3.0588e+00)\tAcc@1  37.60 ( 34.03)\tAcc@5  66.40 ( 59.90)\n",
      "Epoch: [1][1070/1282]\tTime  2.814 ( 1.673)\tData  2.080 ( 0.972)\tLoss 2.7651e+00 (3.0566e+00)\tAcc@1  35.00 ( 34.06)\tAcc@5  66.20 ( 59.94)\n",
      "Epoch: [1][1080/1282]\tTime  2.693 ( 1.672)\tData  1.942 ( 0.972)\tLoss 2.7423e+00 (3.0545e+00)\tAcc@1  40.40 ( 34.10)\tAcc@5  66.40 ( 59.97)\n",
      "Epoch: [1][1090/1282]\tTime  2.513 ( 1.672)\tData  1.838 ( 0.972)\tLoss 2.7287e+00 (3.0525e+00)\tAcc@1  42.00 ( 34.13)\tAcc@5  64.80 ( 60.01)\n",
      "Epoch: [1][1100/1282]\tTime  2.546 ( 1.672)\tData  1.817 ( 0.972)\tLoss 2.7482e+00 (3.0502e+00)\tAcc@1  40.60 ( 34.18)\tAcc@5  66.00 ( 60.05)\n",
      "Epoch: [1][1110/1282]\tTime  2.635 ( 1.672)\tData  1.917 ( 0.972)\tLoss 2.8029e+00 (3.0479e+00)\tAcc@1  36.80 ( 34.21)\tAcc@5  64.20 ( 60.09)\n",
      "Epoch: [1][1120/1282]\tTime  2.815 ( 1.672)\tData  2.077 ( 0.971)\tLoss 2.8215e+00 (3.0457e+00)\tAcc@1  34.40 ( 34.23)\tAcc@5  64.20 ( 60.12)\n",
      "Epoch: [1][1130/1282]\tTime  2.680 ( 1.672)\tData  1.939 ( 0.972)\tLoss 2.7185e+00 (3.0434e+00)\tAcc@1  40.20 ( 34.28)\tAcc@5  65.00 ( 60.17)\n",
      "Epoch: [1][1140/1282]\tTime  2.515 ( 1.672)\tData  1.836 ( 0.971)\tLoss 2.8394e+00 (3.0412e+00)\tAcc@1  35.80 ( 34.31)\tAcc@5  64.80 ( 60.20)\n",
      "Epoch: [1][1150/1282]\tTime  2.565 ( 1.672)\tData  1.835 ( 0.971)\tLoss 2.7305e+00 (3.0388e+00)\tAcc@1  39.40 ( 34.35)\tAcc@5  65.40 ( 60.25)\n",
      "Epoch: [1][1160/1282]\tTime  2.796 ( 1.672)\tData  2.055 ( 0.971)\tLoss 2.6790e+00 (3.0360e+00)\tAcc@1  40.20 ( 34.39)\tAcc@5  67.60 ( 60.30)\n",
      "Epoch: [1][1170/1282]\tTime  2.697 ( 1.672)\tData  1.960 ( 0.971)\tLoss 2.6251e+00 (3.0333e+00)\tAcc@1  42.60 ( 34.43)\tAcc@5  67.20 ( 60.34)\n",
      "Epoch: [1][1180/1282]\tTime  2.104 ( 1.671)\tData  1.426 ( 0.970)\tLoss 2.8818e+00 (3.0311e+00)\tAcc@1  33.80 ( 34.46)\tAcc@5  65.80 ( 60.38)\n",
      "Epoch: [1][1190/1282]\tTime  2.033 ( 1.671)\tData  1.353 ( 0.968)\tLoss 2.8284e+00 (3.0287e+00)\tAcc@1  38.40 ( 34.50)\tAcc@5  64.40 ( 60.42)\n",
      "Epoch: [1][1200/1282]\tTime  2.409 ( 1.671)\tData  1.728 ( 0.966)\tLoss 2.6214e+00 (3.0264e+00)\tAcc@1  43.40 ( 34.55)\tAcc@5  67.80 ( 60.46)\n",
      "Epoch: [1][1210/1282]\tTime  2.407 ( 1.671)\tData  1.728 ( 0.966)\tLoss 2.7749e+00 (3.0243e+00)\tAcc@1  38.20 ( 34.59)\tAcc@5  64.00 ( 60.50)\n",
      "Epoch: [1][1220/1282]\tTime  2.318 ( 1.671)\tData  1.635 ( 0.966)\tLoss 2.7847e+00 (3.0221e+00)\tAcc@1  41.00 ( 34.63)\tAcc@5  63.40 ( 60.54)\n",
      "Epoch: [1][1230/1282]\tTime  2.384 ( 1.671)\tData  1.700 ( 0.966)\tLoss 2.7828e+00 (3.0200e+00)\tAcc@1  35.80 ( 34.66)\tAcc@5  65.60 ( 60.58)\n",
      "Epoch: [1][1240/1282]\tTime  2.228 ( 1.671)\tData  1.548 ( 0.966)\tLoss 2.8328e+00 (3.0178e+00)\tAcc@1  35.40 ( 34.69)\tAcc@5  63.80 ( 60.62)\n",
      "Epoch: [1][1250/1282]\tTime  2.299 ( 1.671)\tData  1.620 ( 0.966)\tLoss 2.7661e+00 (3.0156e+00)\tAcc@1  39.60 ( 34.73)\tAcc@5  66.40 ( 60.65)\n",
      "Epoch: [1][1260/1282]\tTime  2.242 ( 1.671)\tData  1.561 ( 0.966)\tLoss 2.5627e+00 (3.0135e+00)\tAcc@1  43.20 ( 34.76)\tAcc@5  70.00 ( 60.69)\n",
      "Epoch: [1][1270/1282]\tTime  2.238 ( 1.671)\tData  1.560 ( 0.967)\tLoss 2.4949e+00 (3.0111e+00)\tAcc@1  43.80 ( 34.80)\tAcc@5  71.20 ( 60.74)\n",
      "Epoch: [1][1280/1282]\tTime  2.363 ( 1.671)\tData  1.685 ( 0.967)\tLoss 2.7091e+00 (3.0089e+00)\tAcc@1  40.00 ( 34.84)\tAcc@5  65.00 ( 60.77)\n",
      "Test: [  0/100]\tTime  4.481 ( 4.481)\tLoss 2.2724e+00 (2.2724e+00)\tAcc@1  44.00 ( 44.00)\tAcc@5  76.00 ( 76.00)\n",
      "Test: [ 10/100]\tTime  2.988 ( 1.991)\tLoss 2.4043e+00 (2.8740e+00)\tAcc@1  47.60 ( 37.35)\tAcc@5  72.40 ( 64.11)\n",
      "Test: [ 20/100]\tTime  2.846 ( 1.854)\tLoss 2.6047e+00 (2.8327e+00)\tAcc@1  31.00 ( 35.78)\tAcc@5  69.20 ( 64.16)\n",
      "Test: [ 30/100]\tTime  2.926 ( 1.803)\tLoss 2.5772e+00 (2.7721e+00)\tAcc@1  42.20 ( 35.82)\tAcc@5  66.20 ( 65.08)\n",
      "Test: [ 40/100]\tTime  2.855 ( 1.792)\tLoss 2.7923e+00 (2.7790e+00)\tAcc@1  39.40 ( 36.37)\tAcc@5  65.80 ( 64.80)\n",
      "Test: [ 50/100]\tTime  2.898 ( 1.781)\tLoss 3.9063e+00 (2.9267e+00)\tAcc@1  21.00 ( 34.66)\tAcc@5  42.60 ( 62.20)\n",
      "Test: [ 60/100]\tTime  2.834 ( 1.776)\tLoss 3.4097e+00 (2.9871e+00)\tAcc@1  32.80 ( 34.19)\tAcc@5  54.20 ( 61.12)\n",
      "Test: [ 70/100]\tTime  3.037 ( 1.764)\tLoss 3.5641e+00 (3.0489e+00)\tAcc@1  26.40 ( 33.51)\tAcc@5  54.00 ( 60.16)\n",
      "Test: [ 80/100]\tTime  3.062 ( 1.756)\tLoss 3.1252e+00 (3.0973e+00)\tAcc@1  37.40 ( 33.22)\tAcc@5  56.60 ( 59.31)\n",
      "Test: [ 90/100]\tTime  2.920 ( 1.745)\tLoss 3.3970e+00 (3.1454e+00)\tAcc@1  31.40 ( 32.45)\tAcc@5  54.20 ( 58.50)\n",
      " * Acc@1 33.078 Acc@5 59.166\n",
      "lr: 0.0\n"
     ]
    }
   ],
   "source": [
    "for epoch in range(START_EPOCH, 2):\n",
    "#    adjust_learning_rate(optimizer, epoch)\n",
    "\n",
    "    # train for one epoch\n",
    "    train(train_loader, model, criterion, optimizer, epoch)\n",
    "\n",
    "    # evaluate on validation set\n",
    "    acc1 = validate(val_loader, model, criterion)\n",
    "\n",
    "    # remember best acc@1 and save checkpoint\n",
    "    is_best = acc1 > best_acc1\n",
    "    best_acc1 = max(acc1, best_acc1)\n",
    "\n",
    "\n",
    "    save_checkpoint({\n",
    "        'epoch': epoch + 1,\n",
    "        'arch': ARCH,\n",
    "        'state_dict': model.state_dict(),\n",
    "        'best_acc1': best_acc1,\n",
    "        'optimizer' : optimizer.state_dict(),\n",
    "    }, is_best)\n",
    "    \n",
    "    scheduler.step()\n",
    "    print('lr: ' + str(scheduler.get_last_lr()[0]))\n",
    "    \n",
    "    writer.add_scalar(\"lr\", scheduler.get_last_lr()[0], global_step = global_step)\n",
    "    \n",
    "    wandb.log({'lr': scheduler.get_last_lr()[0]})"
   ]
  },
  {
   "cell_type": "code",
   "execution_count": 44,
   "id": "fd4eea58",
   "metadata": {},
   "outputs": [
    {
     "data": {
      "text/html": [
       "\n",
       "      <iframe id=\"tensorboard-frame-91b7584a2265b1f5\" width=\"100%\" height=\"800\" frameborder=\"0\">\n",
       "      </iframe>\n",
       "      <script>\n",
       "        (function() {\n",
       "          const frame = document.getElementById(\"tensorboard-frame-91b7584a2265b1f5\");\n",
       "          const url = new URL(\"/\", window.location);\n",
       "          const port = 6006;\n",
       "          if (port) {\n",
       "            url.port = port;\n",
       "          }\n",
       "          frame.src = url;\n",
       "        })();\n",
       "      </script>\n",
       "    "
      ],
      "text/plain": [
       "<IPython.core.display.HTML object>"
      ]
     },
     "metadata": {},
     "output_type": "display_data"
    }
   ],
   "source": [
    "writer.close()\n",
    "%load_ext tensorboard\n",
    "%tensorboard --logdir=runs"
   ]
  },
  {
   "cell_type": "code",
   "execution_count": null,
   "id": "90579733",
   "metadata": {},
   "outputs": [],
   "source": []
  }
 ],
 "metadata": {
  "kernelspec": {
   "display_name": "Python 3 (ipykernel)",
   "language": "python",
   "name": "python3"
  },
  "language_info": {
   "codemirror_mode": {
    "name": "ipython",
    "version": 3
   },
   "file_extension": ".py",
   "mimetype": "text/x-python",
   "name": "python",
   "nbconvert_exporter": "python",
   "pygments_lexer": "ipython3",
   "version": "3.8.10"
  }
 },
 "nbformat": 4,
 "nbformat_minor": 5
}
